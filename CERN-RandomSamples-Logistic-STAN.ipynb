{
 "cells": [
  {
   "cell_type": "markdown",
   "metadata": {
    "tags": []
   },
   "source": [
    " ### Bayesian Statistics, Course Project \n",
    "# Kaggle challenge on particle physics\n",
    "# Logistic regression with STAN\n",
    "### Vanilla and Horseshoe implementations\n"
   ]
  },
  {
   "cell_type": "markdown",
   "metadata": {},
   "source": [
    "### Adrián Fernández Cid, Aitor Lucas Castellano, Marcos Moreno Blanco & Noel Rabella Gras\n",
    "### 28-06-2021"
   ]
  },
  {
   "cell_type": "markdown",
   "metadata": {},
   "source": [
    "***\n",
    "###### LaTeX macros\n",
    "$\\def\\prob{P}$\n",
    "$\\def\\argmax{\\operatorname{arg\\,max}}$\n",
    "$\\def\\argmin{\\operatorname{arg\\,min}}$\n",
    "$\\def\\borel{\\operatorname{Borel}}$\n",
    "$\\def\\cE{\\cal E}$\n",
    "$\\def\\cP{\\cal P}$\n",
    "$\\def\\R{\\mathbb{R}}$ \n",
    "$\\def\\N{\\mathbb{N}}$\n",
    "$\\def\\Z{\\mathbb{Z}}$\n",
    "$\\def\\Ee{\\operatorname{E}}$\n",
    "$\\def\\va{\\text{v.a.}}$\n",
    "$\\def\\var{\\operatorname{var}}$\n",
    "$\\def\\Var{\\operatorname{Var}}$\n",
    "$\\def\\cov{\\operatorname{cov}}$\n",
    "$\\def\\cor{\\operatorname{cor}}$\n",
    "$\\def\\binomdist{\\operatorname{Binom}}$\n",
    "$\\def\\berndist{\\operatorname{Ber}}$\n",
    "$\\def\\betabinomdist{\\operatorname{Beta-Binom}}$\n",
    "$\\def\\betadist{\\operatorname{Beta}}$\n",
    "$\\def\\cauchydist{\\operatorname{Cauchy}}$\n",
    "$\\def\\dexpdist{\\operatorname{DExp}}$\n",
    "$\\def\\expdist{\\operatorname{Exp}}$\n",
    "$\\def\\fdist{\\operatorname{F}}$\n",
    "$\\def\\gammadist{\\operatorname{Gamma}}$\n",
    "$\\def\\geomdist{\\operatorname{Geom}}$\n",
    "$\\def\\halfcauchydist{\\operatorname{Cauchy}^{+}}$\n",
    "$\\def\\hyperdist{\\operatorname{Hypergeom}}$\n",
    "$\\def\\hypergeomdist{\\operatorname{Hypergeom}}$\n",
    "$\\DeclareMathOperator{\\invgammadist}{IG}$\n",
    "$\\def\\laplacedist{\\operatorname{Laplace}}$\n",
    "$\\DeclareMathOperator{\\multinomialdist}{Multinomial}$\n",
    "$\\DeclareMathOperator{\\multinomdist}{Multinom}$\n",
    "$\\def\\normaldist{\\operatorname{N}}$\n",
    "$\\def\\poissondist{\\operatorname{Poisson}}$\n",
    "$\\def\\tdist{\\operatorname{t}}$\n",
    "$\\def\\unifdist{\\operatorname{Unif}}$\n",
    "$\\def\\xbar{\\kern1.3pt\\overline{\\kern-1.3pt x}}$\n",
    "$\\def\\Xbar{\\kern1.3pt\\overline{\\kern-1.3pt X}}$\n",
    "$\\def\\yhat{\\kern1.3pt\\hat{\\kern-1.3pt y}}$\n",
    "$\\def\\betahat{\\kern1.3pt\\hat{\\kern-1.3pt \\beta}}$\n",
    "$\\DeclareMathOperator{\\indica}{\\mathbb{1}}$\n",
    "$\\def\\CondTo{\\mathbin{|\\mskip0.5mu}}$\n",
    "$\\def\\eqdef{\\stackrel{\\text{def}}{\\mskip3mu=\\mskip3mu}}$\n",
    "***"
   ]
  },
  {
   "cell_type": "markdown",
   "metadata": {},
   "source": [
    "This code is mainly based on Marcos and Adrian's STAN implementation for the second assignment, which drew from (along with the corresponding video lectures) Week 10's *Regularisation-RidgeLASSOHorseshoe.eng.pdf* (for a proper understanding of Bayesian shrinkage priors as equivalent to frequentist regularisation techniques) and *Regression.03.01.Bayes.RidgeLASSO.STAN.ipynb* (for the implementation of shrinkage priors in STAN), as well as Week 12's *GLM.01.Logistic.Challenger.ipynb* (for the implementation of the logistic regression likelihood). We also retain some valuable insights on unbalanced classification and predictor selection and interaction we found on the Kaggle notebooks mentioned in the submitted code: we refer to it for further details."
   ]
  },
  {
   "cell_type": "markdown",
   "metadata": {},
   "source": [
    "## Outline\n",
    "### 1. Data exploration and preprocessing   \n",
    "### 2. Vanilla logistic regression with STAN\n",
    "#### 2.1. Modelling\n",
    "#### 2.2. Evaluation \n",
    "### 3. Introducing the Horseshoe shrinkage prior\n",
    "#### 3.1. Modelling\n",
    "#### 3.2. Evaluation "
   ]
  },
  {
   "cell_type": "markdown",
   "metadata": {},
   "source": [
    "## 1. Data exploration and preprocessing\n",
    "\n",
    "We have a tabular dataset with information on particle collisions recorded at the LHCb experiment at CERN, and the objective is to identify the presence of a specific process: **the decomposition of $B_0$ into $K^0$**. We therefore have a binary classification problem, in which the focus is placed on the pòsitive signal. This last point suggests we keep an eye on recall (also known as sensitivity) to maximise true postives.\n",
    "\n",
    "Since the meaning of the predictors is not obvious, we include their description here:\n",
    "\n",
    "**B_FDCHI2_OWNPV**: Flight distance of the B meson with respect to the primary vertex (point of proton-proton collision).\n",
    "\n",
    "**B_IPCHI2_OWNPV**: Impact parameter. Shortest distance between the B meson trajectory and the primary vertex.\n",
    "\n",
    "**B_PT**: B meson transverse momentum\n",
    "\n",
    "**PIMINUS** & **KPLUS PSEUDORAPIDITY**: Angle of the piminus and Kplus particles with respect to the beam axis.\n",
    "\n",
    "**KPLUS** & **PIMINUS P**: Kplus and piminus momentum.\n",
    "\n",
    "**KST_892_0_COSTHETAH**: K* helicity angle. Angle formed bewteen one of the particle products of K* (piminus or Kplus) and the B meson in the reference frame of the K* (rest frame)\n",
    "GAMMA_PT: photon transverse momentum.\n",
    "\n",
    "**KST_892_0_IP_OWNPV**: Impact parameter of K*, which corresponds to the shortest distance between the K* trajectory and the primary vertex.\n",
    "\n",
    "**B_OWNPV_CHI2**: Chi2 test of the primary vertex distribution.\n",
    "\n",
    "**KPLUS** & **PIMINUS IP_OWNPV**: Shortest distance between the Kplus or the piminus trajectory and the primary vertex.\n",
    "\n",
    "**B_DIRA_OWNPV**: Corresponds to the cosine of the angle formed by the momentum of the B meson and the vector formed between the initial (primary vertex) and final position (decay vertex) of the B meson.\n",
    "\n",
    "The data, published code and other details of the challenge are available at:\n",
    "https://www.kaggle.com/c/cernsignal/overview.\n",
    "\n"
   ]
  },
  {
   "cell_type": "code",
   "execution_count": 2,
   "metadata": {},
   "outputs": [
    {
     "name": "stderr",
     "output_type": "stream",
     "text": [
      "Loading required package: mcsm\n",
      "\n",
      "Loading required package: MASS\n",
      "\n",
      "Loading required package: coda\n",
      "\n",
      "Loading required package: bayesplot\n",
      "\n",
      "This is bayesplot version 1.8.0\n",
      "\n",
      "- Online documentation and vignettes at mc-stan.org/bayesplot\n",
      "\n",
      "- bayesplot theme set to bayesplot::theme_default()\n",
      "\n",
      "   * Does _not_ affect other ggplot2 plots\n",
      "\n",
      "   * See ?bayesplot_theme_set for details on theme setting\n",
      "\n",
      "Loading required package: dplyr\n",
      "\n",
      "\n",
      "Attaching package: ‘dplyr’\n",
      "\n",
      "\n",
      "The following object is masked from ‘package:MASS’:\n",
      "\n",
      "    select\n",
      "\n",
      "\n",
      "The following objects are masked from ‘package:stats’:\n",
      "\n",
      "    filter, lag\n",
      "\n",
      "\n",
      "The following objects are masked from ‘package:base’:\n",
      "\n",
      "    intersect, setdiff, setequal, union\n",
      "\n",
      "\n",
      "Loading required package: Epi\n",
      "\n",
      "Loading required package: corrplot\n",
      "\n",
      "corrplot 0.88 loaded\n",
      "\n",
      "Loading required package: rstan\n",
      "\n",
      "Loading required package: StanHeaders\n",
      "\n",
      "Loading required package: ggplot2\n",
      "\n",
      "rstan (Version 2.21.2, GitRev: 2e1f913d3ca3)\n",
      "\n",
      "For execution on a local, multicore CPU with excess RAM we recommend calling\n",
      "options(mc.cores = parallel::detectCores()).\n",
      "To avoid recompilation of unchanged Stan programs, we recommend calling\n",
      "rstan_options(auto_write = TRUE)\n",
      "\n",
      "\n",
      "Attaching package: ‘rstan’\n",
      "\n",
      "\n",
      "The following object is masked from ‘package:coda’:\n",
      "\n",
      "    traceplot\n",
      "\n",
      "\n",
      "Loading required package: pROC\n",
      "\n",
      "Type 'citation(\"pROC\")' for a citation.\n",
      "\n",
      "\n",
      "Attaching package: ‘pROC’\n",
      "\n",
      "\n",
      "The following objects are masked from ‘package:stats’:\n",
      "\n",
      "    cov, smooth, var\n",
      "\n",
      "\n",
      "Loading required package: unbalanced\n",
      "\n",
      "Loading required package: mlr\n",
      "\n",
      "Loading required package: ParamHelpers\n",
      "\n",
      "Warning message: 'mlr' is in 'maintenance-only' mode since July 2019.\n",
      "Future development will only happen in 'mlr3'\n",
      "(<https://mlr3.mlr-org.com>). Due to the focus on 'mlr3' there might be\n",
      "uncaught bugs meanwhile in {mlr} - please consider switching.\n",
      "\n",
      "Loading required package: foreach\n",
      "\n",
      "Loading required package: doParallel\n",
      "\n",
      "Loading required package: iterators\n",
      "\n",
      "Loading required package: parallel\n",
      "\n",
      "Loading required package: caret\n",
      "\n",
      "Loading required package: lattice\n",
      "\n",
      "\n",
      "Attaching package: ‘caret’\n",
      "\n",
      "\n",
      "The following object is masked from ‘package:mlr’:\n",
      "\n",
      "    train\n",
      "\n",
      "\n"
     ]
    }
   ],
   "source": [
    "# load required packages for the whole notebook\n",
    "require(mcsm)\n",
    "require(bayesplot)\n",
    "require(dplyr)\n",
    "#install.packages(\"Epi\",dependencies=TRUE,repos=\"https://cloud.r-project.org\")\n",
    "require(Epi)\n",
    "#install.packages(\"corrplot\",dependencies=TRUE,repos=\"https://cloud.r-project.org\")\n",
    "require(corrplot)\n",
    "#install.packages(\"R2jags\",dependencies=TRUE,repos=\"https://cloud.r-project.org\")\n",
    "require(rstan)\n",
    "#install.packages(\"pROC\",dependencies=TRUE,repos=\"https://cloud.r-project.org\")\n",
    "require(pROC)\n",
    "#install.packages(\"unbalanced\",dependencies=TRUE,repos=\"https://cloud.r-project.org\")\n",
    "require(unbalanced)\n",
    "require(caret)"
   ]
  },
  {
   "cell_type": "markdown",
   "metadata": {},
   "source": [
    "Load labelled dataset (we will only use this):"
   ]
  },
  {
   "cell_type": "code",
   "execution_count": 3,
   "metadata": {},
   "outputs": [
    {
     "data": {
      "text/html": [
       "<style>\n",
       ".list-inline {list-style: none; margin:0; padding: 0}\n",
       ".list-inline>li {display: inline-block}\n",
       ".list-inline>li:not(:last-child)::after {content: \"\\00b7\"; padding: 0 .5ex}\n",
       "</style>\n",
       "<ol class=list-inline><li>'Id'</li><li>'B_OWNPV_CHI2'</li><li>'B_IPCHI2_OWNPV'</li><li>'B_FDCHI2_OWNPV'</li><li>'B_DIRA_OWNPV'</li><li>'B_PT'</li><li>'Kst_892_0_IP_OWNPV'</li><li>'Kst_892_0_cosThetaH'</li><li>'Kplus_IP_OWNPV'</li><li>'Kplus_P'</li><li>'piminus_IP_OWNPV'</li><li>'piminus_P'</li><li>'gamma_PT'</li><li>'piminus_ETA'</li><li>'Kplus_ETA'</li><li>'BUTTER'</li><li>'signal'</li></ol>\n"
      ],
      "text/latex": [
       "\\begin{enumerate*}\n",
       "\\item 'Id'\n",
       "\\item 'B\\_OWNPV\\_CHI2'\n",
       "\\item 'B\\_IPCHI2\\_OWNPV'\n",
       "\\item 'B\\_FDCHI2\\_OWNPV'\n",
       "\\item 'B\\_DIRA\\_OWNPV'\n",
       "\\item 'B\\_PT'\n",
       "\\item 'Kst\\_892\\_0\\_IP\\_OWNPV'\n",
       "\\item 'Kst\\_892\\_0\\_cosThetaH'\n",
       "\\item 'Kplus\\_IP\\_OWNPV'\n",
       "\\item 'Kplus\\_P'\n",
       "\\item 'piminus\\_IP\\_OWNPV'\n",
       "\\item 'piminus\\_P'\n",
       "\\item 'gamma\\_PT'\n",
       "\\item 'piminus\\_ETA'\n",
       "\\item 'Kplus\\_ETA'\n",
       "\\item 'BUTTER'\n",
       "\\item 'signal'\n",
       "\\end{enumerate*}\n"
      ],
      "text/markdown": [
       "1. 'Id'\n",
       "2. 'B_OWNPV_CHI2'\n",
       "3. 'B_IPCHI2_OWNPV'\n",
       "4. 'B_FDCHI2_OWNPV'\n",
       "5. 'B_DIRA_OWNPV'\n",
       "6. 'B_PT'\n",
       "7. 'Kst_892_0_IP_OWNPV'\n",
       "8. 'Kst_892_0_cosThetaH'\n",
       "9. 'Kplus_IP_OWNPV'\n",
       "10. 'Kplus_P'\n",
       "11. 'piminus_IP_OWNPV'\n",
       "12. 'piminus_P'\n",
       "13. 'gamma_PT'\n",
       "14. 'piminus_ETA'\n",
       "15. 'Kplus_ETA'\n",
       "16. 'BUTTER'\n",
       "17. 'signal'\n",
       "\n",
       "\n"
      ],
      "text/plain": [
       " [1] \"Id\"                  \"B_OWNPV_CHI2\"        \"B_IPCHI2_OWNPV\"     \n",
       " [4] \"B_FDCHI2_OWNPV\"      \"B_DIRA_OWNPV\"        \"B_PT\"               \n",
       " [7] \"Kst_892_0_IP_OWNPV\"  \"Kst_892_0_cosThetaH\" \"Kplus_IP_OWNPV\"     \n",
       "[10] \"Kplus_P\"             \"piminus_IP_OWNPV\"    \"piminus_P\"          \n",
       "[13] \"gamma_PT\"            \"piminus_ETA\"         \"Kplus_ETA\"          \n",
       "[16] \"BUTTER\"              \"signal\"             "
      ]
     },
     "metadata": {},
     "output_type": "display_data"
    },
    {
     "name": "stdout",
     "output_type": "stream",
     "text": [
      "'data.frame':\t212662 obs. of  17 variables:\n",
      " $ Id                 : int  0 1 2 3 4 5 6 7 8 9 ...\n",
      " $ B_OWNPV_CHI2       : num  28.9 34.2 36.1 14.3 60.5 ...\n",
      " $ B_IPCHI2_OWNPV     : num  2.6625 0.0927 2.4424 6.3376 7.6328 ...\n",
      " $ B_FDCHI2_OWNPV     : num  2925 347 239 227 107 ...\n",
      " $ B_DIRA_OWNPV       : num  1 1 1 1 1 ...\n",
      " $ B_PT               : num  19086 6631 7741 6740 5556 ...\n",
      " $ Kst_892_0_IP_OWNPV : num  0.569 0.249 0.222 0.347 0.204 ...\n",
      " $ Kst_892_0_cosThetaH: num  -0.576 -0.616 0.249 0.592 0.656 ...\n",
      " $ Kplus_IP_OWNPV     : num  0.582 0.278 0.217 0.307 0.197 ...\n",
      " $ Kplus_P            : num  66851 39274 27757 10593 11801 ...\n",
      " $ piminus_IP_OWNPV   : num  0.638 0.149 0.25 0.401 0.223 ...\n",
      " $ piminus_P          : num  14298 11553 24081 11344 25941 ...\n",
      " $ gamma_PT           : num  7941 3905 4739 3309 4026 ...\n",
      " $ piminus_ETA        : num  2.63 3.29 3.43 2.29 3.29 ...\n",
      " $ Kplus_ETA          : num  2.68 3.09 3.12 2.2 3.28 ...\n",
      " $ BUTTER             : num  0.551 0.543 0.866 -0.443 -0.447 ...\n",
      " $ signal             : num  1 1 1 0 0 0 1 0 0 0 ...\n"
     ]
    }
   ],
   "source": [
    "train <- read.csv(\"data/train.csv\")\n",
    "names(train)\n",
    "str(train)"
   ]
  },
  {
   "cell_type": "markdown",
   "metadata": {},
   "source": [
    "There are no NA (not available) values:"
   ]
  },
  {
   "cell_type": "code",
   "execution_count": 4,
   "metadata": {},
   "outputs": [
    {
     "data": {
      "text/html": [
       "<style>\n",
       ".list-inline {list-style: none; margin:0; padding: 0}\n",
       ".list-inline>li {display: inline-block}\n",
       ".list-inline>li:not(:last-child)::after {content: \"\\00b7\"; padding: 0 .5ex}\n",
       "</style>\n",
       "<ol class=list-inline><li>212662</li><li>17</li></ol>\n"
      ],
      "text/latex": [
       "\\begin{enumerate*}\n",
       "\\item 212662\n",
       "\\item 17\n",
       "\\end{enumerate*}\n"
      ],
      "text/markdown": [
       "1. 212662\n",
       "2. 17\n",
       "\n",
       "\n"
      ],
      "text/plain": [
       "[1] 212662     17"
      ]
     },
     "metadata": {},
     "output_type": "display_data"
    },
    {
     "data": {
      "text/html": [
       "0"
      ],
      "text/latex": [
       "0"
      ],
      "text/markdown": [
       "0"
      ],
      "text/plain": [
       "[1] 0"
      ]
     },
     "metadata": {},
     "output_type": "display_data"
    },
    {
     "data": {
      "text/html": [
       "<style>\n",
       ".list-inline {list-style: none; margin:0; padding: 0}\n",
       ".list-inline>li {display: inline-block}\n",
       ".list-inline>li:not(:last-child)::after {content: \"\\00b7\"; padding: 0 .5ex}\n",
       "</style>\n",
       "<ol class=list-inline><li>212662</li><li>17</li></ol>\n"
      ],
      "text/latex": [
       "\\begin{enumerate*}\n",
       "\\item 212662\n",
       "\\item 17\n",
       "\\end{enumerate*}\n"
      ],
      "text/markdown": [
       "1. 212662\n",
       "2. 17\n",
       "\n",
       "\n"
      ],
      "text/plain": [
       "[1] 212662     17"
      ]
     },
     "metadata": {},
     "output_type": "display_data"
    },
    {
     "data": {
      "text/html": [
       "0"
      ],
      "text/latex": [
       "0"
      ],
      "text/markdown": [
       "0"
      ],
      "text/plain": [
       "[1] 0"
      ]
     },
     "metadata": {},
     "output_type": "display_data"
    }
   ],
   "source": [
    "dim(train)\n",
    "sum(is.na(train))\n",
    "train=na.omit(train)\n",
    "dim(train)\n",
    "sum(is.na(train))"
   ]
  },
  {
   "cell_type": "markdown",
   "metadata": {},
   "source": [
    "Remove **Id** (just an index) and **BUTTER** (an irrelevant column with butter consumption in Switzerland, purposely placed as a test). All other columns are numeric, so no need to factor any of them nor for a subsequent one-hot encoding."
   ]
  },
  {
   "cell_type": "code",
   "execution_count": 5,
   "metadata": {},
   "outputs": [
    {
     "name": "stdout",
     "output_type": "stream",
     "text": [
      "'data.frame':\t212662 obs. of  15 variables:\n",
      " $ B_OWNPV_CHI2       : num  28.9 34.2 36.1 14.3 60.5 ...\n",
      " $ B_IPCHI2_OWNPV     : num  2.6625 0.0927 2.4424 6.3376 7.6328 ...\n",
      " $ B_FDCHI2_OWNPV     : num  2925 347 239 227 107 ...\n",
      " $ B_DIRA_OWNPV       : num  1 1 1 1 1 ...\n",
      " $ B_PT               : num  19086 6631 7741 6740 5556 ...\n",
      " $ Kst_892_0_IP_OWNPV : num  0.569 0.249 0.222 0.347 0.204 ...\n",
      " $ Kst_892_0_cosThetaH: num  -0.576 -0.616 0.249 0.592 0.656 ...\n",
      " $ Kplus_IP_OWNPV     : num  0.582 0.278 0.217 0.307 0.197 ...\n",
      " $ Kplus_P            : num  66851 39274 27757 10593 11801 ...\n",
      " $ piminus_IP_OWNPV   : num  0.638 0.149 0.25 0.401 0.223 ...\n",
      " $ piminus_P          : num  14298 11553 24081 11344 25941 ...\n",
      " $ gamma_PT           : num  7941 3905 4739 3309 4026 ...\n",
      " $ piminus_ETA        : num  2.63 3.29 3.43 2.29 3.29 ...\n",
      " $ Kplus_ETA          : num  2.68 3.09 3.12 2.2 3.28 ...\n",
      " $ Response           : num  1 1 1 0 0 0 1 0 0 0 ...\n"
     ]
    }
   ],
   "source": [
    "data <- select(train, -Id\n",
    "               , -BUTTER\n",
    "              )\n",
    "# rename \"signal\" column to fit the rest of the code\n",
    "names(data)[names(data) == 'signal'] <- 'Response'\n",
    "str(data)"
   ]
  },
  {
   "cell_type": "markdown",
   "metadata": {},
   "source": [
    "The variable **B_DIRA_OWNPV** seems to have little variability and therefore contain little information. We won't remove it just yet, but this is something to keep in mind:"
   ]
  },
  {
   "cell_type": "code",
   "execution_count": 6,
   "metadata": {},
   "outputs": [
    {
     "data": {
      "text/plain": [
       "   Min. 1st Qu.  Median    Mean 3rd Qu.    Max. \n",
       " 0.9995  1.0000  1.0000  1.0000  1.0000  1.0000 "
      ]
     },
     "metadata": {},
     "output_type": "display_data"
    }
   ],
   "source": [
    "summary(data$B_DIRA_OWNPV)"
   ]
  },
  {
   "cell_type": "markdown",
   "metadata": {},
   "source": [
    "Note the signal (presence of the process of interest $\\equiv$ 1) is sparse:"
   ]
  },
  {
   "cell_type": "code",
   "execution_count": 7,
   "metadata": {},
   "outputs": [
    {
     "data": {
      "text/html": [
       "212662"
      ],
      "text/latex": [
       "212662"
      ],
      "text/markdown": [
       "212662"
      ],
      "text/plain": [
       "[1] 212662"
      ]
     },
     "metadata": {},
     "output_type": "display_data"
    },
    {
     "data": {
      "text/html": [
       "71030"
      ],
      "text/latex": [
       "71030"
      ],
      "text/markdown": [
       "71030"
      ],
      "text/plain": [
       "[1] 71030"
      ]
     },
     "metadata": {},
     "output_type": "display_data"
    },
    {
     "data": {
      "text/html": [
       "0.334"
      ],
      "text/latex": [
       "0.334"
      ],
      "text/markdown": [
       "0.334"
      ],
      "text/plain": [
       "[1] 0.334"
      ]
     },
     "metadata": {},
     "output_type": "display_data"
    }
   ],
   "source": [
    "n<-length(data$Response)\n",
    "n\n",
    "n1<-sum(data$Response)\n",
    "n1\n",
    "f<-n1/n\n",
    "round(f,3)\n"
   ]
  },
  {
   "cell_type": "markdown",
   "metadata": {},
   "source": [
    "This would have to be dealt with by giving a larger weight to the positive class, some resampling strategy (oversampling or undersampling techniques) to balance the data, or by a prior suitable for sparse signals such as the horseshoe (see **3. Introducing the Horseshoe shrinkage prior**). \n",
    "\n",
    "In the present case, as in the second assignment, JAGS (being an MCMC code) takes too long for the whole dataset, since it has to reevaluate the linear predictor $\\eta$ *for all samples at every iteration*. This simplifies the choice: it means we have to undersample the original dataset. This bears the disadvantage of reducing the information available to the model (albeit information we could not have realistically used in its entirety anyway), and the question now is how to make the subsample maximally informative.\n",
    "\n",
    "In this regard, the most obvious possibility is to randomly pick a perfectly balanced subset of data, effectively removing the imbalance problem: this is what we did in the second assignment, and what we will do in this notebook. Nevertheless, as we commented in the said assignment, this is not maximally informative, as a more sophisticated technique could pick a balanced subsample such that all its points be near the decision boundary, making the choice more informative that the previous random pick. We have been investigating ways to implement this, and we do so in **CERN-OSSSamples-Logistic-STAN.ipynb**: we decided to keep the random undersampling here to provide a benchmark. \n",
    "\n",
    "Note that we will no longer have imbalance, but we will still implement the horseshow below because of its posterior-shrinking properties (i.e. for predictor selection at modelling, even if they did not manifest in the previous assignment).\n",
    "\n",
    "The above being said, to undersample a balanced dataset we first have to separate positive-signal samples from the negative ones:"
   ]
  },
  {
   "cell_type": "code",
   "execution_count": 8,
   "metadata": {},
   "outputs": [
    {
     "data": {
      "text/html": [
       "<style>\n",
       ".list-inline {list-style: none; margin:0; padding: 0}\n",
       ".list-inline>li {display: inline-block}\n",
       ".list-inline>li:not(:last-child)::after {content: \"\\00b7\"; padding: 0 .5ex}\n",
       "</style>\n",
       "<ol class=list-inline><li>212662</li><li>15</li></ol>\n"
      ],
      "text/latex": [
       "\\begin{enumerate*}\n",
       "\\item 212662\n",
       "\\item 15\n",
       "\\end{enumerate*}\n"
      ],
      "text/markdown": [
       "1. 212662\n",
       "2. 15\n",
       "\n",
       "\n"
      ],
      "text/plain": [
       "[1] 212662     15"
      ]
     },
     "metadata": {},
     "output_type": "display_data"
    },
    {
     "data": {
      "text/html": [
       "<style>\n",
       ".list-inline {list-style: none; margin:0; padding: 0}\n",
       ".list-inline>li {display: inline-block}\n",
       ".list-inline>li:not(:last-child)::after {content: \"\\00b7\"; padding: 0 .5ex}\n",
       "</style>\n",
       "<ol class=list-inline><li>71030</li><li>15</li></ol>\n"
      ],
      "text/latex": [
       "\\begin{enumerate*}\n",
       "\\item 71030\n",
       "\\item 15\n",
       "\\end{enumerate*}\n"
      ],
      "text/markdown": [
       "1. 71030\n",
       "2. 15\n",
       "\n",
       "\n"
      ],
      "text/plain": [
       "[1] 71030    15"
      ]
     },
     "metadata": {},
     "output_type": "display_data"
    },
    {
     "data": {
      "text/html": [
       "<style>\n",
       ".list-inline {list-style: none; margin:0; padding: 0}\n",
       ".list-inline>li {display: inline-block}\n",
       ".list-inline>li:not(:last-child)::after {content: \"\\00b7\"; padding: 0 .5ex}\n",
       "</style>\n",
       "<ol class=list-inline><li>141632</li><li>15</li></ol>\n"
      ],
      "text/latex": [
       "\\begin{enumerate*}\n",
       "\\item 141632\n",
       "\\item 15\n",
       "\\end{enumerate*}\n"
      ],
      "text/markdown": [
       "1. 141632\n",
       "2. 15\n",
       "\n",
       "\n"
      ],
      "text/plain": [
       "[1] 141632     15"
      ]
     },
     "metadata": {},
     "output_type": "display_data"
    }
   ],
   "source": [
    "positives=subset(data, data$Response==1)\n",
    "negatives=subset(data, data$Response==0)\n",
    "\n",
    "dim(data)\n",
    "dim(positives)\n",
    "dim(negatives)\n",
    "#str(positives)"
   ]
  },
  {
   "cell_type": "markdown",
   "metadata": {},
   "source": [
    "For the sake of rigour, we take as large a subsample as we reasonably can (2000 samples takes a little more than 30 min to process with JAGS -which we do a total of 6 times-, so we settle for that number) and repeat the process another 2 times for consistency checks (all with a fixed seed, for reproducibility).\n",
    "\n",
    "To render the process more agile, we define a function that does the subsampling of the specified half-size *nh* and *seed*:"
   ]
  },
  {
   "cell_type": "code",
   "execution_count": 9,
   "metadata": {},
   "outputs": [],
   "source": [
    "subsample.balanced<-function(positives, negatives, nh, seed){\n",
    "    sample.hsize<-nh\n",
    "    set.seed(seed)   # for reproducibility\n",
    "    # positive subsamples\n",
    "    train.ind <- sample(seq_len(nrow(positives)),size = sample.hsize)  # Randomly (uniform dist) identifies the rows equal to sample size from  all the rows of data and stores the row number in train_ind\n",
    "    pos.sample.train <- positives[train.ind,] #creates the training dataset with row numbers stored in train.ind\n",
    "    pos.sample.test <- positives[-train.ind,]  # creates the test dataset excluding the row numbers mentioned in train.ind\n",
    "    #negative subsamples\n",
    "    train.ind <- sample(seq_len(nrow(negatives)),size = sample.hsize) \n",
    "    neg.sample.train <- negatives[train.ind,]\n",
    "    neg.sample.test <- negatives[-train.ind,]  \n",
    "    #final train and test subsets\n",
    "    train.subsample<-bind_rows(pos.sample.train, neg.sample.train)\n",
    "    test.subsample<-bind_rows(pos.sample.test, neg.sample.test)\n",
    "    return(list(\"train\"=train.subsample, \"test\"=test.subsample))\n",
    "    }"
   ]
  },
  {
   "cell_type": "markdown",
   "metadata": {},
   "source": [
    "And we take our 3 different subsamples:"
   ]
  },
  {
   "cell_type": "code",
   "execution_count": 10,
   "metadata": {},
   "outputs": [],
   "source": [
    "nh<-1000#50\n",
    "subsample.01 <- subsample.balanced(positives, negatives, nh=nh, seed=4)\n",
    "train.01<-subsample.01$train\n",
    "test.01<-subsample.01$test\n",
    "#str(train.01)\n",
    "#str(test.01)\n",
    "subsample.02 <- subsample.balanced(positives, negatives, nh=nh, seed=44)\n",
    "train.02<-subsample.02$train\n",
    "test.02<-subsample.02$test\n",
    "\n",
    "subsample.03 <- subsample.balanced(positives, negatives, nh=nh, seed=444)\n",
    "train.03<-subsample.03$train\n",
    "test.03<-subsample.03$test"
   ]
  },
  {
   "cell_type": "markdown",
   "metadata": {},
   "source": [
    "And format them for STAN:"
   ]
  },
  {
   "cell_type": "code",
   "execution_count": 11,
   "metadata": {},
   "outputs": [],
   "source": [
    "# Convert factors to one-hot indicators\n",
    "x.01<-model.matrix(Response~.,train.01)[,-1] #[,-1] to remove intercept intrduced by model.matrix\n",
    "y.01<-train.01$Response\n",
    "#check x.01 is indeed ohe'd (eg see \"Vehicle_Age\")\n",
    "#head(x.01)\n",
    "x.02<-model.matrix(Response~.,train.02)[,-1] \n",
    "y.02<-train.02$Response\n",
    "\n",
    "x.03<-model.matrix(Response~.,train.03)[,-1] \n",
    "y.03<-train.03$Response"
   ]
  },
  {
   "cell_type": "code",
   "execution_count": 12,
   "metadata": {},
   "outputs": [
    {
     "data": {
      "text/html": [
       "2000"
      ],
      "text/latex": [
       "2000"
      ],
      "text/markdown": [
       "2000"
      ],
      "text/plain": [
       "[1] 2000"
      ]
     },
     "metadata": {},
     "output_type": "display_data"
    },
    {
     "data": {
      "text/plain": [
       "y.01\n",
       "   0    1 \n",
       "1000 1000 "
      ]
     },
     "metadata": {},
     "output_type": "display_data"
    },
    {
     "data": {
      "text/html": [
       "0.5"
      ],
      "text/latex": [
       "0.5"
      ],
      "text/markdown": [
       "0.5"
      ],
      "text/plain": [
       "[1] 0.5"
      ]
     },
     "metadata": {},
     "output_type": "display_data"
    }
   ],
   "source": [
    "n<-length(y.01)\n",
    "n\n",
    "table(y.01)\n",
    "#summary(x).01\n",
    "n1<-sum(y.01)\n",
    "f<-n1/n\n",
    "round(f,3)"
   ]
  },
  {
   "cell_type": "markdown",
   "metadata": {},
   "source": [
    "As we have seen in class, non-standardised data yields instability, so let us standardise x. Again, for agility, we define a function to do it:"
   ]
  },
  {
   "cell_type": "code",
   "execution_count": 13,
   "metadata": {},
   "outputs": [],
   "source": [
    "standardise<-function(x){\n",
    "    #compute means of every column (2 for columns, 1 for rows)) of X\n",
    "    xm<-apply(x,2,mean)\n",
    "    # center each column by substracting its mean\n",
    "    xc<-sweep(x,2,xm,\"-\")\n",
    "    # get standard dev of columns of xc\n",
    "    xs<-apply(xc,2,sd)\n",
    "    # standardise xc by dividing each column by its sd\n",
    "    x0<-sweep(xc,2,xs,\"/\")\n",
    "    return(x0)}"
   ]
  },
  {
   "cell_type": "code",
   "execution_count": 14,
   "metadata": {},
   "outputs": [
    {
     "data": {
      "text/html": [
       "0"
      ],
      "text/latex": [
       "0"
      ],
      "text/markdown": [
       "0"
      ],
      "text/plain": [
       "[1] 0"
      ]
     },
     "metadata": {},
     "output_type": "display_data"
    },
    {
     "data": {
      "text/html": [
       "<style>\n",
       ".dl-inline {width: auto; margin:0; padding: 0}\n",
       ".dl-inline>dt, .dl-inline>dd {float: none; width: auto; display: inline-block}\n",
       ".dl-inline>dt::after {content: \":\\0020\"; padding-right: .5ex}\n",
       ".dl-inline>dt:not(:first-of-type) {padding-left: .5ex}\n",
       "</style><dl class=dl-inline><dt>B_OWNPV_CHI2</dt><dd>1</dd><dt>B_IPCHI2_OWNPV</dt><dd>1</dd><dt>B_FDCHI2_OWNPV</dt><dd>1</dd><dt>B_DIRA_OWNPV</dt><dd>1</dd><dt>B_PT</dt><dd>1</dd><dt>Kst_892_0_IP_OWNPV</dt><dd>1</dd><dt>Kst_892_0_cosThetaH</dt><dd>1</dd><dt>Kplus_IP_OWNPV</dt><dd>1</dd><dt>Kplus_P</dt><dd>1</dd><dt>piminus_IP_OWNPV</dt><dd>1</dd><dt>piminus_P</dt><dd>1</dd><dt>gamma_PT</dt><dd>1</dd><dt>piminus_ETA</dt><dd>1</dd><dt>Kplus_ETA</dt><dd>1</dd></dl>\n"
      ],
      "text/latex": [
       "\\begin{description*}\n",
       "\\item[B\\textbackslash{}\\_OWNPV\\textbackslash{}\\_CHI2] 1\n",
       "\\item[B\\textbackslash{}\\_IPCHI2\\textbackslash{}\\_OWNPV] 1\n",
       "\\item[B\\textbackslash{}\\_FDCHI2\\textbackslash{}\\_OWNPV] 1\n",
       "\\item[B\\textbackslash{}\\_DIRA\\textbackslash{}\\_OWNPV] 1\n",
       "\\item[B\\textbackslash{}\\_PT] 1\n",
       "\\item[Kst\\textbackslash{}\\_892\\textbackslash{}\\_0\\textbackslash{}\\_IP\\textbackslash{}\\_OWNPV] 1\n",
       "\\item[Kst\\textbackslash{}\\_892\\textbackslash{}\\_0\\textbackslash{}\\_cosThetaH] 1\n",
       "\\item[Kplus\\textbackslash{}\\_IP\\textbackslash{}\\_OWNPV] 1\n",
       "\\item[Kplus\\textbackslash{}\\_P] 1\n",
       "\\item[piminus\\textbackslash{}\\_IP\\textbackslash{}\\_OWNPV] 1\n",
       "\\item[piminus\\textbackslash{}\\_P] 1\n",
       "\\item[gamma\\textbackslash{}\\_PT] 1\n",
       "\\item[piminus\\textbackslash{}\\_ETA] 1\n",
       "\\item[Kplus\\textbackslash{}\\_ETA] 1\n",
       "\\end{description*}\n"
      ],
      "text/markdown": [
       "B_OWNPV_CHI2\n",
       ":   1B_IPCHI2_OWNPV\n",
       ":   1B_FDCHI2_OWNPV\n",
       ":   1B_DIRA_OWNPV\n",
       ":   1B_PT\n",
       ":   1Kst_892_0_IP_OWNPV\n",
       ":   1Kst_892_0_cosThetaH\n",
       ":   1Kplus_IP_OWNPV\n",
       ":   1Kplus_P\n",
       ":   1piminus_IP_OWNPV\n",
       ":   1piminus_P\n",
       ":   1gamma_PT\n",
       ":   1piminus_ETA\n",
       ":   1Kplus_ETA\n",
       ":   1\n",
       "\n"
      ],
      "text/plain": [
       "       B_OWNPV_CHI2      B_IPCHI2_OWNPV      B_FDCHI2_OWNPV        B_DIRA_OWNPV \n",
       "                  1                   1                   1                   1 \n",
       "               B_PT  Kst_892_0_IP_OWNPV Kst_892_0_cosThetaH      Kplus_IP_OWNPV \n",
       "                  1                   1                   1                   1 \n",
       "            Kplus_P    piminus_IP_OWNPV           piminus_P            gamma_PT \n",
       "                  1                   1                   1                   1 \n",
       "        piminus_ETA           Kplus_ETA \n",
       "                  1                   1 "
      ]
     },
     "metadata": {},
     "output_type": "display_data"
    }
   ],
   "source": [
    "x0.01<-standardise(x.01)\n",
    "x0.02<-standardise(x.02)\n",
    "x0.03<-standardise(x.03)\n",
    "#head(x0.01)\n",
    "# check that all vertical means of x0.01 are indeed 0\n",
    "round(max(abs(apply(x0.01,2,mean))),6) \n",
    "# check that indeed sd's of columns of x0.01 are 1\n",
    "round(apply(x0.01,2,sd), 5)"
   ]
  },
  {
   "cell_type": "markdown",
   "metadata": {},
   "source": [
    "The condition number $\\kappa$ is indeed much smaller after standardisation, meaning a more stable regression:"
   ]
  },
  {
   "cell_type": "code",
   "execution_count": 15,
   "metadata": {},
   "outputs": [
    {
     "data": {
      "text/html": [
       "1256224666.9"
      ],
      "text/latex": [
       "1256224666.9"
      ],
      "text/markdown": [
       "1256224666.9"
      ],
      "text/plain": [
       "[1] 1256224667"
      ]
     },
     "metadata": {},
     "output_type": "display_data"
    },
    {
     "data": {
      "text/html": [
       "15.3"
      ],
      "text/latex": [
       "15.3"
      ],
      "text/markdown": [
       "15.3"
      ],
      "text/plain": [
       "[1] 15.3"
      ]
     },
     "metadata": {},
     "output_type": "display_data"
    }
   ],
   "source": [
    "#have to take the intercept into account as well for the condition number\n",
    "x1.01<-cbind(rep(1,n),x.01)\n",
    "x01.01<-cbind(rep(1,n),x0.01)\n",
    "round(kappa(x1.01),1)\n",
    "round(kappa(x01.01),1)"
   ]
  },
  {
   "cell_type": "markdown",
   "metadata": {},
   "source": [
    "Another thing we should do is check the correlation between predictors (i.e. colinearity, which is invariant under centering and scaling). One should do it for all the available data, so we obtain a suitable dataframe:"
   ]
  },
  {
   "cell_type": "code",
   "execution_count": 16,
   "metadata": {},
   "outputs": [
    {
     "data": {
      "text/html": [
       "'Response'"
      ],
      "text/latex": [
       "'Response'"
      ],
      "text/markdown": [
       "'Response'"
      ],
      "text/plain": [
       "[1] \"Response\""
      ]
     },
     "metadata": {},
     "output_type": "display_data"
    }
   ],
   "source": [
    "colnames(data)[15]"
   ]
  },
  {
   "cell_type": "code",
   "execution_count": 17,
   "metadata": {},
   "outputs": [
    {
     "name": "stdout",
     "output_type": "stream",
     "text": [
      " num [1:212662, 1:15] 28.9 34.2 36.1 14.3 60.5 ...\n",
      " - attr(*, \"dimnames\")=List of 2\n",
      "  ..$ : chr [1:212662] \"1\" \"2\" \"3\" \"4\" ...\n",
      "  ..$ : chr [1:15] \"B_OWNPV_CHI2\" \"B_IPCHI2_OWNPV\" \"B_FDCHI2_OWNPV\" \"B_DIRA_OWNPV\" ...\n"
     ]
    }
   ],
   "source": [
    "x.corr<-model.matrix(Response~.,data)[,-1]\n",
    "cn<-colnames(x.corr)\n",
    "x.corr<-cbind(x.corr, data[, 15]) # add Response column\n",
    "colnames(x.corr)<-c(cn, \"Response\")\n",
    "str(x.corr)\n",
    "#head(x.corr)"
   ]
  },
  {
   "cell_type": "markdown",
   "metadata": {},
   "source": [
    "Note we have included the response in x.corr. this will give us a first hint of which predictors are most important for the classification. The plot of the correlation matrix is:"
   ]
  },
  {
   "cell_type": "code",
   "execution_count": 18,
   "metadata": {},
   "outputs": [
    {
     "data": {
      "image/png": "[encoded data removed]",
      "text/plain": [
       "Plot with title “”"
      ]
     },
     "metadata": {
      "image/png": {
       "height": 480,
       "width": 480
      }
     },
     "output_type": "display_data"
    }
   ],
   "source": [
    "options(repr.plot.width=8,repr.plot.height=8)\n",
    "corrplot(cor(x.corr), type=\"lower\", order=\"hclust\", tl.col=\"black\", tl.srt=45)"
   ]
  },
  {
   "cell_type": "markdown",
   "metadata": {},
   "source": [
    "Looks like we have remarkable positive correlation in the pairs **piminus_ETA/Kplus_ETA**, **B_PT/gamma_PT** and the triplet **piminus_IP_OWNPV/Kst_892_0_IP_OWNPV/Kplus_IP_OWNPV**, and negative correlation in the pairs **Kplus_P/Kst_892_0_cosThetaH**, **Kplus_IP_OWNPV/Kst_892_0_cosThetaH**, **B_DIRA_OWNPV/Kst_892_0_cosThetaH**, **B_DIRA_OWNPV/B_IPCHI2_OWNPV**, **B_PT/piminus_ETA** and **B_PT/Kplus_ETA**.\n",
    "\n",
    "Regarding the response, is has strong negative correlation with **Kst_892_0_cosThetaH** and with **B_IPCHI2_OWNPV**.\n",
    "\n",
    "The correlations between predictors that do not come from their contribution to determining the signal should in principle be picked out by the shrinkage prior, whose purpose is to cancel them by giving them vanishing coefficients."
   ]
  },
  {
   "cell_type": "markdown",
   "metadata": {},
   "source": [
    "## 2. Vanilla logistic regression with STAN"
   ]
  },
  {
   "cell_type": "markdown",
   "metadata": {},
   "source": [
    "### 2.1. Modelling"
   ]
  },
  {
   "cell_type": "markdown",
   "metadata": {},
   "source": [
    "We have decided to include this case for reference, so that we can better gauge the later contribution of the horseshoe.\n",
    "As in Week 12's *GLM.01.Logistic.Challenger.ipynb*, we have centered Gaussian priors for the logistic coefficients $\\beta_i$, all with $\\sigma = 10$, thus precision $\\tau = 0.01$ (the same we use in the horseshoe case for $\\beta_0$, for the sake of comparison). The likelihood of the logistic regression is, as seen in the mentioned notebook, a Bernoulli distribution with probability $p_i$ given by the logistic function. More graphically:\n",
    "\n",
    "$$\n",
    "    \\begin{array}{lclcll}\n",
    "        y_{i}           &\\sim    &Bern(p_i),&&&1\\leq i\\leq n,\\\\[0.2cm]\n",
    "         p_i &=      &\\operatorname{Logistic}(\\eta_i) =\\dfrac{\\exp(\\eta_i)}{1+\\exp(\\eta_i)},&&&1\\leq i\\leq n,\\\\[0.2cm]\n",
    "        \\eta_{i}         &=     &\\beta_{0}+x_{i\\,\\cdot\\,}\\cdot \\beta,\\mskip45mu  &&&1\\leq i\\leq n,\\\\[0.2cm]\n",
    "        \\beta_{j}        &\\sim   &\\normaldist(0,1.0E01), &&0\\leq j\\leq p,\\\\[0.2cm]\n",
    "    \\end{array}\n",
    "$$\n"
   ]
  },
  {
   "cell_type": "markdown",
   "metadata": {},
   "source": [
    "Define the STAN model (very similar to what we did with the Challenger data):"
   ]
  },
  {
   "cell_type": "code",
   "execution_count": 18,
   "metadata": {},
   "outputs": [],
   "source": [
    "model.string<-\"\n",
    "data {\n",
    "  int<lower=0> N;  \n",
    "  int<lower=0> p;\n",
    "  int<lower=0,upper=1> y[N];\n",
    "  matrix[N,p] X;\n",
    "}\n",
    "parameters {\n",
    "  vector[p] beta;\n",
    "}\n",
    "\n",
    "model {\n",
    "  for (n in 1:N)\n",
    "     y[n]~ bernoulli_logit( X[n,] * beta );\n",
    "}\""
   ]
  },
  {
   "cell_type": "code",
   "execution_count": 20,
   "metadata": {},
   "outputs": [
    {
     "name": "stdout",
     "output_type": "stream",
     "text": [
      "\n",
      "SAMPLING FOR MODEL '5ac535c69ad0c5d6f40a50e6be0c8087' NOW (CHAIN 1).\n",
      "Chain 1: \n",
      "Chain 1: Gradient evaluation took 0.00091 seconds\n",
      "Chain 1: 1000 transitions using 10 leapfrog steps per transition would take 9.1 seconds.\n",
      "Chain 1: Adjust your expectations accordingly!\n",
      "Chain 1: \n",
      "Chain 1: \n",
      "Chain 1: Iteration:     1 / 20000 [  0%]  (Warmup)\n",
      "Chain 1: Iteration:  2000 / 20000 [ 10%]  (Warmup)\n",
      "Chain 1: Iteration:  4000 / 20000 [ 20%]  (Warmup)\n",
      "Chain 1: Iteration:  5001 / 20000 [ 25%]  (Sampling)\n",
      "Chain 1: Iteration:  7000 / 20000 [ 35%]  (Sampling)\n",
      "Chain 1: Iteration:  9000 / 20000 [ 45%]  (Sampling)\n",
      "Chain 1: Iteration: 11000 / 20000 [ 55%]  (Sampling)\n",
      "Chain 1: Iteration: 13000 / 20000 [ 65%]  (Sampling)\n",
      "Chain 1: Iteration: 15000 / 20000 [ 75%]  (Sampling)\n",
      "Chain 1: Iteration: 17000 / 20000 [ 85%]  (Sampling)\n",
      "Chain 1: Iteration: 19000 / 20000 [ 95%]  (Sampling)\n",
      "Chain 1: Iteration: 20000 / 20000 [100%]  (Sampling)\n",
      "Chain 1: \n",
      "Chain 1:  Elapsed Time: 88.2062 seconds (Warm-up)\n",
      "Chain 1:                355.352 seconds (Sampling)\n",
      "Chain 1:                443.558 seconds (Total)\n",
      "Chain 1: \n"
     ]
    },
    {
     "data": {
      "text/plain": [
       "Time difference of 8.181272 mins"
      ]
     },
     "metadata": {},
     "output_type": "display_data"
    }
   ],
   "source": [
    "start.time <- Sys.time()\n",
    "\n",
    "sample.01 <- stan(model_code = model.string, data = data.01, iter = 20000,\n",
    "             chains = 1, verbose = FALSE, seed=101, warmup=5000)\n",
    "\n",
    "end.time <- Sys.time()\n",
    "time.taken <- end.time - start.time\n",
    "time.taken"
   ]
  },
  {
   "cell_type": "code",
   "execution_count": 21,
   "metadata": {},
   "outputs": [
    {
     "name": "stdout",
     "output_type": "stream",
     "text": [
      "\n",
      "SAMPLING FOR MODEL '5ac535c69ad0c5d6f40a50e6be0c8087' NOW (CHAIN 1).\n",
      "Chain 1: \n",
      "Chain 1: Gradient evaluation took 0.000492 seconds\n",
      "Chain 1: 1000 transitions using 10 leapfrog steps per transition would take 4.92 seconds.\n",
      "Chain 1: Adjust your expectations accordingly!\n",
      "Chain 1: \n",
      "Chain 1: \n",
      "Chain 1: Iteration:     1 / 20000 [  0%]  (Warmup)\n",
      "Chain 1: Iteration:  2000 / 20000 [ 10%]  (Warmup)\n",
      "Chain 1: Iteration:  4000 / 20000 [ 20%]  (Warmup)\n",
      "Chain 1: Iteration:  5001 / 20000 [ 25%]  (Sampling)\n",
      "Chain 1: Iteration:  7000 / 20000 [ 35%]  (Sampling)\n",
      "Chain 1: Iteration:  9000 / 20000 [ 45%]  (Sampling)\n",
      "Chain 1: Iteration: 11000 / 20000 [ 55%]  (Sampling)\n",
      "Chain 1: Iteration: 13000 / 20000 [ 65%]  (Sampling)\n",
      "Chain 1: Iteration: 15000 / 20000 [ 75%]  (Sampling)\n",
      "Chain 1: Iteration: 17000 / 20000 [ 85%]  (Sampling)\n",
      "Chain 1: Iteration: 19000 / 20000 [ 95%]  (Sampling)\n",
      "Chain 1: Iteration: 20000 / 20000 [100%]  (Sampling)\n",
      "Chain 1: \n",
      "Chain 1:  Elapsed Time: 87.3407 seconds (Warm-up)\n",
      "Chain 1:                415.347 seconds (Sampling)\n",
      "Chain 1:                502.688 seconds (Total)\n",
      "Chain 1: \n"
     ]
    },
    {
     "data": {
      "text/plain": [
       "Time difference of 2.697304 hours"
      ]
     },
     "metadata": {},
     "output_type": "display_data"
    }
   ],
   "source": [
    "start.time <- Sys.time()\n",
    "\n",
    "sample.02 <- stan(model_code = model.string, data = data.02, iter = 20000,\n",
    "             chains = 1, verbose = FALSE, seed=101, warmup=5000)\n",
    "\n",
    "end.time <- Sys.time()\n",
    "time.taken <- end.time - start.time\n",
    "time.taken"
   ]
  },
  {
   "cell_type": "code",
   "execution_count": 22,
   "metadata": {},
   "outputs": [
    {
     "name": "stdout",
     "output_type": "stream",
     "text": [
      "\n",
      "SAMPLING FOR MODEL '5ac535c69ad0c5d6f40a50e6be0c8087' NOW (CHAIN 1).\n",
      "Chain 1: \n",
      "Chain 1: Gradient evaluation took 0.001089 seconds\n",
      "Chain 1: 1000 transitions using 10 leapfrog steps per transition would take 10.89 seconds.\n",
      "Chain 1: Adjust your expectations accordingly!\n",
      "Chain 1: \n",
      "Chain 1: \n",
      "Chain 1: Iteration:     1 / 20000 [  0%]  (Warmup)\n",
      "Chain 1: Iteration:  2000 / 20000 [ 10%]  (Warmup)\n",
      "Chain 1: Iteration:  4000 / 20000 [ 20%]  (Warmup)\n",
      "Chain 1: Iteration:  5001 / 20000 [ 25%]  (Sampling)\n",
      "Chain 1: Iteration:  7000 / 20000 [ 35%]  (Sampling)\n",
      "Chain 1: Iteration:  9000 / 20000 [ 45%]  (Sampling)\n",
      "Chain 1: Iteration: 11000 / 20000 [ 55%]  (Sampling)\n",
      "Chain 1: Iteration: 13000 / 20000 [ 65%]  (Sampling)\n",
      "Chain 1: Iteration: 15000 / 20000 [ 75%]  (Sampling)\n",
      "Chain 1: Iteration: 17000 / 20000 [ 85%]  (Sampling)\n",
      "Chain 1: Iteration: 19000 / 20000 [ 95%]  (Sampling)\n",
      "Chain 1: Iteration: 20000 / 20000 [100%]  (Sampling)\n",
      "Chain 1: \n",
      "Chain 1:  Elapsed Time: 176.183 seconds (Warm-up)\n",
      "Chain 1:                584.836 seconds (Sampling)\n",
      "Chain 1:                761.019 seconds (Total)\n",
      "Chain 1: \n"
     ]
    },
    {
     "data": {
      "text/plain": [
       "Time difference of 19.981 mins"
      ]
     },
     "metadata": {},
     "output_type": "display_data"
    }
   ],
   "source": [
    "start.time <- Sys.time()\n",
    "\n",
    "sample.03 <- stan(model_code = model.string, data = data.03, iter = 20000,\n",
    "             chains = 1, verbose = FALSE, seed=101, warmup=5000)\n",
    "\n",
    "end.time <- Sys.time()\n",
    "time.taken <- end.time - start.time\n",
    "time.taken"
   ]
  },
  {
   "cell_type": "markdown",
   "metadata": {},
   "source": [
    "Visualise output:"
   ]
  },
  {
   "cell_type": "code",
   "execution_count": 23,
   "metadata": {},
   "outputs": [
    {
     "data": {
      "text/html": [
       "<dl>\n",
       "\t<dt>$summary</dt>\n",
       "\t\t<dd><table class=\"dataframe\">\n",
       "<caption>A matrix: 15 × 10 of type dbl</caption>\n",
       "<thead>\n",
       "\t<tr><th></th><th scope=col>mean</th><th scope=col>se_mean</th><th scope=col>sd</th><th scope=col>2.5%</th><th scope=col>25%</th><th scope=col>50%</th><th scope=col>75%</th><th scope=col>97.5%</th><th scope=col>n_eff</th><th scope=col>Rhat</th></tr>\n",
       "</thead>\n",
       "<tbody>\n",
       "\t<tr><th scope=row>beta[1]</th><td>-5.483654e-02</td><td>0.0003873179</td><td>0.05305817</td><td>-1.590604e-01</td><td>-9.056074e-02</td><td>-5.497076e-02</td><td>-1.884710e-02</td><td> 4.803373e-02</td><td>18765.903</td><td>0.9999487</td></tr>\n",
       "\t<tr><th scope=row>beta[2]</th><td>-6.388736e-01</td><td>0.0004645234</td><td>0.05837775</td><td>-7.553772e-01</td><td>-6.779504e-01</td><td>-6.384902e-01</td><td>-5.994469e-01</td><td>-5.258170e-01</td><td>15793.541</td><td>0.9999814</td></tr>\n",
       "\t<tr><th scope=row>beta[3]</th><td>-4.578002e-01</td><td>0.0013088890</td><td>0.17408590</td><td>-8.154244e-01</td><td>-5.730797e-01</td><td>-4.533035e-01</td><td>-3.375866e-01</td><td>-1.288375e-01</td><td>17689.744</td><td>1.0000520</td></tr>\n",
       "\t<tr><th scope=row>beta[4]</th><td> 2.121222e-02</td><td>0.0005172783</td><td>0.06446402</td><td>-1.031440e-01</td><td>-2.276923e-02</td><td> 2.090037e-02</td><td> 6.507028e-02</td><td> 1.485433e-01</td><td>15530.533</td><td>0.9999778</td></tr>\n",
       "\t<tr><th scope=row>beta[5]</th><td>-7.008528e-01</td><td>0.0021982779</td><td>0.19222820</td><td>-1.078889e+00</td><td>-8.301838e-01</td><td>-7.010495e-01</td><td>-5.707214e-01</td><td>-3.268853e-01</td><td> 7646.611</td><td>0.9999584</td></tr>\n",
       "\t<tr><th scope=row>beta[6]</th><td> 1.591059e-01</td><td>0.0045066417</td><td>0.41259269</td><td>-6.382790e-01</td><td>-1.224167e-01</td><td> 1.527218e-01</td><td> 4.336064e-01</td><td> 9.896784e-01</td><td> 8381.794</td><td>0.9999363</td></tr>\n",
       "\t<tr><th scope=row>beta[7]</th><td>-3.598267e-01</td><td>0.0010146858</td><td>0.10081377</td><td>-5.600617e-01</td><td>-4.269249e-01</td><td>-3.588611e-01</td><td>-2.916233e-01</td><td>-1.621938e-01</td><td> 9871.349</td><td>0.9999967</td></tr>\n",
       "\t<tr><th scope=row>beta[8]</th><td> 1.728472e-01</td><td>0.0030809406</td><td>0.28800269</td><td>-3.977149e-01</td><td>-2.273994e-02</td><td> 1.757157e-01</td><td> 3.696322e-01</td><td> 7.339324e-01</td><td> 8738.290</td><td>0.9999334</td></tr>\n",
       "\t<tr><th scope=row>beta[9]</th><td> 1.101157e+00</td><td>0.0014242014</td><td>0.13648859</td><td> 8.357657e-01</td><td> 1.008488e+00</td><td> 1.102157e+00</td><td> 1.192292e+00</td><td> 1.373932e+00</td><td> 9184.380</td><td>0.9999338</td></tr>\n",
       "\t<tr><th scope=row>beta[10]</th><td> 3.579732e-01</td><td>0.0021599454</td><td>0.21052597</td><td>-5.529358e-02</td><td> 2.156643e-01</td><td> 3.609333e-01</td><td> 5.017867e-01</td><td> 7.604750e-01</td><td> 9500.049</td><td>0.9999453</td></tr>\n",
       "\t<tr><th scope=row>beta[11]</th><td> 5.110132e-01</td><td>0.0012863202</td><td>0.12327666</td><td> 2.698305e-01</td><td> 4.287607e-01</td><td> 5.091837e-01</td><td> 5.945505e-01</td><td> 7.535089e-01</td><td> 9184.670</td><td>0.9999952</td></tr>\n",
       "\t<tr><th scope=row>beta[12]</th><td> 5.081189e-01</td><td>0.0017074170</td><td>0.15102944</td><td> 2.077793e-01</td><td> 4.063522e-01</td><td> 5.081674e-01</td><td> 6.086929e-01</td><td> 8.038661e-01</td><td> 7824.273</td><td>0.9999406</td></tr>\n",
       "\t<tr><th scope=row>beta[13]</th><td>-5.726908e-01</td><td>0.0013610880</td><td>0.14740842</td><td>-8.687703e-01</td><td>-6.719815e-01</td><td>-5.704989e-01</td><td>-4.736823e-01</td><td>-2.859991e-01</td><td>11729.303</td><td>1.0001021</td></tr>\n",
       "\t<tr><th scope=row>beta[14]</th><td>-6.878818e-01</td><td>0.0015100890</td><td>0.15343280</td><td>-9.975810e-01</td><td>-7.892759e-01</td><td>-6.858226e-01</td><td>-5.851600e-01</td><td>-3.902026e-01</td><td>10323.604</td><td>0.9999969</td></tr>\n",
       "\t<tr><th scope=row>lp__</th><td>-1.112054e+03</td><td>0.0340966406</td><td>2.65026701</td><td>-1.118045e+03</td><td>-1.113628e+03</td><td>-1.111735e+03</td><td>-1.110127e+03</td><td>-1.107789e+03</td><td> 6041.657</td><td>0.9999491</td></tr>\n",
       "</tbody>\n",
       "</table>\n",
       "</dd>\n",
       "\t<dt>$c_summary</dt>\n",
       "\t\t<dd><style>\n",
       ".list-inline {list-style: none; margin:0; padding: 0}\n",
       ".list-inline>li {display: inline-block}\n",
       ".list-inline>li:not(:last-child)::after {content: \"\\00b7\"; padding: 0 .5ex}\n",
       "</style>\n",
       "<ol class=list-inline><li>-0.0548365385153409</li><li>-0.63887359766033</li><li>-0.457800246227364</li><li>0.021212224503995</li><li>-0.700852808580294</li><li>0.159105883238023</li><li>-0.359826725131774</li><li>0.17284715520046</li><li>1.10115688142137</li><li>0.357973178693903</li><li>0.511013189271073</li><li>0.508118906929334</li><li>-0.572690820274418</li><li>-0.687881817424119</li><li>-1112.053879201</li><li>0.0530581747973255</li><li>0.0583777543896757</li><li>0.174085902654371</li><li>0.0644640219690972</li><li>0.192228201588027</li><li>0.41259269356174</li><li>0.100813768741441</li><li>0.288002692458271</li><li>0.136488588519871</li><li>0.210525974001698</li><li>0.123276663188388</li><li>0.151029436090039</li><li>0.14740842080963</li><li>0.153432800047344</li><li>2.65026701241845</li><li>-0.159060398124429</li><li>-0.755377226051157</li><li>-0.815424363870595</li><li>-0.103143998555666</li><li>-1.07888935489606</li><li>-0.638279002508196</li><li>-0.560061689219876</li><li>-0.397714860128256</li><li>0.835765670982971</li><li>-0.0552935810587563</li><li>0.269830522621439</li><li>0.207779261069399</li><li>-0.868770343692043</li><li>-0.997580996136532</li><li>-1118.04455764866</li><li>-0.0905607435744118</li><li>-0.67795042984344</li><li>-0.573079732205337</li><li>-0.0227692321703563</li><li>-0.830183832095466</li><li>-0.122416688466908</li><li>-0.426924889167929</li><li>-0.0227399441666777</li><li>1.0084884898139</li><li>0.215664334843668</li><li>0.428760738146255</li><li>0.406352222475452</li><li>-0.671981530004774</li><li>-0.789275880120907</li><li>-1113.62805283873</li><li>-0.0549707632804994</li><li>-0.638490245104268</li><li>-0.453303497816467</li><li>0.0209003661533775</li><li>-0.701049466005003</li><li>0.152721807488387</li><li>-0.35886106248931</li><li>0.175715683472921</li><li>1.1021567399315</li><li>0.360933339901848</li><li>0.509183660528765</li><li>0.50816740378548</li><li>-0.570498905315696</li><li>-0.685822601173907</li><li>-1111.7345578378</li><li>-0.0188471045606284</li><li>-0.599446902788242</li><li>-0.337586646388769</li><li>0.0650702825144927</li><li>-0.570721403666479</li><li>0.43360640258631</li><li>-0.291623290658881</li><li>0.369632246022217</li><li>1.19229191497508</li><li>0.50178666779012</li><li>0.594550513081561</li><li>0.608692898424946</li><li>-0.473682340687004</li><li>-0.585159998281304</li><li>-1110.1274439936</li><li>0.0480337339828127</li><li>-0.525816992252393</li><li>-0.128837531587524</li><li>0.14854333266444</li><li>-0.326885294862381</li><li>0.989678373091896</li><li>-0.162193785156104</li><li>0.733932415751838</li><li>1.37393175229591</li><li>0.760475024867517</li><li>0.75350887527813</li><li>0.80386612038801</li><li>-0.285999068382497</li><li>-0.390202584500645</li><li>-1107.78946522311</li></ol>\n",
       "</dd>\n",
       "</dl>\n"
      ],
      "text/latex": [
       "\\begin{description}\n",
       "\\item[\\$summary] A matrix: 15 × 10 of type dbl\n",
       "\\begin{tabular}{r|llllllllll}\n",
       "  & mean & se\\_mean & sd & 2.5\\% & 25\\% & 50\\% & 75\\% & 97.5\\% & n\\_eff & Rhat\\\\\n",
       "\\hline\n",
       "\tbeta{[}1{]} & -5.483654e-02 & 0.0003873179 & 0.05305817 & -1.590604e-01 & -9.056074e-02 & -5.497076e-02 & -1.884710e-02 &  4.803373e-02 & 18765.903 & 0.9999487\\\\\n",
       "\tbeta{[}2{]} & -6.388736e-01 & 0.0004645234 & 0.05837775 & -7.553772e-01 & -6.779504e-01 & -6.384902e-01 & -5.994469e-01 & -5.258170e-01 & 15793.541 & 0.9999814\\\\\n",
       "\tbeta{[}3{]} & -4.578002e-01 & 0.0013088890 & 0.17408590 & -8.154244e-01 & -5.730797e-01 & -4.533035e-01 & -3.375866e-01 & -1.288375e-01 & 17689.744 & 1.0000520\\\\\n",
       "\tbeta{[}4{]} &  2.121222e-02 & 0.0005172783 & 0.06446402 & -1.031440e-01 & -2.276923e-02 &  2.090037e-02 &  6.507028e-02 &  1.485433e-01 & 15530.533 & 0.9999778\\\\\n",
       "\tbeta{[}5{]} & -7.008528e-01 & 0.0021982779 & 0.19222820 & -1.078889e+00 & -8.301838e-01 & -7.010495e-01 & -5.707214e-01 & -3.268853e-01 &  7646.611 & 0.9999584\\\\\n",
       "\tbeta{[}6{]} &  1.591059e-01 & 0.0045066417 & 0.41259269 & -6.382790e-01 & -1.224167e-01 &  1.527218e-01 &  4.336064e-01 &  9.896784e-01 &  8381.794 & 0.9999363\\\\\n",
       "\tbeta{[}7{]} & -3.598267e-01 & 0.0010146858 & 0.10081377 & -5.600617e-01 & -4.269249e-01 & -3.588611e-01 & -2.916233e-01 & -1.621938e-01 &  9871.349 & 0.9999967\\\\\n",
       "\tbeta{[}8{]} &  1.728472e-01 & 0.0030809406 & 0.28800269 & -3.977149e-01 & -2.273994e-02 &  1.757157e-01 &  3.696322e-01 &  7.339324e-01 &  8738.290 & 0.9999334\\\\\n",
       "\tbeta{[}9{]} &  1.101157e+00 & 0.0014242014 & 0.13648859 &  8.357657e-01 &  1.008488e+00 &  1.102157e+00 &  1.192292e+00 &  1.373932e+00 &  9184.380 & 0.9999338\\\\\n",
       "\tbeta{[}10{]} &  3.579732e-01 & 0.0021599454 & 0.21052597 & -5.529358e-02 &  2.156643e-01 &  3.609333e-01 &  5.017867e-01 &  7.604750e-01 &  9500.049 & 0.9999453\\\\\n",
       "\tbeta{[}11{]} &  5.110132e-01 & 0.0012863202 & 0.12327666 &  2.698305e-01 &  4.287607e-01 &  5.091837e-01 &  5.945505e-01 &  7.535089e-01 &  9184.670 & 0.9999952\\\\\n",
       "\tbeta{[}12{]} &  5.081189e-01 & 0.0017074170 & 0.15102944 &  2.077793e-01 &  4.063522e-01 &  5.081674e-01 &  6.086929e-01 &  8.038661e-01 &  7824.273 & 0.9999406\\\\\n",
       "\tbeta{[}13{]} & -5.726908e-01 & 0.0013610880 & 0.14740842 & -8.687703e-01 & -6.719815e-01 & -5.704989e-01 & -4.736823e-01 & -2.859991e-01 & 11729.303 & 1.0001021\\\\\n",
       "\tbeta{[}14{]} & -6.878818e-01 & 0.0015100890 & 0.15343280 & -9.975810e-01 & -7.892759e-01 & -6.858226e-01 & -5.851600e-01 & -3.902026e-01 & 10323.604 & 0.9999969\\\\\n",
       "\tlp\\_\\_ & -1.112054e+03 & 0.0340966406 & 2.65026701 & -1.118045e+03 & -1.113628e+03 & -1.111735e+03 & -1.110127e+03 & -1.107789e+03 &  6041.657 & 0.9999491\\\\\n",
       "\\end{tabular}\n",
       "\n",
       "\\item[\\$c\\_summary] \\begin{enumerate*}\n",
       "\\item -0.0548365385153409\n",
       "\\item -0.63887359766033\n",
       "\\item -0.457800246227364\n",
       "\\item 0.021212224503995\n",
       "\\item -0.700852808580294\n",
       "\\item 0.159105883238023\n",
       "\\item -0.359826725131774\n",
       "\\item 0.17284715520046\n",
       "\\item 1.10115688142137\n",
       "\\item 0.357973178693903\n",
       "\\item 0.511013189271073\n",
       "\\item 0.508118906929334\n",
       "\\item -0.572690820274418\n",
       "\\item -0.687881817424119\n",
       "\\item -1112.053879201\n",
       "\\item 0.0530581747973255\n",
       "\\item 0.0583777543896757\n",
       "\\item 0.174085902654371\n",
       "\\item 0.0644640219690972\n",
       "\\item 0.192228201588027\n",
       "\\item 0.41259269356174\n",
       "\\item 0.100813768741441\n",
       "\\item 0.288002692458271\n",
       "\\item 0.136488588519871\n",
       "\\item 0.210525974001698\n",
       "\\item 0.123276663188388\n",
       "\\item 0.151029436090039\n",
       "\\item 0.14740842080963\n",
       "\\item 0.153432800047344\n",
       "\\item 2.65026701241845\n",
       "\\item -0.159060398124429\n",
       "\\item -0.755377226051157\n",
       "\\item -0.815424363870595\n",
       "\\item -0.103143998555666\n",
       "\\item -1.07888935489606\n",
       "\\item -0.638279002508196\n",
       "\\item -0.560061689219876\n",
       "\\item -0.397714860128256\n",
       "\\item 0.835765670982971\n",
       "\\item -0.0552935810587563\n",
       "\\item 0.269830522621439\n",
       "\\item 0.207779261069399\n",
       "\\item -0.868770343692043\n",
       "\\item -0.997580996136532\n",
       "\\item -1118.04455764866\n",
       "\\item -0.0905607435744118\n",
       "\\item -0.67795042984344\n",
       "\\item -0.573079732205337\n",
       "\\item -0.0227692321703563\n",
       "\\item -0.830183832095466\n",
       "\\item -0.122416688466908\n",
       "\\item -0.426924889167929\n",
       "\\item -0.0227399441666777\n",
       "\\item 1.0084884898139\n",
       "\\item 0.215664334843668\n",
       "\\item 0.428760738146255\n",
       "\\item 0.406352222475452\n",
       "\\item -0.671981530004774\n",
       "\\item -0.789275880120907\n",
       "\\item -1113.62805283873\n",
       "\\item -0.0549707632804994\n",
       "\\item -0.638490245104268\n",
       "\\item -0.453303497816467\n",
       "\\item 0.0209003661533775\n",
       "\\item -0.701049466005003\n",
       "\\item 0.152721807488387\n",
       "\\item -0.35886106248931\n",
       "\\item 0.175715683472921\n",
       "\\item 1.1021567399315\n",
       "\\item 0.360933339901848\n",
       "\\item 0.509183660528765\n",
       "\\item 0.50816740378548\n",
       "\\item -0.570498905315696\n",
       "\\item -0.685822601173907\n",
       "\\item -1111.7345578378\n",
       "\\item -0.0188471045606284\n",
       "\\item -0.599446902788242\n",
       "\\item -0.337586646388769\n",
       "\\item 0.0650702825144927\n",
       "\\item -0.570721403666479\n",
       "\\item 0.43360640258631\n",
       "\\item -0.291623290658881\n",
       "\\item 0.369632246022217\n",
       "\\item 1.19229191497508\n",
       "\\item 0.50178666779012\n",
       "\\item 0.594550513081561\n",
       "\\item 0.608692898424946\n",
       "\\item -0.473682340687004\n",
       "\\item -0.585159998281304\n",
       "\\item -1110.1274439936\n",
       "\\item 0.0480337339828127\n",
       "\\item -0.525816992252393\n",
       "\\item -0.128837531587524\n",
       "\\item 0.14854333266444\n",
       "\\item -0.326885294862381\n",
       "\\item 0.989678373091896\n",
       "\\item -0.162193785156104\n",
       "\\item 0.733932415751838\n",
       "\\item 1.37393175229591\n",
       "\\item 0.760475024867517\n",
       "\\item 0.75350887527813\n",
       "\\item 0.80386612038801\n",
       "\\item -0.285999068382497\n",
       "\\item -0.390202584500645\n",
       "\\item -1107.78946522311\n",
       "\\end{enumerate*}\n",
       "\n",
       "\\end{description}\n"
      ],
      "text/markdown": [
       "$summary\n",
       ":   \n",
       "A matrix: 15 × 10 of type dbl\n",
       "\n",
       "| <!--/--> | mean | se_mean | sd | 2.5% | 25% | 50% | 75% | 97.5% | n_eff | Rhat |\n",
       "|---|---|---|---|---|---|---|---|---|---|---|\n",
       "| beta[1] | -5.483654e-02 | 0.0003873179 | 0.05305817 | -1.590604e-01 | -9.056074e-02 | -5.497076e-02 | -1.884710e-02 |  4.803373e-02 | 18765.903 | 0.9999487 |\n",
       "| beta[2] | -6.388736e-01 | 0.0004645234 | 0.05837775 | -7.553772e-01 | -6.779504e-01 | -6.384902e-01 | -5.994469e-01 | -5.258170e-01 | 15793.541 | 0.9999814 |\n",
       "| beta[3] | -4.578002e-01 | 0.0013088890 | 0.17408590 | -8.154244e-01 | -5.730797e-01 | -4.533035e-01 | -3.375866e-01 | -1.288375e-01 | 17689.744 | 1.0000520 |\n",
       "| beta[4] |  2.121222e-02 | 0.0005172783 | 0.06446402 | -1.031440e-01 | -2.276923e-02 |  2.090037e-02 |  6.507028e-02 |  1.485433e-01 | 15530.533 | 0.9999778 |\n",
       "| beta[5] | -7.008528e-01 | 0.0021982779 | 0.19222820 | -1.078889e+00 | -8.301838e-01 | -7.010495e-01 | -5.707214e-01 | -3.268853e-01 |  7646.611 | 0.9999584 |\n",
       "| beta[6] |  1.591059e-01 | 0.0045066417 | 0.41259269 | -6.382790e-01 | -1.224167e-01 |  1.527218e-01 |  4.336064e-01 |  9.896784e-01 |  8381.794 | 0.9999363 |\n",
       "| beta[7] | -3.598267e-01 | 0.0010146858 | 0.10081377 | -5.600617e-01 | -4.269249e-01 | -3.588611e-01 | -2.916233e-01 | -1.621938e-01 |  9871.349 | 0.9999967 |\n",
       "| beta[8] |  1.728472e-01 | 0.0030809406 | 0.28800269 | -3.977149e-01 | -2.273994e-02 |  1.757157e-01 |  3.696322e-01 |  7.339324e-01 |  8738.290 | 0.9999334 |\n",
       "| beta[9] |  1.101157e+00 | 0.0014242014 | 0.13648859 |  8.357657e-01 |  1.008488e+00 |  1.102157e+00 |  1.192292e+00 |  1.373932e+00 |  9184.380 | 0.9999338 |\n",
       "| beta[10] |  3.579732e-01 | 0.0021599454 | 0.21052597 | -5.529358e-02 |  2.156643e-01 |  3.609333e-01 |  5.017867e-01 |  7.604750e-01 |  9500.049 | 0.9999453 |\n",
       "| beta[11] |  5.110132e-01 | 0.0012863202 | 0.12327666 |  2.698305e-01 |  4.287607e-01 |  5.091837e-01 |  5.945505e-01 |  7.535089e-01 |  9184.670 | 0.9999952 |\n",
       "| beta[12] |  5.081189e-01 | 0.0017074170 | 0.15102944 |  2.077793e-01 |  4.063522e-01 |  5.081674e-01 |  6.086929e-01 |  8.038661e-01 |  7824.273 | 0.9999406 |\n",
       "| beta[13] | -5.726908e-01 | 0.0013610880 | 0.14740842 | -8.687703e-01 | -6.719815e-01 | -5.704989e-01 | -4.736823e-01 | -2.859991e-01 | 11729.303 | 1.0001021 |\n",
       "| beta[14] | -6.878818e-01 | 0.0015100890 | 0.15343280 | -9.975810e-01 | -7.892759e-01 | -6.858226e-01 | -5.851600e-01 | -3.902026e-01 | 10323.604 | 0.9999969 |\n",
       "| lp__ | -1.112054e+03 | 0.0340966406 | 2.65026701 | -1.118045e+03 | -1.113628e+03 | -1.111735e+03 | -1.110127e+03 | -1.107789e+03 |  6041.657 | 0.9999491 |\n",
       "\n",
       "\n",
       "$c_summary\n",
       ":   1. -0.0548365385153409\n",
       "2. -0.63887359766033\n",
       "3. -0.457800246227364\n",
       "4. 0.021212224503995\n",
       "5. -0.700852808580294\n",
       "6. 0.159105883238023\n",
       "7. -0.359826725131774\n",
       "8. 0.17284715520046\n",
       "9. 1.10115688142137\n",
       "10. 0.357973178693903\n",
       "11. 0.511013189271073\n",
       "12. 0.508118906929334\n",
       "13. -0.572690820274418\n",
       "14. -0.687881817424119\n",
       "15. -1112.053879201\n",
       "16. 0.0530581747973255\n",
       "17. 0.0583777543896757\n",
       "18. 0.174085902654371\n",
       "19. 0.0644640219690972\n",
       "20. 0.192228201588027\n",
       "21. 0.41259269356174\n",
       "22. 0.100813768741441\n",
       "23. 0.288002692458271\n",
       "24. 0.136488588519871\n",
       "25. 0.210525974001698\n",
       "26. 0.123276663188388\n",
       "27. 0.151029436090039\n",
       "28. 0.14740842080963\n",
       "29. 0.153432800047344\n",
       "30. 2.65026701241845\n",
       "31. -0.159060398124429\n",
       "32. -0.755377226051157\n",
       "33. -0.815424363870595\n",
       "34. -0.103143998555666\n",
       "35. -1.07888935489606\n",
       "36. -0.638279002508196\n",
       "37. -0.560061689219876\n",
       "38. -0.397714860128256\n",
       "39. 0.835765670982971\n",
       "40. -0.0552935810587563\n",
       "41. 0.269830522621439\n",
       "42. 0.207779261069399\n",
       "43. -0.868770343692043\n",
       "44. -0.997580996136532\n",
       "45. -1118.04455764866\n",
       "46. -0.0905607435744118\n",
       "47. -0.67795042984344\n",
       "48. -0.573079732205337\n",
       "49. -0.0227692321703563\n",
       "50. -0.830183832095466\n",
       "51. -0.122416688466908\n",
       "52. -0.426924889167929\n",
       "53. -0.0227399441666777\n",
       "54. 1.0084884898139\n",
       "55. 0.215664334843668\n",
       "56. 0.428760738146255\n",
       "57. 0.406352222475452\n",
       "58. -0.671981530004774\n",
       "59. -0.789275880120907\n",
       "60. -1113.62805283873\n",
       "61. -0.0549707632804994\n",
       "62. -0.638490245104268\n",
       "63. -0.453303497816467\n",
       "64. 0.0209003661533775\n",
       "65. -0.701049466005003\n",
       "66. 0.152721807488387\n",
       "67. -0.35886106248931\n",
       "68. 0.175715683472921\n",
       "69. 1.1021567399315\n",
       "70. 0.360933339901848\n",
       "71. 0.509183660528765\n",
       "72. 0.50816740378548\n",
       "73. -0.570498905315696\n",
       "74. -0.685822601173907\n",
       "75. -1111.7345578378\n",
       "76. -0.0188471045606284\n",
       "77. -0.599446902788242\n",
       "78. -0.337586646388769\n",
       "79. 0.0650702825144927\n",
       "80. -0.570721403666479\n",
       "81. 0.43360640258631\n",
       "82. -0.291623290658881\n",
       "83. 0.369632246022217\n",
       "84. 1.19229191497508\n",
       "85. 0.50178666779012\n",
       "86. 0.594550513081561\n",
       "87. 0.608692898424946\n",
       "88. -0.473682340687004\n",
       "89. -0.585159998281304\n",
       "90. -1110.1274439936\n",
       "91. 0.0480337339828127\n",
       "92. -0.525816992252393\n",
       "93. -0.128837531587524\n",
       "94. 0.14854333266444\n",
       "95. -0.326885294862381\n",
       "96. 0.989678373091896\n",
       "97. -0.162193785156104\n",
       "98. 0.733932415751838\n",
       "99. 1.37393175229591\n",
       "100. 0.760475024867517\n",
       "101. 0.75350887527813\n",
       "102. 0.80386612038801\n",
       "103. -0.285999068382497\n",
       "104. -0.390202584500645\n",
       "105. -1107.78946522311\n",
       "\n",
       "\n",
       "\n",
       "\n",
       "\n"
      ],
      "text/plain": [
       "$summary\n",
       "                  mean      se_mean         sd          2.5%           25%\n",
       "beta[1]  -5.483654e-02 0.0003873179 0.05305817 -1.590604e-01 -9.056074e-02\n",
       "beta[2]  -6.388736e-01 0.0004645234 0.05837775 -7.553772e-01 -6.779504e-01\n",
       "beta[3]  -4.578002e-01 0.0013088890 0.17408590 -8.154244e-01 -5.730797e-01\n",
       "beta[4]   2.121222e-02 0.0005172783 0.06446402 -1.031440e-01 -2.276923e-02\n",
       "beta[5]  -7.008528e-01 0.0021982779 0.19222820 -1.078889e+00 -8.301838e-01\n",
       "beta[6]   1.591059e-01 0.0045066417 0.41259269 -6.382790e-01 -1.224167e-01\n",
       "beta[7]  -3.598267e-01 0.0010146858 0.10081377 -5.600617e-01 -4.269249e-01\n",
       "beta[8]   1.728472e-01 0.0030809406 0.28800269 -3.977149e-01 -2.273994e-02\n",
       "beta[9]   1.101157e+00 0.0014242014 0.13648859  8.357657e-01  1.008488e+00\n",
       "beta[10]  3.579732e-01 0.0021599454 0.21052597 -5.529358e-02  2.156643e-01\n",
       "beta[11]  5.110132e-01 0.0012863202 0.12327666  2.698305e-01  4.287607e-01\n",
       "beta[12]  5.081189e-01 0.0017074170 0.15102944  2.077793e-01  4.063522e-01\n",
       "beta[13] -5.726908e-01 0.0013610880 0.14740842 -8.687703e-01 -6.719815e-01\n",
       "beta[14] -6.878818e-01 0.0015100890 0.15343280 -9.975810e-01 -7.892759e-01\n",
       "lp__     -1.112054e+03 0.0340966406 2.65026701 -1.118045e+03 -1.113628e+03\n",
       "                   50%           75%         97.5%     n_eff      Rhat\n",
       "beta[1]  -5.497076e-02 -1.884710e-02  4.803373e-02 18765.903 0.9999487\n",
       "beta[2]  -6.384902e-01 -5.994469e-01 -5.258170e-01 15793.541 0.9999814\n",
       "beta[3]  -4.533035e-01 -3.375866e-01 -1.288375e-01 17689.744 1.0000520\n",
       "beta[4]   2.090037e-02  6.507028e-02  1.485433e-01 15530.533 0.9999778\n",
       "beta[5]  -7.010495e-01 -5.707214e-01 -3.268853e-01  7646.611 0.9999584\n",
       "beta[6]   1.527218e-01  4.336064e-01  9.896784e-01  8381.794 0.9999363\n",
       "beta[7]  -3.588611e-01 -2.916233e-01 -1.621938e-01  9871.349 0.9999967\n",
       "beta[8]   1.757157e-01  3.696322e-01  7.339324e-01  8738.290 0.9999334\n",
       "beta[9]   1.102157e+00  1.192292e+00  1.373932e+00  9184.380 0.9999338\n",
       "beta[10]  3.609333e-01  5.017867e-01  7.604750e-01  9500.049 0.9999453\n",
       "beta[11]  5.091837e-01  5.945505e-01  7.535089e-01  9184.670 0.9999952\n",
       "beta[12]  5.081674e-01  6.086929e-01  8.038661e-01  7824.273 0.9999406\n",
       "beta[13] -5.704989e-01 -4.736823e-01 -2.859991e-01 11729.303 1.0001021\n",
       "beta[14] -6.858226e-01 -5.851600e-01 -3.902026e-01 10323.604 0.9999969\n",
       "lp__     -1.111735e+03 -1.110127e+03 -1.107789e+03  6041.657 0.9999491\n",
       "\n",
       "$c_summary\n",
       ", , chains = chain:1\n",
       "\n",
       "          stats\n",
       "parameter           mean         sd          2.5%           25%           50%\n",
       "  beta[1]  -5.483654e-02 0.05305817 -1.590604e-01 -9.056074e-02 -5.497076e-02\n",
       "  beta[2]  -6.388736e-01 0.05837775 -7.553772e-01 -6.779504e-01 -6.384902e-01\n",
       "  beta[3]  -4.578002e-01 0.17408590 -8.154244e-01 -5.730797e-01 -4.533035e-01\n",
       "  beta[4]   2.121222e-02 0.06446402 -1.031440e-01 -2.276923e-02  2.090037e-02\n",
       "  beta[5]  -7.008528e-01 0.19222820 -1.078889e+00 -8.301838e-01 -7.010495e-01\n",
       "  beta[6]   1.591059e-01 0.41259269 -6.382790e-01 -1.224167e-01  1.527218e-01\n",
       "  beta[7]  -3.598267e-01 0.10081377 -5.600617e-01 -4.269249e-01 -3.588611e-01\n",
       "  beta[8]   1.728472e-01 0.28800269 -3.977149e-01 -2.273994e-02  1.757157e-01\n",
       "  beta[9]   1.101157e+00 0.13648859  8.357657e-01  1.008488e+00  1.102157e+00\n",
       "  beta[10]  3.579732e-01 0.21052597 -5.529358e-02  2.156643e-01  3.609333e-01\n",
       "  beta[11]  5.110132e-01 0.12327666  2.698305e-01  4.287607e-01  5.091837e-01\n",
       "  beta[12]  5.081189e-01 0.15102944  2.077793e-01  4.063522e-01  5.081674e-01\n",
       "  beta[13] -5.726908e-01 0.14740842 -8.687703e-01 -6.719815e-01 -5.704989e-01\n",
       "  beta[14] -6.878818e-01 0.15343280 -9.975810e-01 -7.892759e-01 -6.858226e-01\n",
       "  lp__     -1.112054e+03 2.65026701 -1.118045e+03 -1.113628e+03 -1.111735e+03\n",
       "          stats\n",
       "parameter            75%         97.5%\n",
       "  beta[1]  -1.884710e-02  4.803373e-02\n",
       "  beta[2]  -5.994469e-01 -5.258170e-01\n",
       "  beta[3]  -3.375866e-01 -1.288375e-01\n",
       "  beta[4]   6.507028e-02  1.485433e-01\n",
       "  beta[5]  -5.707214e-01 -3.268853e-01\n",
       "  beta[6]   4.336064e-01  9.896784e-01\n",
       "  beta[7]  -2.916233e-01 -1.621938e-01\n",
       "  beta[8]   3.696322e-01  7.339324e-01\n",
       "  beta[9]   1.192292e+00  1.373932e+00\n",
       "  beta[10]  5.017867e-01  7.604750e-01\n",
       "  beta[11]  5.945505e-01  7.535089e-01\n",
       "  beta[12]  6.086929e-01  8.038661e-01\n",
       "  beta[13] -4.736823e-01 -2.859991e-01\n",
       "  beta[14] -5.851600e-01 -3.902026e-01\n",
       "  lp__     -1.110127e+03 -1.107789e+03\n",
       "\n"
      ]
     },
     "metadata": {},
     "output_type": "display_data"
    }
   ],
   "source": [
    "summary(sample.01)"
   ]
  },
  {
   "cell_type": "code",
   "execution_count": 24,
   "metadata": {},
   "outputs": [],
   "source": [
    "#summary(sample.02)"
   ]
  },
  {
   "cell_type": "code",
   "execution_count": 25,
   "metadata": {},
   "outputs": [],
   "source": [
    "#summary(sample.03)"
   ]
  },
  {
   "cell_type": "code",
   "execution_count": 26,
   "metadata": {},
   "outputs": [
    {
     "name": "stderr",
     "output_type": "stream",
     "text": [
      "'pars' not specified. Showing first 10 parameters by default.\n",
      "\n",
      "ci_level: 0.8 (80% intervals)\n",
      "\n",
      "outer_level: 0.95 (95% intervals)\n",
      "\n"
     ]
    },
    {
     "data": {
      "image/png": "[encoded data removed]",
      "text/plain": [
       "plot without title"
      ]
     },
     "metadata": {
      "image/png": {
       "height": 480,
       "width": 480
      }
     },
     "output_type": "display_data"
    }
   ],
   "source": [
    "plot(sample.01)"
   ]
  },
  {
   "cell_type": "code",
   "execution_count": 27,
   "metadata": {},
   "outputs": [
    {
     "name": "stderr",
     "output_type": "stream",
     "text": [
      "'pars' not specified. Showing first 10 parameters by default.\n",
      "\n",
      "ci_level: 0.8 (80% intervals)\n",
      "\n",
      "outer_level: 0.95 (95% intervals)\n",
      "\n"
     ]
    },
    {
     "data": {
      "image/png": "[encoded data removed]",
      "text/plain": [
       "plot without title"
      ]
     },
     "metadata": {
      "image/png": {
       "height": 480,
       "width": 480
      }
     },
     "output_type": "display_data"
    }
   ],
   "source": [
    "plot(sample.02)"
   ]
  },
  {
   "cell_type": "code",
   "execution_count": 28,
   "metadata": {},
   "outputs": [
    {
     "name": "stderr",
     "output_type": "stream",
     "text": [
      "'pars' not specified. Showing first 10 parameters by default.\n",
      "\n",
      "ci_level: 0.8 (80% intervals)\n",
      "\n",
      "outer_level: 0.95 (95% intervals)\n",
      "\n"
     ]
    },
    {
     "data": {
      "image/png": "[encoded data removed]",
      "text/plain": [
       "plot without title"
      ]
     },
     "metadata": {
      "image/png": {
       "height": 480,
       "width": 480
      }
     },
     "output_type": "display_data"
    }
   ],
   "source": [
    "plot(sample.03)"
   ]
  },
  {
   "cell_type": "markdown",
   "metadata": {},
   "source": [
    "The overall noisy traceplots show that posteriors are correctly sampled, although they are a bit more spread than we would like: we will see how the horseshoe contributes to shrinking them.\n",
    "\n",
    "To check for consistency among initial subsamples, we look at the mean posterior values of the logistic parameters ($\\beta_0$ and $\\beta$) for each of them. As several times before, we define a function to do it:"
   ]
  },
  {
   "cell_type": "code",
   "execution_count": 29,
   "metadata": {},
   "outputs": [],
   "source": [
    "logistic.params<-function(sample){\n",
    "    #retrieve expected values of logistic regression params (the method in \n",
    "    # week12/GLM.01.Logistic.Challenger.ipynb does not work here because the \n",
    "    #JAGS object is different)\n",
    "    stats<-summary(sample)$statistics\n",
    "    a<-stats[19,1]\n",
    "    b<-c()\n",
    "    for (i in 5:18){\n",
    "        b[i-4]<-stats[i,1]\n",
    "        }\n",
    "   return(list(\"b0\"=a, \"b\"=b))\n",
    "}"
   ]
  },
  {
   "cell_type": "code",
   "execution_count": 32,
   "metadata": {},
   "outputs": [
    {
     "name": "stdout",
     "output_type": "stream",
     "text": [
      "[1] \"Coefficients from sample.01:\"\n",
      "      beta[1]       beta[2]       beta[3]       beta[4]       beta[5] \n",
      "-5.483654e-02 -6.388736e-01 -4.578002e-01  2.121222e-02 -7.008528e-01 \n",
      "      beta[6]       beta[7]       beta[8]       beta[9]      beta[10] \n",
      " 1.591059e-01 -3.598267e-01  1.728472e-01  1.101157e+00  3.579732e-01 \n",
      "     beta[11]      beta[12]      beta[13]      beta[14]          lp__ \n",
      " 5.110132e-01  5.081189e-01 -5.726908e-01 -6.878818e-01 -1.112054e+03 \n",
      "\n",
      "[1] \"Coefficients from sample.02:\"\n",
      "      beta[1]       beta[2]       beta[3]       beta[4]       beta[5] \n",
      "-3.932624e-02 -6.469136e-01 -2.305242e-01  2.249122e-02 -4.564325e-01 \n",
      "      beta[6]       beta[7]       beta[8]       beta[9]      beta[10] \n",
      " 5.506246e-02 -2.463772e-01  3.479474e-01  1.071226e+00  4.060750e-01 \n",
      "     beta[11]      beta[12]      beta[13]      beta[14]          lp__ \n",
      " 1.744630e-01  3.994924e-01 -2.696049e-01 -6.641111e-01 -1.106718e+03 \n",
      "\n",
      "[1] \"Coefficients from sample.03:\"\n",
      "      beta[1]       beta[2]       beta[3]       beta[4]       beta[5] \n",
      "-9.882144e-02 -6.035508e-01 -3.613582e-01  4.204602e-02 -5.637376e-01 \n",
      "      beta[6]       beta[7]       beta[8]       beta[9]      beta[10] \n",
      " 4.065702e-01 -1.301748e-01  3.823713e-01  1.126259e+00  3.851416e-02 \n",
      "     beta[11]      beta[12]      beta[13]      beta[14]          lp__ \n",
      " 6.059337e-02  3.793812e-01 -3.740400e-01 -6.985986e-01 -1.105934e+03 \n"
     ]
    }
   ],
   "source": [
    "print('Coefficients from sample.01:')\n",
    "print(colMeans(as.matrix(sample.01))[1:15])\n",
    "cat('\\n')\n",
    "print('Coefficients from sample.02:')\n",
    "print(colMeans(as.matrix(sample.02))[1:15])\n",
    "cat('\\n')\n",
    "print('Coefficients from sample.03:')\n",
    "print(colMeans(as.matrix(sample.03))[1:15])"
   ]
  },
  {
   "cell_type": "code",
   "execution_count": 31,
   "metadata": {},
   "outputs": [
    {
     "data": {
      "text/html": [
       "<style>\n",
       ".list-inline {list-style: none; margin:0; padding: 0}\n",
       ".list-inline>li {display: inline-block}\n",
       ".list-inline>li:not(:last-child)::after {content: \"\\00b7\"; padding: 0 .5ex}\n",
       "</style>\n",
       "<ol class=list-inline><li>'B_OWNPV_CHI2'</li><li>'B_IPCHI2_OWNPV'</li><li>'B_FDCHI2_OWNPV'</li><li>'B_DIRA_OWNPV'</li><li>'B_PT'</li><li>'Kst_892_0_IP_OWNPV'</li><li>'Kst_892_0_cosThetaH'</li><li>'Kplus_IP_OWNPV'</li><li>'Kplus_P'</li><li>'piminus_IP_OWNPV'</li><li>'piminus_P'</li><li>'gamma_PT'</li><li>'piminus_ETA'</li><li>'Kplus_ETA'</li></ol>\n"
      ],
      "text/latex": [
       "\\begin{enumerate*}\n",
       "\\item 'B\\_OWNPV\\_CHI2'\n",
       "\\item 'B\\_IPCHI2\\_OWNPV'\n",
       "\\item 'B\\_FDCHI2\\_OWNPV'\n",
       "\\item 'B\\_DIRA\\_OWNPV'\n",
       "\\item 'B\\_PT'\n",
       "\\item 'Kst\\_892\\_0\\_IP\\_OWNPV'\n",
       "\\item 'Kst\\_892\\_0\\_cosThetaH'\n",
       "\\item 'Kplus\\_IP\\_OWNPV'\n",
       "\\item 'Kplus\\_P'\n",
       "\\item 'piminus\\_IP\\_OWNPV'\n",
       "\\item 'piminus\\_P'\n",
       "\\item 'gamma\\_PT'\n",
       "\\item 'piminus\\_ETA'\n",
       "\\item 'Kplus\\_ETA'\n",
       "\\end{enumerate*}\n"
      ],
      "text/markdown": [
       "1. 'B_OWNPV_CHI2'\n",
       "2. 'B_IPCHI2_OWNPV'\n",
       "3. 'B_FDCHI2_OWNPV'\n",
       "4. 'B_DIRA_OWNPV'\n",
       "5. 'B_PT'\n",
       "6. 'Kst_892_0_IP_OWNPV'\n",
       "7. 'Kst_892_0_cosThetaH'\n",
       "8. 'Kplus_IP_OWNPV'\n",
       "9. 'Kplus_P'\n",
       "10. 'piminus_IP_OWNPV'\n",
       "11. 'piminus_P'\n",
       "12. 'gamma_PT'\n",
       "13. 'piminus_ETA'\n",
       "14. 'Kplus_ETA'\n",
       "\n",
       "\n"
      ],
      "text/plain": [
       " [1] \"B_OWNPV_CHI2\"        \"B_IPCHI2_OWNPV\"      \"B_FDCHI2_OWNPV\"     \n",
       " [4] \"B_DIRA_OWNPV\"        \"B_PT\"                \"Kst_892_0_IP_OWNPV\" \n",
       " [7] \"Kst_892_0_cosThetaH\" \"Kplus_IP_OWNPV\"      \"Kplus_P\"            \n",
       "[10] \"piminus_IP_OWNPV\"    \"piminus_P\"           \"gamma_PT\"           \n",
       "[13] \"piminus_ETA\"         \"Kplus_ETA\"          "
      ]
     },
     "metadata": {},
     "output_type": "display_data"
    }
   ],
   "source": [
    "colnames(x0.01)"
   ]
  },
  {
   "cell_type": "markdown",
   "metadata": {},
   "source": [
    "Although there is some variability, the posterior means are consistent across subsamples, which contributes to validating their size (note that taking a greater subsample size would yield an unreasonable execution time for the notebook). \n",
    "\n",
    "It is worth noting $|\\beta_{4}|$ (coefficient for **B_DIRA_OWNPV**) is $<0.05$ for all three original subsamples, meaning that it does not contribute much to the decision boundary. This confirms our intuition when exploring the data, where we already mentioned it is uninformative. The intercept $\\beta_0$ is also suppressed."
   ]
  },
  {
   "cell_type": "markdown",
   "metadata": {},
   "source": [
    "### 2.2. Evaluation"
   ]
  },
  {
   "cell_type": "markdown",
   "metadata": {},
   "source": [
    "To evaluate the model, we consider the train and test deviance, AIC and BIC. Since in this case we are applying Bayesian inference to a classification problem, we also compute the area under de ROC curve, which has the advantage over the latter that it is bounded and has absolute meaning (whereas deviation, AIC and BIC increase indefinitely with the size of the dataset used). Having established at the beginning of the notebook that we are mostly interested in true positives, we also look at recall (a.k.a. sensitivity, the fraction of total positives predicted as such): although we will show the other metrics for completeness, we will concentrate on AUC and recall, the latter computed for the optimal operating point of the ROC curve.\n",
    "\n",
    "Note that for the test we use all samples not included in the corresponding 2000 train subsample, so **we test with about 210 000 samples** each time. We do this to put to use all available information, and we can afford to do so at test because we are just evaluating the logistic function (what took so long at train was the MCMC sampling).\n",
    "\n",
    "Since, once again, we wil do this several times, we define a function to compute and print all relevant evaluation metrics. In the case of the train phase, we also print the deviance, AIC and BIC computed by STAN, for reference."
   ]
  },
  {
   "cell_type": "code",
   "execution_count": 35,
   "metadata": {},
   "outputs": [],
   "source": [
    "evaluate<-function(sample, x, y, phase, threshold=NULL){\n",
    "    n<-dim(x)[1]    \n",
    "    n.pars<-dim(x)[2]\n",
    "    b<-colMeans(as.matrix(sample))[1:14]\n",
    "    #probabilities\n",
    "    eta.bar<-as.numeric(as.matrix(x) %*% b)\n",
    "    p.bar<-1/(1+exp(-eta.bar))\n",
    "    #log-likelihood\n",
    "    logL.hat<-sum(y * log(p.bar) + (1 - y) * log(1 - p.bar))\n",
    "    #AUC\n",
    "    roc_obj <- roc(y, p.bar)\n",
    "    AUC.hat<-auc(roc_obj)\n",
    "    cat(\"\\n\", phase,\"AUC:\", round(AUC.hat,4)) \n",
    "    #deviance\n",
    "    D.hat<- -2*logL.hat\n",
    "    cat(\"\\n\", phase,\"Deviance:\", round(D.hat,4))  \n",
    "    #AIC\n",
    "    AIC.hat<-D.hat+2*n.pars\n",
    "    cat(\"\\n\", phase,\"AIC:\", round(AIC.hat,4))  \n",
    "    #BIC\n",
    "    BIC.hat<-D.hat+log(n)*n.pars\n",
    "    cat(\"\\n\", phase,\"BIC:\", round(BIC.hat,4))  \n",
    "    #if training phase, print JAGS quantities as well for comparison\n",
    "    if (phase==\"train\"){ \n",
    "        #compute threshold and recall/sensitivity for best operating point\n",
    "        #in ROC curve\n",
    "        rc <- ROC(test=p.bar, stat = as.logical(y), plot=\"ROC\", main=\"Train ROC curve\") \n",
    "        # optimal combination\n",
    "        opt <- which.max(rowSums(rc$res[, c(\"sens\", \"spec\")]))\n",
    "        # optimal cut-off point and corresponding recall\n",
    "        threshold = as.numeric(names(opt))\n",
    "        recall<-rc$res$sens[opt]\n",
    "        cat(\"\\n\", phase, \"recall/sensitivity\", round(recall, 4))\n",
    "        return(threshold)\n",
    "        } else{\n",
    "        check<-y+p.bar\n",
    "        true.p<-0\n",
    "        total.p<-sum(y)\n",
    "        for (num in check){\n",
    "            if (num >= (1+threshold)){\n",
    "            true.p<-true.p+1    \n",
    "            }\n",
    "        }\n",
    "        recall<-true.p/total.p\n",
    "        cat(\"\\n\", phase, \"recall/sensitivity\", round(recall, 4))\n",
    "            \n",
    "        }\n",
    "    \n",
    "    }"
   ]
  },
  {
   "cell_type": "markdown",
   "metadata": {},
   "source": [
    "Having our function, we call it for the result obtained for each original subsample:"
   ]
  },
  {
   "cell_type": "code",
   "execution_count": 36,
   "metadata": {},
   "outputs": [
    {
     "name": "stderr",
     "output_type": "stream",
     "text": [
      "Setting levels: control = 0, case = 1\n",
      "\n",
      "Setting direction: controls < cases\n",
      "\n"
     ]
    },
    {
     "name": "stdout",
     "output_type": "stream",
     "text": [
      "\n",
      " train AUC: 0.7921\n",
      " train Deviance: 2210.078\n",
      " train AIC: 2238.078\n",
      " train BIC: 2316.491\n",
      " train recall/sensitivity 0.799"
     ]
    },
    {
     "name": "stderr",
     "output_type": "stream",
     "text": [
      "Setting levels: control = 0, case = 1\n",
      "\n",
      "Setting direction: controls < cases\n",
      "\n"
     ]
    },
    {
     "name": "stdout",
     "output_type": "stream",
     "text": [
      "\n",
      " test AUC: 0.7896\n",
      " test Deviance: 249420.4\n",
      " test AIC: 249448.4\n",
      " test BIC: 249592\n",
      " test recall/sensitivity 0.8571"
     ]
    },
    {
     "data": {
      "image/png": "[encoded data removed]",
      "text/plain": [
       "Plot with title “Train ROC curve”"
      ]
     },
     "metadata": {
      "image/png": {
       "height": 480,
       "width": 480
      }
     },
     "output_type": "display_data"
    }
   ],
   "source": [
    "#evaluate train\n",
    "thr<-evaluate(sample.01, x0.01, y.01, phase=\"train\")\n",
    "# evaluate test\n",
    "xt<-model.matrix(Response~.,test.01)[,-1] #[,-1] to remove intercept intrduced by model.matrix\n",
    "xt<-standardise(xt)\n",
    "yt<-test.01$Response\n",
    "evaluate(sample.01, xt, yt, phase=\"test\", threshold = thr)"
   ]
  },
  {
   "cell_type": "code",
   "execution_count": 37,
   "metadata": {},
   "outputs": [
    {
     "name": "stderr",
     "output_type": "stream",
     "text": [
      "Setting levels: control = 0, case = 1\n",
      "\n",
      "Setting direction: controls < cases\n",
      "\n"
     ]
    },
    {
     "name": "stdout",
     "output_type": "stream",
     "text": [
      "\n",
      " train AUC: 0.7925\n",
      " train Deviance: 2199.329\n",
      " train AIC: 2227.329\n",
      " train BIC: 2305.742\n",
      " train recall/sensitivity 0.748"
     ]
    },
    {
     "name": "stderr",
     "output_type": "stream",
     "text": [
      "Setting levels: control = 0, case = 1\n",
      "\n",
      "Setting direction: controls < cases\n",
      "\n"
     ]
    },
    {
     "name": "stdout",
     "output_type": "stream",
     "text": [
      "\n",
      " test AUC: 0.7894\n",
      " test Deviance: 249425.9\n",
      " test AIC: 249453.9\n",
      " test BIC: 249597.5\n",
      " test recall/sensitivity 0.8022"
     ]
    },
    {
     "data": {
      "image/png": "[encoded data removed]",
      "text/plain": [
       "Plot with title “Train ROC curve”"
      ]
     },
     "metadata": {
      "image/png": {
       "height": 480,
       "width": 480
      }
     },
     "output_type": "display_data"
    }
   ],
   "source": [
    "thr<-evaluate(sample.02, x0.02, y.02, phase=\"train\")\n",
    "\n",
    "xt<-model.matrix(Response~.,test.02)[,-1] #[,-1] to remove intercept intrduced by model.matrix\n",
    "xt<-standardise(xt)\n",
    "yt<-test.02$Response\n",
    "evaluate(sample.02, xt, yt, phase=\"test\", threshold = thr)"
   ]
  },
  {
   "cell_type": "code",
   "execution_count": 38,
   "metadata": {},
   "outputs": [
    {
     "name": "stderr",
     "output_type": "stream",
     "text": [
      "Setting levels: control = 0, case = 1\n",
      "\n",
      "Setting direction: controls < cases\n",
      "\n"
     ]
    },
    {
     "name": "stdout",
     "output_type": "stream",
     "text": [
      "\n",
      " train AUC: 0.7928\n",
      " train Deviance: 2197.888\n",
      " train AIC: 2225.888\n",
      " train BIC: 2304.3\n",
      " train recall/sensitivity 0.702"
     ]
    },
    {
     "name": "stderr",
     "output_type": "stream",
     "text": [
      "Setting levels: control = 0, case = 1\n",
      "\n",
      "Setting direction: controls < cases\n",
      "\n"
     ]
    },
    {
     "name": "stdout",
     "output_type": "stream",
     "text": [
      "\n",
      " test AUC: 0.7897\n",
      " test Deviance: 249248.5\n",
      " test AIC: 249276.5\n",
      " test BIC: 249420.1\n",
      " test recall/sensitivity 0.7734"
     ]
    },
    {
     "data": {
      "image/png": "[encoded data removed]",
      "text/plain": [
       "Plot with title “Train ROC curve”"
      ]
     },
     "metadata": {
      "image/png": {
       "height": 480,
       "width": 480
      }
     },
     "output_type": "display_data"
    }
   ],
   "source": [
    "thr<-evaluate(sample.03, x0.03, y.03, phase=\"train\")\n",
    "\n",
    "xt<-model.matrix(Response~.,test.03)[,-1] #[,-1] to remove intercept intrduced by model.matrix\n",
    "xt<-standardise(xt)\n",
    "yt<-test.03$Response\n",
    "evaluate(sample.03, xt, yt, phase=\"test\", threshold = thr)"
   ]
  },
  {
   "cell_type": "markdown",
   "metadata": {},
   "source": [
    "We get similar (and only moderately encouraging) test AUCs across subsamples (0.79), while test recall varies from 0.78 to 0.86. Not bad, if we consider that our train and test sizes (2 000 vs 210 000), although the AUC obtained by the winners of the competition was 0.94 and our own best result was as high as 0.90, both with a neural network. This difference may thus come from the dataset's not being linearly separable, added to the fact that the better results used many more samples for training/learning and many less for testing/\"critisising\" the model. We will see if we are able to improve our results by considering a more sophisticated undersampling strategy and the spike-slab prior.\n",
    "\n",
    "The similarity across subsamples contributes to validating their size, with a caveat on the recall."
   ]
  },
  {
   "cell_type": "markdown",
   "metadata": {},
   "source": [
    "## 3. Introducing the Horseshoe shrinkage prior\n",
    "\n",
    "We have seen in class that Lasso (or L1) regularisation is better at predictor selection than the Ridge (L2) due to the square form of the 1-norm vs the circle that is the 2-norm. We have also seen that the horseshoe performs even better than Lasso at shrinking posteriors, something supported by (Bhadra et al., 2017) (https://arxiv.org/abs/1706.10179). The authors furthermore argue that the heavy tails and spike at 0 of the horseshoe prior make it adaptive to sparse signals as well (although this is no longer our case, since we undersampled a balanced subset of the data).\n",
    "\n",
    "From the above, it seems rather natural to want to try such a shrinkage prior, and we do so in the following cells. As we have seen the Horseshoe shrinkage prior does not help much achieve better results, thus in STAN we only implement it for one sample (since for solving convergence issues we need to train models that need a lot of time, and it does not help much) for the sake of completeness."
   ]
  },
  {
   "cell_type": "markdown",
   "metadata": {},
   "source": [
    "### 3.1. Modelling"
   ]
  },
  {
   "cell_type": "markdown",
   "metadata": {},
   "source": [
    "As seen in class, the latent variable formulation of the Horsehoe is\n",
    "\n",
    "$$\n",
    "    \\begin{aligned} \n",
    "    (\\beta_i|\\lambda_i, \\tau) \\sim N(0, \\lambda_i^2\\tau^2)\\\\[0.2cm]\n",
    "     \\lambda_i \\sim \\halfcauchydist(0, 1)\\\\[0.2cm]\n",
    "     \\tau \\sim \\halfcauchydist(0, 1)\\\\[0.2cm]\n",
    "    \\end{aligned}\n",
    "$$\n",
    "\n",
    "where $\\halfcauchydist(0, 1)$ is the half-Cauchy distribution. "
   ]
  },
  {
   "cell_type": "markdown",
   "metadata": {},
   "source": [
    "$\\beta_{0}$ is the intercept, $\\beta=(\\beta_{1},\\dots,\\beta_{p})$ is the vector of regression coefficients,    \n",
    "$\\tau_{\\beta}=1/\\sigma_{\\beta}^{2}$ is the common precision parameter for the regression coefficients.\n",
    "\n",
    "$$\n",
    "    \\begin{array}{lclcll}\n",
    "        y_{i}           &\\sim    &Bern(p_i),&&&1\\leq i\\leq n,\\\\[0.2cm]\n",
    "         p_i &=      &\\operatorname{Logistic}(\\eta_i) =\\dfrac{\\exp(\\eta_i)}{1+\\exp(\\eta_i)},&&&1\\leq i\\leq n,\\\\[0.2cm]\n",
    "        \\eta_{i}         &=     &\\beta_{0}+x_{i\\,\\cdot\\,}\\cdot \\beta,\\mskip45mu  &&&1\\leq i\\leq n,\\\\[0.2cm]\n",
    "        \\beta_{0}        &\\sim   &\\normaldist(0,1.0E01),\\\\[0.2cm]\n",
    "        \\beta_{j}        &\\sim   &\\normaldist(0,\\psi_{\\beta,j}), &&1\\leq j\\leq p,\\\\[0.2cm]\n",
    "        \\psi_{\\beta,j}   &=      &1/\\sigma_{\\beta,j}^{2},        &&1\\leq j\\leq p,  &\\text{(Precision parameter for } \\beta_{j})\\\\[0.2cm]              \n",
    "        \\sigma_{\\beta,j} &=      &\\lambda_{j}\\cdot\\tau,          &&1\\leq j\\leq p,\\\\[0.2cm]\n",
    "        \\lambda_{j}      &\\sim   &\\halfcauchydist(0, 1),         &&1\\leq j\\leq p,\\\\[0.2cm]\n",
    "        \\tau             &\\sim   &\\halfcauchydist(0, 1).\n",
    "    \\end{array}\n",
    "$$"
   ]
  },
  {
   "cell_type": "markdown",
   "metadata": {},
   "source": [
    "With the above information, we define the STAN model:"
   ]
  },
  {
   "cell_type": "code",
   "execution_count": 19,
   "metadata": {},
   "outputs": [],
   "source": [
    "model.string<-\"\n",
    "data {\n",
    "  int<lower=0> N;  \n",
    "  int<lower=0> p;\n",
    "  int<lower=0,upper=1> y[N];\n",
    "  matrix[N,p] X;\n",
    "}\n",
    "parameters {\n",
    "  vector[p] beta;\n",
    "  vector<lower=0>[p] lambda;\n",
    "  real<lower=0> tau;\n",
    "}\n",
    "\n",
    "model {\n",
    "  lambda ~ cauchy(0, 1);\n",
    "  tau ~ cauchy(0, 1);\n",
    "  for (i in 1:p)\n",
    "    beta[i] ~ normal(0, 1/(lambda[i] * tau)^2);\n",
    "  for (n in 1:N)\n",
    "     y[n]~ bernoulli_logit( X[n,] * beta );\n",
    "}\""
   ]
  },
  {
   "cell_type": "markdown",
   "metadata": {},
   "source": [
    "Define parameters and data (this one for each initial subsample), and the corresponding models:"
   ]
  },
  {
   "cell_type": "code",
   "execution_count": 20,
   "metadata": {},
   "outputs": [],
   "source": [
    "n1<-dim(x0.01)[1]\n",
    "n2<-dim(x0.02)[1]\n",
    "n3<-dim(x0.03)[1]\n",
    "\n",
    "p<-dim(x0.01)[2]\n",
    "\n",
    "data.01 <-list(X = x0.01, y=y.01, N=length(y.01), p<-p)\n",
    "data.02 <-list(X = x0.02, y=y.02, N=length(y.02), p<-p)\n",
    "data.03 <-list(X = x0.03, y=y.03, N=length(y.03), p<-p)"
   ]
  },
  {
   "cell_type": "markdown",
   "metadata": {},
   "source": [
    "Run one chain per model with 20 000 iterations and a burnout of the 5000 (see summary(sample.01)) initial samples (those that will be discarded to assure randomness of MCMC sampling). Note that this takes around 35 min each time:"
   ]
  },
  {
   "cell_type": "code",
   "execution_count": 24,
   "metadata": {},
   "outputs": [
    {
     "name": "stdout",
     "output_type": "stream",
     "text": [
      "\n",
      "SAMPLING FOR MODEL '562b271846d5ba2887af73a1ffa2dab2' NOW (CHAIN 1).\n",
      "Chain 1: \n",
      "Chain 1: Gradient evaluation took 0.000932 seconds\n",
      "Chain 1: 1000 transitions using 10 leapfrog steps per transition would take 9.32 seconds.\n",
      "Chain 1: Adjust your expectations accordingly!\n",
      "Chain 1: \n",
      "Chain 1: \n",
      "Chain 1: Iteration:    1 / 10000 [  0%]  (Warmup)\n",
      "Chain 1: Iteration:  501 / 10000 [  5%]  (Sampling)\n",
      "Chain 1: Iteration: 1500 / 10000 [ 15%]  (Sampling)\n",
      "Chain 1: Iteration: 2500 / 10000 [ 25%]  (Sampling)\n",
      "Chain 1: Iteration: 3500 / 10000 [ 35%]  (Sampling)\n",
      "Chain 1: Iteration: 4500 / 10000 [ 45%]  (Sampling)\n",
      "Chain 1: Iteration: 5500 / 10000 [ 55%]  (Sampling)\n",
      "Chain 1: Iteration: 6500 / 10000 [ 65%]  (Sampling)\n",
      "Chain 1: Iteration: 7500 / 10000 [ 75%]  (Sampling)\n",
      "Chain 1: Iteration: 8500 / 10000 [ 85%]  (Sampling)\n",
      "Chain 1: Iteration: 9500 / 10000 [ 95%]  (Sampling)\n",
      "Chain 1: Iteration: 10000 / 10000 [100%]  (Sampling)\n",
      "Chain 1: \n",
      "Chain 1:  Elapsed Time: 275.259 seconds (Warm-up)\n",
      "Chain 1:                5829.78 seconds (Sampling)\n",
      "Chain 1:                6105.03 seconds (Total)\n",
      "Chain 1: \n"
     ]
    },
    {
     "name": "stderr",
     "output_type": "stream",
     "text": [
      "Warning message:\n",
      "“There were 486 divergent transitions after warmup. See\n",
      "http://mc-stan.org/misc/warnings.html#divergent-transitions-after-warmup\n",
      "to find out why this is a problem and how to eliminate them.”\n",
      "Warning message:\n",
      "“There were 8702 transitions after warmup that exceeded the maximum treedepth. Increase max_treedepth above 10. See\n",
      "http://mc-stan.org/misc/warnings.html#maximum-treedepth-exceeded”\n",
      "Warning message:\n",
      "“Examine the pairs() plot to diagnose sampling problems\n",
      "”\n",
      "Warning message:\n",
      "“Bulk Effective Samples Size (ESS) is too low, indicating posterior means and medians may be unreliable.\n",
      "Running the chains for more iterations may help. See\n",
      "http://mc-stan.org/misc/warnings.html#bulk-ess”\n",
      "Warning message:\n",
      "“Tail Effective Samples Size (ESS) is too low, indicating posterior variances and tail quantiles may be unreliable.\n",
      "Running the chains for more iterations may help. See\n",
      "http://mc-stan.org/misc/warnings.html#tail-ess”\n"
     ]
    },
    {
     "data": {
      "text/plain": [
       "Time difference of 1.793526 hours"
      ]
     },
     "metadata": {},
     "output_type": "display_data"
    }
   ],
   "source": [
    "start.time <- Sys.time()\n",
    "\n",
    "sample.01 <- stan(model_code = model.string, data = data.01, iter = 10000,\n",
    "             chains = 1, verbose = FALSE, seed=101, warmup=500, control = list(adapt_delta = 0.99))\n",
    "\n",
    "end.time <- Sys.time()\n",
    "time.taken <- end.time - start.time\n",
    "time.taken"
   ]
  },
  {
   "cell_type": "markdown",
   "metadata": {},
   "source": [
    "Visualise output:"
   ]
  },
  {
   "cell_type": "code",
   "execution_count": 25,
   "metadata": {},
   "outputs": [
    {
     "data": {
      "text/html": [
       "<dl>\n",
       "\t<dt>$summary</dt>\n",
       "\t\t<dd><table class=\"dataframe\">\n",
       "<caption>A matrix: 30 × 10 of type dbl</caption>\n",
       "<thead>\n",
       "\t<tr><th></th><th scope=col>mean</th><th scope=col>se_mean</th><th scope=col>sd</th><th scope=col>2.5%</th><th scope=col>25%</th><th scope=col>50%</th><th scope=col>75%</th><th scope=col>97.5%</th><th scope=col>n_eff</th><th scope=col>Rhat</th></tr>\n",
       "</thead>\n",
       "<tbody>\n",
       "\t<tr><th scope=row>beta[1]</th><td>-2.952317e-02</td><td>0.0006583539</td><td>0.04291003</td><td>-1.322277e-01</td><td>-5.495173e-02</td><td>-1.660548e-02</td><td> 1.235021e-04</td><td> 3.241912e-02</td><td>4248.14054</td><td>0.9999998</td></tr>\n",
       "\t<tr><th scope=row>beta[2]</th><td>-6.359086e-01</td><td>0.0007993636</td><td>0.05669195</td><td>-7.465382e-01</td><td>-6.745531e-01</td><td>-6.354206e-01</td><td>-5.971831e-01</td><td>-5.254162e-01</td><td>5029.83867</td><td>0.9999098</td></tr>\n",
       "\t<tr><th scope=row>beta[3]</th><td>-3.651036e-01</td><td>0.0050900363</td><td>0.19389858</td><td>-7.482668e-01</td><td>-4.955917e-01</td><td>-3.666029e-01</td><td>-2.339131e-01</td><td>-1.289460e-03</td><td>1451.13393</td><td>1.0000624</td></tr>\n",
       "\t<tr><th scope=row>beta[4]</th><td> 4.875714e-03</td><td>0.0006943291</td><td>0.03917620</td><td>-7.704120e-02</td><td>-1.008392e-02</td><td> 4.148051e-04</td><td> 1.851145e-02</td><td> 9.968465e-02</td><td>3183.56555</td><td>0.9999246</td></tr>\n",
       "\t<tr><th scope=row>beta[5]</th><td>-2.489171e-01</td><td>0.0639174773</td><td>0.25866266</td><td>-8.953358e-01</td><td>-4.214173e-01</td><td>-1.697297e-01</td><td>-2.037428e-02</td><td> 2.729175e-02</td><td>  16.37677</td><td>1.0116384</td></tr>\n",
       "\t<tr><th scope=row>beta[6]</th><td> 2.947697e-01</td><td>0.0109904894</td><td>0.27469485</td><td>-1.214533e-01</td><td> 2.319895e-02</td><td> 2.857016e-01</td><td> 5.269613e-01</td><td> 7.888292e-01</td><td> 624.69347</td><td>1.0088803</td></tr>\n",
       "\t<tr><th scope=row>beta[7]</th><td>-2.745893e-01</td><td>0.0061183621</td><td>0.12857920</td><td>-5.256964e-01</td><td>-3.624099e-01</td><td>-2.763190e-01</td><td>-1.886885e-01</td><td>-9.660601e-03</td><td> 441.64274</td><td>1.0108917</td></tr>\n",
       "\t<tr><th scope=row>beta[8]</th><td> 1.339920e-01</td><td>0.0082988115</td><td>0.18977014</td><td>-1.507633e-01</td><td>-3.162789e-04</td><td> 6.747171e-02</td><td> 2.637776e-01</td><td> 5.605829e-01</td><td> 522.90640</td><td>1.0213997</td></tr>\n",
       "\t<tr><th scope=row>beta[9]</th><td> 9.567002e-01</td><td>0.0205860944</td><td>0.15536203</td><td> 6.598226e-01</td><td> 8.537304e-01</td><td> 9.522433e-01</td><td> 1.056795e+00</td><td> 1.276544e+00</td><td>  56.95631</td><td>0.9999164</td></tr>\n",
       "\t<tr><th scope=row>beta[10]</th><td> 2.199432e-01</td><td>0.0080542312</td><td>0.19858719</td><td>-5.169434e-02</td><td> 2.777309e-02</td><td> 2.018064e-01</td><td> 3.684287e-01</td><td> 6.275261e-01</td><td> 607.93099</td><td>0.9999378</td></tr>\n",
       "\t<tr><th scope=row>beta[11]</th><td> 2.552833e-01</td><td>0.0284488534</td><td>0.17693832</td><td>-1.121065e-02</td><td> 1.114462e-01</td><td> 2.558482e-01</td><td> 3.813491e-01</td><td> 6.107963e-01</td><td>  38.68247</td><td>1.0169575</td></tr>\n",
       "\t<tr><th scope=row>beta[12]</th><td> 1.666751e-01</td><td>0.0503036267</td><td>0.19429257</td><td>-3.782429e-02</td><td> 2.309662e-03</td><td> 9.733770e-02</td><td> 2.843967e-01</td><td> 6.797115e-01</td><td>  14.91811</td><td>1.0145878</td></tr>\n",
       "\t<tr><th scope=row>beta[13]</th><td>-3.890303e-01</td><td>0.0225719289</td><td>0.18700406</td><td>-7.543374e-01</td><td>-5.145059e-01</td><td>-3.938746e-01</td><td>-2.676570e-01</td><td>-1.641441e-03</td><td>  68.63802</td><td>1.0018588</td></tr>\n",
       "\t<tr><th scope=row>beta[14]</th><td>-5.454860e-01</td><td>0.0160845809</td><td>0.17482387</td><td>-8.827069e-01</td><td>-6.639956e-01</td><td>-5.448029e-01</td><td>-4.293647e-01</td><td>-2.032065e-01</td><td> 118.13592</td><td>1.0032048</td></tr>\n",
       "\t<tr><th scope=row>lambda[1]</th><td> 4.961566e+00</td><td>0.2112273893</td><td>7.82805222</td><td> 4.959847e-01</td><td> 1.448295e+00</td><td> 2.560275e+00</td><td> 5.030998e+00</td><td> 2.695263e+01</td><td>1373.43138</td><td>1.0001629</td></tr>\n",
       "\t<tr><th scope=row>lambda[2]</th><td> 6.687123e-01</td><td>0.0169998761</td><td>0.35390148</td><td> 1.706973e-01</td><td> 4.145395e-01</td><td> 6.048094e-01</td><td> 8.521999e-01</td><td> 1.542775e+00</td><td> 433.38437</td><td>0.9998965</td></tr>\n",
       "\t<tr><th scope=row>lambda[3]</th><td> 1.167315e+00</td><td>0.0607336491</td><td>1.63313796</td><td> 2.245553e-01</td><td> 5.482391e-01</td><td> 8.334550e-01</td><td> 1.260162e+00</td><td> 4.175901e+00</td><td> 723.08108</td><td>0.9999149</td></tr>\n",
       "\t<tr><th scope=row>lambda[4]</th><td> 6.087655e+00</td><td>0.2310112373</td><td>9.56313050</td><td> 5.872666e-01</td><td> 1.712252e+00</td><td> 3.087530e+00</td><td> 6.159254e+00</td><td> 3.362413e+01</td><td>1713.69667</td><td>1.0011750</td></tr>\n",
       "\t<tr><th scope=row>lambda[5]</th><td> 2.669866e+00</td><td>0.3415778275</td><td>6.10155596</td><td> 2.883655e-01</td><td> 7.274236e-01</td><td> 1.180675e+00</td><td> 2.167210e+00</td><td> 1.571431e+01</td><td> 319.08167</td><td>0.9998970</td></tr>\n",
       "\t<tr><th scope=row>lambda[6]</th><td> 1.964842e+00</td><td>0.1114712497</td><td>3.32231160</td><td> 2.145688e-01</td><td> 5.864003e-01</td><td> 9.612208e-01</td><td> 1.845374e+00</td><td> 1.138006e+01</td><td> 888.29043</td><td>1.0011833</td></tr>\n",
       "\t<tr><th scope=row>lambda[7]</th><td> 1.168583e+00</td><td>0.0464050893</td><td>1.51115617</td><td> 2.508588e-01</td><td> 6.145981e-01</td><td> 9.203970e-01</td><td> 1.330206e+00</td><td> 3.224719e+00</td><td>1060.44335</td><td>1.0050836</td></tr>\n",
       "\t<tr><th scope=row>lambda[8]</th><td> 3.004905e+00</td><td>0.1859716217</td><td>5.20776477</td><td> 2.896834e-01</td><td> 8.127958e-01</td><td> 1.412066e+00</td><td> 2.842721e+00</td><td> 1.752977e+01</td><td> 784.16845</td><td>1.0004623</td></tr>\n",
       "\t<tr><th scope=row>lambda[9]</th><td> 5.604233e-01</td><td>0.0091243405</td><td>0.29910236</td><td> 1.426709e-01</td><td> 3.504751e-01</td><td> 5.071931e-01</td><td> 7.117727e-01</td><td> 1.269067e+00</td><td>1074.57497</td><td>1.0000066</td></tr>\n",
       "\t<tr><th scope=row>lambda[10]</th><td> 2.160436e+00</td><td>0.1154998583</td><td>3.78458227</td><td> 2.610989e-01</td><td> 6.972680e-01</td><td> 1.114533e+00</td><td> 1.982697e+00</td><td> 1.211734e+01</td><td>1073.67539</td><td>1.0002016</td></tr>\n",
       "\t<tr><th scope=row>lambda[11]</th><td> 1.737447e+00</td><td>0.1119761242</td><td>3.06835938</td><td> 2.825782e-01</td><td> 6.938112e-01</td><td> 1.036966e+00</td><td> 1.563535e+00</td><td> 9.123998e+00</td><td> 750.86453</td><td>1.0029159</td></tr>\n",
       "\t<tr><th scope=row>lambda[12]</th><td> 3.475051e+00</td><td>0.4034956229</td><td>7.66990648</td><td> 3.383243e-01</td><td> 8.701446e-01</td><td> 1.427531e+00</td><td> 2.707541e+00</td><td> 2.153934e+01</td><td> 361.32872</td><td>1.0005659</td></tr>\n",
       "\t<tr><th scope=row>lambda[13]</th><td> 1.071286e+00</td><td>0.0361892560</td><td>1.59942176</td><td> 2.214158e-01</td><td> 5.474740e-01</td><td> 8.035903e-01</td><td> 1.168191e+00</td><td> 3.291323e+00</td><td>1953.28984</td><td>1.0017702</td></tr>\n",
       "\t<tr><th scope=row>lambda[14]</th><td> 7.666859e-01</td><td>0.0276321124</td><td>0.76158916</td><td> 1.799269e-01</td><td> 4.470158e-01</td><td> 6.603827e-01</td><td> 9.411366e-01</td><td> 1.772750e+00</td><td> 759.64963</td><td>1.0016708</td></tr>\n",
       "\t<tr><th scope=row>tau</th><td> 1.956754e+00</td><td>0.0683618050</td><td>0.86445734</td><td> 8.484311e-01</td><td> 1.366364e+00</td><td> 1.773989e+00</td><td> 2.340138e+00</td><td> 4.127922e+00</td><td> 159.90428</td><td>1.0007104</td></tr>\n",
       "\t<tr><th scope=row>lp__</th><td>-1.118832e+03</td><td>0.2015622107</td><td>4.74259882</td><td>-1.128883e+03</td><td>-1.121896e+03</td><td>-1.118583e+03</td><td>-1.115585e+03</td><td>-1.110062e+03</td><td> 553.62355</td><td>1.0011172</td></tr>\n",
       "</tbody>\n",
       "</table>\n",
       "</dd>\n",
       "\t<dt>$c_summary</dt>\n",
       "\t\t<dd><style>\n",
       ".list-inline {list-style: none; margin:0; padding: 0}\n",
       ".list-inline>li {display: inline-block}\n",
       ".list-inline>li:not(:last-child)::after {content: \"\\00b7\"; padding: 0 .5ex}\n",
       "</style>\n",
       "<ol class=list-inline><li>-0.0295231712583425</li><li>-0.635908647932873</li><li>-0.365103603167159</li><li>0.00487571384079328</li><li>-0.248917055282205</li><li>0.294769741823625</li><li>-0.274589333259242</li><li>0.133992015674724</li><li>0.956700201620464</li><li>0.219943157905633</li><li>0.255283277567886</li><li>0.166675069889112</li><li>-0.389030310876245</li><li>-0.545485974913008</li><li>4.96156605983874</li><li>0.668712290181929</li><li>1.16731537528298</li><li>6.087655035655</li><li>2.66986591927555</li><li>1.96484217134868</li><li>1.16858336079655</li><li>3.0049045055992</li><li>0.560423285739574</li><li>2.16043583418463</li><li>1.73744714716607</li><li>3.47505083822036</li><li>1.07128556874171</li><li>0.766685920113803</li><li>1.95675406629604</li><li>-1118.83213969039</li><li>0.0429100319118866</li><li>0.056691946824706</li><li>0.193898581283108</li><li>0.039176196133683</li><li>0.258662656024238</li><li>0.274694849078646</li><li>0.128579200151269</li><li>0.189770140805481</li><li>0.155362032134861</li><li>0.198587190896922</li><li>0.176938316480743</li><li>0.194292567537637</li><li>0.187004059242447</li><li>0.174823871052197</li><li>7.82805221804023</li><li>0.353901480465183</li><li>1.63313796172055</li><li>9.5631304972916</li><li>6.10155595655595</li><li>3.32231159754805</li><li>1.51115617060613</li><li>5.20776477346091</li><li>0.299102363834808</li><li>3.78458226547003</li><li>3.06835937858406</li><li>7.66990647836947</li><li>1.59942176120986</li><li>0.761589156099643</li><li>0.864457337568553</li><li>4.74259882398873</li><li>-0.132227662347033</li><li>-0.746538181853998</li><li>-0.748266805957527</li><li>-0.0770411969728227</li><li>-0.895335812945788</li><li>-0.121453337637903</li><li>-0.525696404024812</li><li>-0.150763263606098</li><li>0.659822577819631</li><li>-0.0516943354685087</li><li>-0.0112106505406531</li><li>-0.0378242900312203</li><li>-0.754337381665234</li><li>-0.882706947551232</li><li>0.495984687955521</li><li>0.170697333478263</li><li>0.224555294407025</li><li>0.587266556409132</li><li>0.288365515990046</li><li>0.214568847996172</li><li>0.250858849603193</li><li>0.289683390003871</li><li>0.142670907440632</li><li>0.261098859950042</li><li>0.282578228603574</li><li>0.33832430221966</li><li>0.221415820127978</li><li>0.179926915142386</li><li>0.848431125232583</li><li>-1128.88341691717</li><li>-0.0549517321682864</li><li>-0.674553134078328</li><li>-0.495591694344821</li><li>-0.0100839217539283</li><li>-0.421417282634214</li><li>0.02319895499725</li><li>-0.362409869402139</li><li>-0.000316278910285166</li><li>0.853730417272579</li><li>0.0277730873095742</li><li>0.111446185872285</li><li>0.00230966208670573</li><li>-0.51450590788876</li><li>-0.663995561270275</li><li>1.4482945882001</li><li>0.414539527065704</li><li>0.548239061584681</li><li>1.71225181843502</li><li>0.72742359560637</li><li>0.586400305472763</li><li>0.614598121778972</li><li>0.812795768693692</li><li>0.350475060735714</li><li>0.697268023066793</li><li>0.693811227696841</li><li>0.870144601383153</li><li>0.547473956011982</li><li>0.447015750931265</li><li>1.36636364894061</li><li>-1121.89633305854</li><li>-0.0166054766324719</li><li>-0.635420562910928</li><li>-0.366602860212099</li><li>0.000414805097139391</li><li>-0.169729733641947</li><li>0.28570164263792</li><li>-0.276318992006488</li><li>0.0674717109137878</li><li>0.952243295467863</li><li>0.20180643861088</li><li>0.255848227113439</li><li>0.0973376960426777</li><li>-0.393874602833316</li><li>-0.544802945179028</li><li>2.56027451930951</li><li>0.604809418144499</li><li>0.833455037713717</li><li>3.08753041318931</li><li>1.1806747909559</li><li>0.961220803020915</li><li>0.920396989013679</li><li>1.41206584831345</li><li>0.507193119380204</li><li>1.11453323169464</li><li>1.03696594330666</li><li>1.42753149050325</li><li>0.803590313122038</li><li>0.660382749359748</li><li>1.7739890272916</li><li>-1118.5832557654</li><li>0.000123502120199228</li><li>-0.597183072003159</li><li>-0.233913141978789</li><li>0.0185114466450376</li><li>-0.0203742844148034</li><li>0.526961313290978</li><li>-0.188688515831792</li><li>0.263777608346042</li><li>1.05679548013467</li><li>0.368428658207595</li><li>0.381349072602622</li><li>0.28439672226601</li><li>-0.26765702501294</li><li>-0.429364679941569</li><li>5.03099814105272</li><li>0.8521998764164</li><li>1.26016229319966</li><li>6.15925417627702</li><li>2.16720980283022</li><li>1.84537427263171</li><li>1.33020560003078</li><li>2.84272064805923</li><li>0.711772728953431</li><li>1.98269744347355</li><li>1.56353468999275</li><li>2.70754092359416</li><li>1.16819107605873</li><li>0.941136611091737</li><li>2.34013844332924</li><li>-1115.58536808183</li><li>0.0324191185996086</li><li>-0.525416160408657</li><li>-0.00128946008496132</li><li>0.0996846504228675</li><li>0.0272917454346577</li><li>0.788829155802429</li><li>-0.00966060078370781</li><li>0.560582867059875</li><li>1.27654411343479</li><li>0.627526107811194</li><li>0.610796330549892</li><li>0.679711514784461</li><li>-0.00164144148936598</li><li>-0.2032064990352</li><li>26.9526292452832</li><li>1.54277495938759</li><li>4.17590060917506</li><li>33.624130087572</li><li>15.7143145324283</li><li>11.3800616392643</li><li>3.22471902483229</li><li>17.5297669313471</li><li>1.26906679509638</li><li>12.1173379112498</li><li>9.12399751600919</li><li>21.5393392392219</li><li>3.2913228775794</li><li>1.77274954002139</li><li>4.12792199397632</li><li>-1110.06191268984</li></ol>\n",
       "</dd>\n",
       "</dl>\n"
      ],
      "text/latex": [
       "\\begin{description}\n",
       "\\item[\\$summary] A matrix: 30 × 10 of type dbl\n",
       "\\begin{tabular}{r|llllllllll}\n",
       "  & mean & se\\_mean & sd & 2.5\\% & 25\\% & 50\\% & 75\\% & 97.5\\% & n\\_eff & Rhat\\\\\n",
       "\\hline\n",
       "\tbeta{[}1{]} & -2.952317e-02 & 0.0006583539 & 0.04291003 & -1.322277e-01 & -5.495173e-02 & -1.660548e-02 &  1.235021e-04 &  3.241912e-02 & 4248.14054 & 0.9999998\\\\\n",
       "\tbeta{[}2{]} & -6.359086e-01 & 0.0007993636 & 0.05669195 & -7.465382e-01 & -6.745531e-01 & -6.354206e-01 & -5.971831e-01 & -5.254162e-01 & 5029.83867 & 0.9999098\\\\\n",
       "\tbeta{[}3{]} & -3.651036e-01 & 0.0050900363 & 0.19389858 & -7.482668e-01 & -4.955917e-01 & -3.666029e-01 & -2.339131e-01 & -1.289460e-03 & 1451.13393 & 1.0000624\\\\\n",
       "\tbeta{[}4{]} &  4.875714e-03 & 0.0006943291 & 0.03917620 & -7.704120e-02 & -1.008392e-02 &  4.148051e-04 &  1.851145e-02 &  9.968465e-02 & 3183.56555 & 0.9999246\\\\\n",
       "\tbeta{[}5{]} & -2.489171e-01 & 0.0639174773 & 0.25866266 & -8.953358e-01 & -4.214173e-01 & -1.697297e-01 & -2.037428e-02 &  2.729175e-02 &   16.37677 & 1.0116384\\\\\n",
       "\tbeta{[}6{]} &  2.947697e-01 & 0.0109904894 & 0.27469485 & -1.214533e-01 &  2.319895e-02 &  2.857016e-01 &  5.269613e-01 &  7.888292e-01 &  624.69347 & 1.0088803\\\\\n",
       "\tbeta{[}7{]} & -2.745893e-01 & 0.0061183621 & 0.12857920 & -5.256964e-01 & -3.624099e-01 & -2.763190e-01 & -1.886885e-01 & -9.660601e-03 &  441.64274 & 1.0108917\\\\\n",
       "\tbeta{[}8{]} &  1.339920e-01 & 0.0082988115 & 0.18977014 & -1.507633e-01 & -3.162789e-04 &  6.747171e-02 &  2.637776e-01 &  5.605829e-01 &  522.90640 & 1.0213997\\\\\n",
       "\tbeta{[}9{]} &  9.567002e-01 & 0.0205860944 & 0.15536203 &  6.598226e-01 &  8.537304e-01 &  9.522433e-01 &  1.056795e+00 &  1.276544e+00 &   56.95631 & 0.9999164\\\\\n",
       "\tbeta{[}10{]} &  2.199432e-01 & 0.0080542312 & 0.19858719 & -5.169434e-02 &  2.777309e-02 &  2.018064e-01 &  3.684287e-01 &  6.275261e-01 &  607.93099 & 0.9999378\\\\\n",
       "\tbeta{[}11{]} &  2.552833e-01 & 0.0284488534 & 0.17693832 & -1.121065e-02 &  1.114462e-01 &  2.558482e-01 &  3.813491e-01 &  6.107963e-01 &   38.68247 & 1.0169575\\\\\n",
       "\tbeta{[}12{]} &  1.666751e-01 & 0.0503036267 & 0.19429257 & -3.782429e-02 &  2.309662e-03 &  9.733770e-02 &  2.843967e-01 &  6.797115e-01 &   14.91811 & 1.0145878\\\\\n",
       "\tbeta{[}13{]} & -3.890303e-01 & 0.0225719289 & 0.18700406 & -7.543374e-01 & -5.145059e-01 & -3.938746e-01 & -2.676570e-01 & -1.641441e-03 &   68.63802 & 1.0018588\\\\\n",
       "\tbeta{[}14{]} & -5.454860e-01 & 0.0160845809 & 0.17482387 & -8.827069e-01 & -6.639956e-01 & -5.448029e-01 & -4.293647e-01 & -2.032065e-01 &  118.13592 & 1.0032048\\\\\n",
       "\tlambda{[}1{]} &  4.961566e+00 & 0.2112273893 & 7.82805222 &  4.959847e-01 &  1.448295e+00 &  2.560275e+00 &  5.030998e+00 &  2.695263e+01 & 1373.43138 & 1.0001629\\\\\n",
       "\tlambda{[}2{]} &  6.687123e-01 & 0.0169998761 & 0.35390148 &  1.706973e-01 &  4.145395e-01 &  6.048094e-01 &  8.521999e-01 &  1.542775e+00 &  433.38437 & 0.9998965\\\\\n",
       "\tlambda{[}3{]} &  1.167315e+00 & 0.0607336491 & 1.63313796 &  2.245553e-01 &  5.482391e-01 &  8.334550e-01 &  1.260162e+00 &  4.175901e+00 &  723.08108 & 0.9999149\\\\\n",
       "\tlambda{[}4{]} &  6.087655e+00 & 0.2310112373 & 9.56313050 &  5.872666e-01 &  1.712252e+00 &  3.087530e+00 &  6.159254e+00 &  3.362413e+01 & 1713.69667 & 1.0011750\\\\\n",
       "\tlambda{[}5{]} &  2.669866e+00 & 0.3415778275 & 6.10155596 &  2.883655e-01 &  7.274236e-01 &  1.180675e+00 &  2.167210e+00 &  1.571431e+01 &  319.08167 & 0.9998970\\\\\n",
       "\tlambda{[}6{]} &  1.964842e+00 & 0.1114712497 & 3.32231160 &  2.145688e-01 &  5.864003e-01 &  9.612208e-01 &  1.845374e+00 &  1.138006e+01 &  888.29043 & 1.0011833\\\\\n",
       "\tlambda{[}7{]} &  1.168583e+00 & 0.0464050893 & 1.51115617 &  2.508588e-01 &  6.145981e-01 &  9.203970e-01 &  1.330206e+00 &  3.224719e+00 & 1060.44335 & 1.0050836\\\\\n",
       "\tlambda{[}8{]} &  3.004905e+00 & 0.1859716217 & 5.20776477 &  2.896834e-01 &  8.127958e-01 &  1.412066e+00 &  2.842721e+00 &  1.752977e+01 &  784.16845 & 1.0004623\\\\\n",
       "\tlambda{[}9{]} &  5.604233e-01 & 0.0091243405 & 0.29910236 &  1.426709e-01 &  3.504751e-01 &  5.071931e-01 &  7.117727e-01 &  1.269067e+00 & 1074.57497 & 1.0000066\\\\\n",
       "\tlambda{[}10{]} &  2.160436e+00 & 0.1154998583 & 3.78458227 &  2.610989e-01 &  6.972680e-01 &  1.114533e+00 &  1.982697e+00 &  1.211734e+01 & 1073.67539 & 1.0002016\\\\\n",
       "\tlambda{[}11{]} &  1.737447e+00 & 0.1119761242 & 3.06835938 &  2.825782e-01 &  6.938112e-01 &  1.036966e+00 &  1.563535e+00 &  9.123998e+00 &  750.86453 & 1.0029159\\\\\n",
       "\tlambda{[}12{]} &  3.475051e+00 & 0.4034956229 & 7.66990648 &  3.383243e-01 &  8.701446e-01 &  1.427531e+00 &  2.707541e+00 &  2.153934e+01 &  361.32872 & 1.0005659\\\\\n",
       "\tlambda{[}13{]} &  1.071286e+00 & 0.0361892560 & 1.59942176 &  2.214158e-01 &  5.474740e-01 &  8.035903e-01 &  1.168191e+00 &  3.291323e+00 & 1953.28984 & 1.0017702\\\\\n",
       "\tlambda{[}14{]} &  7.666859e-01 & 0.0276321124 & 0.76158916 &  1.799269e-01 &  4.470158e-01 &  6.603827e-01 &  9.411366e-01 &  1.772750e+00 &  759.64963 & 1.0016708\\\\\n",
       "\ttau &  1.956754e+00 & 0.0683618050 & 0.86445734 &  8.484311e-01 &  1.366364e+00 &  1.773989e+00 &  2.340138e+00 &  4.127922e+00 &  159.90428 & 1.0007104\\\\\n",
       "\tlp\\_\\_ & -1.118832e+03 & 0.2015622107 & 4.74259882 & -1.128883e+03 & -1.121896e+03 & -1.118583e+03 & -1.115585e+03 & -1.110062e+03 &  553.62355 & 1.0011172\\\\\n",
       "\\end{tabular}\n",
       "\n",
       "\\item[\\$c\\_summary] \\begin{enumerate*}\n",
       "\\item -0.0295231712583425\n",
       "\\item -0.635908647932873\n",
       "\\item -0.365103603167159\n",
       "\\item 0.00487571384079328\n",
       "\\item -0.248917055282205\n",
       "\\item 0.294769741823625\n",
       "\\item -0.274589333259242\n",
       "\\item 0.133992015674724\n",
       "\\item 0.956700201620464\n",
       "\\item 0.219943157905633\n",
       "\\item 0.255283277567886\n",
       "\\item 0.166675069889112\n",
       "\\item -0.389030310876245\n",
       "\\item -0.545485974913008\n",
       "\\item 4.96156605983874\n",
       "\\item 0.668712290181929\n",
       "\\item 1.16731537528298\n",
       "\\item 6.087655035655\n",
       "\\item 2.66986591927555\n",
       "\\item 1.96484217134868\n",
       "\\item 1.16858336079655\n",
       "\\item 3.0049045055992\n",
       "\\item 0.560423285739574\n",
       "\\item 2.16043583418463\n",
       "\\item 1.73744714716607\n",
       "\\item 3.47505083822036\n",
       "\\item 1.07128556874171\n",
       "\\item 0.766685920113803\n",
       "\\item 1.95675406629604\n",
       "\\item -1118.83213969039\n",
       "\\item 0.0429100319118866\n",
       "\\item 0.056691946824706\n",
       "\\item 0.193898581283108\n",
       "\\item 0.039176196133683\n",
       "\\item 0.258662656024238\n",
       "\\item 0.274694849078646\n",
       "\\item 0.128579200151269\n",
       "\\item 0.189770140805481\n",
       "\\item 0.155362032134861\n",
       "\\item 0.198587190896922\n",
       "\\item 0.176938316480743\n",
       "\\item 0.194292567537637\n",
       "\\item 0.187004059242447\n",
       "\\item 0.174823871052197\n",
       "\\item 7.82805221804023\n",
       "\\item 0.353901480465183\n",
       "\\item 1.63313796172055\n",
       "\\item 9.5631304972916\n",
       "\\item 6.10155595655595\n",
       "\\item 3.32231159754805\n",
       "\\item 1.51115617060613\n",
       "\\item 5.20776477346091\n",
       "\\item 0.299102363834808\n",
       "\\item 3.78458226547003\n",
       "\\item 3.06835937858406\n",
       "\\item 7.66990647836947\n",
       "\\item 1.59942176120986\n",
       "\\item 0.761589156099643\n",
       "\\item 0.864457337568553\n",
       "\\item 4.74259882398873\n",
       "\\item -0.132227662347033\n",
       "\\item -0.746538181853998\n",
       "\\item -0.748266805957527\n",
       "\\item -0.0770411969728227\n",
       "\\item -0.895335812945788\n",
       "\\item -0.121453337637903\n",
       "\\item -0.525696404024812\n",
       "\\item -0.150763263606098\n",
       "\\item 0.659822577819631\n",
       "\\item -0.0516943354685087\n",
       "\\item -0.0112106505406531\n",
       "\\item -0.0378242900312203\n",
       "\\item -0.754337381665234\n",
       "\\item -0.882706947551232\n",
       "\\item 0.495984687955521\n",
       "\\item 0.170697333478263\n",
       "\\item 0.224555294407025\n",
       "\\item 0.587266556409132\n",
       "\\item 0.288365515990046\n",
       "\\item 0.214568847996172\n",
       "\\item 0.250858849603193\n",
       "\\item 0.289683390003871\n",
       "\\item 0.142670907440632\n",
       "\\item 0.261098859950042\n",
       "\\item 0.282578228603574\n",
       "\\item 0.33832430221966\n",
       "\\item 0.221415820127978\n",
       "\\item 0.179926915142386\n",
       "\\item 0.848431125232583\n",
       "\\item -1128.88341691717\n",
       "\\item -0.0549517321682864\n",
       "\\item -0.674553134078328\n",
       "\\item -0.495591694344821\n",
       "\\item -0.0100839217539283\n",
       "\\item -0.421417282634214\n",
       "\\item 0.02319895499725\n",
       "\\item -0.362409869402139\n",
       "\\item -0.000316278910285166\n",
       "\\item 0.853730417272579\n",
       "\\item 0.0277730873095742\n",
       "\\item 0.111446185872285\n",
       "\\item 0.00230966208670573\n",
       "\\item -0.51450590788876\n",
       "\\item -0.663995561270275\n",
       "\\item 1.4482945882001\n",
       "\\item 0.414539527065704\n",
       "\\item 0.548239061584681\n",
       "\\item 1.71225181843502\n",
       "\\item 0.72742359560637\n",
       "\\item 0.586400305472763\n",
       "\\item 0.614598121778972\n",
       "\\item 0.812795768693692\n",
       "\\item 0.350475060735714\n",
       "\\item 0.697268023066793\n",
       "\\item 0.693811227696841\n",
       "\\item 0.870144601383153\n",
       "\\item 0.547473956011982\n",
       "\\item 0.447015750931265\n",
       "\\item 1.36636364894061\n",
       "\\item -1121.89633305854\n",
       "\\item -0.0166054766324719\n",
       "\\item -0.635420562910928\n",
       "\\item -0.366602860212099\n",
       "\\item 0.000414805097139391\n",
       "\\item -0.169729733641947\n",
       "\\item 0.28570164263792\n",
       "\\item -0.276318992006488\n",
       "\\item 0.0674717109137878\n",
       "\\item 0.952243295467863\n",
       "\\item 0.20180643861088\n",
       "\\item 0.255848227113439\n",
       "\\item 0.0973376960426777\n",
       "\\item -0.393874602833316\n",
       "\\item -0.544802945179028\n",
       "\\item 2.56027451930951\n",
       "\\item 0.604809418144499\n",
       "\\item 0.833455037713717\n",
       "\\item 3.08753041318931\n",
       "\\item 1.1806747909559\n",
       "\\item 0.961220803020915\n",
       "\\item 0.920396989013679\n",
       "\\item 1.41206584831345\n",
       "\\item 0.507193119380204\n",
       "\\item 1.11453323169464\n",
       "\\item 1.03696594330666\n",
       "\\item 1.42753149050325\n",
       "\\item 0.803590313122038\n",
       "\\item 0.660382749359748\n",
       "\\item 1.7739890272916\n",
       "\\item -1118.5832557654\n",
       "\\item 0.000123502120199228\n",
       "\\item -0.597183072003159\n",
       "\\item -0.233913141978789\n",
       "\\item 0.0185114466450376\n",
       "\\item -0.0203742844148034\n",
       "\\item 0.526961313290978\n",
       "\\item -0.188688515831792\n",
       "\\item 0.263777608346042\n",
       "\\item 1.05679548013467\n",
       "\\item 0.368428658207595\n",
       "\\item 0.381349072602622\n",
       "\\item 0.28439672226601\n",
       "\\item -0.26765702501294\n",
       "\\item -0.429364679941569\n",
       "\\item 5.03099814105272\n",
       "\\item 0.8521998764164\n",
       "\\item 1.26016229319966\n",
       "\\item 6.15925417627702\n",
       "\\item 2.16720980283022\n",
       "\\item 1.84537427263171\n",
       "\\item 1.33020560003078\n",
       "\\item 2.84272064805923\n",
       "\\item 0.711772728953431\n",
       "\\item 1.98269744347355\n",
       "\\item 1.56353468999275\n",
       "\\item 2.70754092359416\n",
       "\\item 1.16819107605873\n",
       "\\item 0.941136611091737\n",
       "\\item 2.34013844332924\n",
       "\\item -1115.58536808183\n",
       "\\item 0.0324191185996086\n",
       "\\item -0.525416160408657\n",
       "\\item -0.00128946008496132\n",
       "\\item 0.0996846504228675\n",
       "\\item 0.0272917454346577\n",
       "\\item 0.788829155802429\n",
       "\\item -0.00966060078370781\n",
       "\\item 0.560582867059875\n",
       "\\item 1.27654411343479\n",
       "\\item 0.627526107811194\n",
       "\\item 0.610796330549892\n",
       "\\item 0.679711514784461\n",
       "\\item -0.00164144148936598\n",
       "\\item -0.2032064990352\n",
       "\\item 26.9526292452832\n",
       "\\item 1.54277495938759\n",
       "\\item 4.17590060917506\n",
       "\\item 33.624130087572\n",
       "\\item 15.7143145324283\n",
       "\\item 11.3800616392643\n",
       "\\item 3.22471902483229\n",
       "\\item 17.5297669313471\n",
       "\\item 1.26906679509638\n",
       "\\item 12.1173379112498\n",
       "\\item 9.12399751600919\n",
       "\\item 21.5393392392219\n",
       "\\item 3.2913228775794\n",
       "\\item 1.77274954002139\n",
       "\\item 4.12792199397632\n",
       "\\item -1110.06191268984\n",
       "\\end{enumerate*}\n",
       "\n",
       "\\end{description}\n"
      ],
      "text/markdown": [
       "$summary\n",
       ":   \n",
       "A matrix: 30 × 10 of type dbl\n",
       "\n",
       "| <!--/--> | mean | se_mean | sd | 2.5% | 25% | 50% | 75% | 97.5% | n_eff | Rhat |\n",
       "|---|---|---|---|---|---|---|---|---|---|---|\n",
       "| beta[1] | -2.952317e-02 | 0.0006583539 | 0.04291003 | -1.322277e-01 | -5.495173e-02 | -1.660548e-02 |  1.235021e-04 |  3.241912e-02 | 4248.14054 | 0.9999998 |\n",
       "| beta[2] | -6.359086e-01 | 0.0007993636 | 0.05669195 | -7.465382e-01 | -6.745531e-01 | -6.354206e-01 | -5.971831e-01 | -5.254162e-01 | 5029.83867 | 0.9999098 |\n",
       "| beta[3] | -3.651036e-01 | 0.0050900363 | 0.19389858 | -7.482668e-01 | -4.955917e-01 | -3.666029e-01 | -2.339131e-01 | -1.289460e-03 | 1451.13393 | 1.0000624 |\n",
       "| beta[4] |  4.875714e-03 | 0.0006943291 | 0.03917620 | -7.704120e-02 | -1.008392e-02 |  4.148051e-04 |  1.851145e-02 |  9.968465e-02 | 3183.56555 | 0.9999246 |\n",
       "| beta[5] | -2.489171e-01 | 0.0639174773 | 0.25866266 | -8.953358e-01 | -4.214173e-01 | -1.697297e-01 | -2.037428e-02 |  2.729175e-02 |   16.37677 | 1.0116384 |\n",
       "| beta[6] |  2.947697e-01 | 0.0109904894 | 0.27469485 | -1.214533e-01 |  2.319895e-02 |  2.857016e-01 |  5.269613e-01 |  7.888292e-01 |  624.69347 | 1.0088803 |\n",
       "| beta[7] | -2.745893e-01 | 0.0061183621 | 0.12857920 | -5.256964e-01 | -3.624099e-01 | -2.763190e-01 | -1.886885e-01 | -9.660601e-03 |  441.64274 | 1.0108917 |\n",
       "| beta[8] |  1.339920e-01 | 0.0082988115 | 0.18977014 | -1.507633e-01 | -3.162789e-04 |  6.747171e-02 |  2.637776e-01 |  5.605829e-01 |  522.90640 | 1.0213997 |\n",
       "| beta[9] |  9.567002e-01 | 0.0205860944 | 0.15536203 |  6.598226e-01 |  8.537304e-01 |  9.522433e-01 |  1.056795e+00 |  1.276544e+00 |   56.95631 | 0.9999164 |\n",
       "| beta[10] |  2.199432e-01 | 0.0080542312 | 0.19858719 | -5.169434e-02 |  2.777309e-02 |  2.018064e-01 |  3.684287e-01 |  6.275261e-01 |  607.93099 | 0.9999378 |\n",
       "| beta[11] |  2.552833e-01 | 0.0284488534 | 0.17693832 | -1.121065e-02 |  1.114462e-01 |  2.558482e-01 |  3.813491e-01 |  6.107963e-01 |   38.68247 | 1.0169575 |\n",
       "| beta[12] |  1.666751e-01 | 0.0503036267 | 0.19429257 | -3.782429e-02 |  2.309662e-03 |  9.733770e-02 |  2.843967e-01 |  6.797115e-01 |   14.91811 | 1.0145878 |\n",
       "| beta[13] | -3.890303e-01 | 0.0225719289 | 0.18700406 | -7.543374e-01 | -5.145059e-01 | -3.938746e-01 | -2.676570e-01 | -1.641441e-03 |   68.63802 | 1.0018588 |\n",
       "| beta[14] | -5.454860e-01 | 0.0160845809 | 0.17482387 | -8.827069e-01 | -6.639956e-01 | -5.448029e-01 | -4.293647e-01 | -2.032065e-01 |  118.13592 | 1.0032048 |\n",
       "| lambda[1] |  4.961566e+00 | 0.2112273893 | 7.82805222 |  4.959847e-01 |  1.448295e+00 |  2.560275e+00 |  5.030998e+00 |  2.695263e+01 | 1373.43138 | 1.0001629 |\n",
       "| lambda[2] |  6.687123e-01 | 0.0169998761 | 0.35390148 |  1.706973e-01 |  4.145395e-01 |  6.048094e-01 |  8.521999e-01 |  1.542775e+00 |  433.38437 | 0.9998965 |\n",
       "| lambda[3] |  1.167315e+00 | 0.0607336491 | 1.63313796 |  2.245553e-01 |  5.482391e-01 |  8.334550e-01 |  1.260162e+00 |  4.175901e+00 |  723.08108 | 0.9999149 |\n",
       "| lambda[4] |  6.087655e+00 | 0.2310112373 | 9.56313050 |  5.872666e-01 |  1.712252e+00 |  3.087530e+00 |  6.159254e+00 |  3.362413e+01 | 1713.69667 | 1.0011750 |\n",
       "| lambda[5] |  2.669866e+00 | 0.3415778275 | 6.10155596 |  2.883655e-01 |  7.274236e-01 |  1.180675e+00 |  2.167210e+00 |  1.571431e+01 |  319.08167 | 0.9998970 |\n",
       "| lambda[6] |  1.964842e+00 | 0.1114712497 | 3.32231160 |  2.145688e-01 |  5.864003e-01 |  9.612208e-01 |  1.845374e+00 |  1.138006e+01 |  888.29043 | 1.0011833 |\n",
       "| lambda[7] |  1.168583e+00 | 0.0464050893 | 1.51115617 |  2.508588e-01 |  6.145981e-01 |  9.203970e-01 |  1.330206e+00 |  3.224719e+00 | 1060.44335 | 1.0050836 |\n",
       "| lambda[8] |  3.004905e+00 | 0.1859716217 | 5.20776477 |  2.896834e-01 |  8.127958e-01 |  1.412066e+00 |  2.842721e+00 |  1.752977e+01 |  784.16845 | 1.0004623 |\n",
       "| lambda[9] |  5.604233e-01 | 0.0091243405 | 0.29910236 |  1.426709e-01 |  3.504751e-01 |  5.071931e-01 |  7.117727e-01 |  1.269067e+00 | 1074.57497 | 1.0000066 |\n",
       "| lambda[10] |  2.160436e+00 | 0.1154998583 | 3.78458227 |  2.610989e-01 |  6.972680e-01 |  1.114533e+00 |  1.982697e+00 |  1.211734e+01 | 1073.67539 | 1.0002016 |\n",
       "| lambda[11] |  1.737447e+00 | 0.1119761242 | 3.06835938 |  2.825782e-01 |  6.938112e-01 |  1.036966e+00 |  1.563535e+00 |  9.123998e+00 |  750.86453 | 1.0029159 |\n",
       "| lambda[12] |  3.475051e+00 | 0.4034956229 | 7.66990648 |  3.383243e-01 |  8.701446e-01 |  1.427531e+00 |  2.707541e+00 |  2.153934e+01 |  361.32872 | 1.0005659 |\n",
       "| lambda[13] |  1.071286e+00 | 0.0361892560 | 1.59942176 |  2.214158e-01 |  5.474740e-01 |  8.035903e-01 |  1.168191e+00 |  3.291323e+00 | 1953.28984 | 1.0017702 |\n",
       "| lambda[14] |  7.666859e-01 | 0.0276321124 | 0.76158916 |  1.799269e-01 |  4.470158e-01 |  6.603827e-01 |  9.411366e-01 |  1.772750e+00 |  759.64963 | 1.0016708 |\n",
       "| tau |  1.956754e+00 | 0.0683618050 | 0.86445734 |  8.484311e-01 |  1.366364e+00 |  1.773989e+00 |  2.340138e+00 |  4.127922e+00 |  159.90428 | 1.0007104 |\n",
       "| lp__ | -1.118832e+03 | 0.2015622107 | 4.74259882 | -1.128883e+03 | -1.121896e+03 | -1.118583e+03 | -1.115585e+03 | -1.110062e+03 |  553.62355 | 1.0011172 |\n",
       "\n",
       "\n",
       "$c_summary\n",
       ":   1. -0.0295231712583425\n",
       "2. -0.635908647932873\n",
       "3. -0.365103603167159\n",
       "4. 0.00487571384079328\n",
       "5. -0.248917055282205\n",
       "6. 0.294769741823625\n",
       "7. -0.274589333259242\n",
       "8. 0.133992015674724\n",
       "9. 0.956700201620464\n",
       "10. 0.219943157905633\n",
       "11. 0.255283277567886\n",
       "12. 0.166675069889112\n",
       "13. -0.389030310876245\n",
       "14. -0.545485974913008\n",
       "15. 4.96156605983874\n",
       "16. 0.668712290181929\n",
       "17. 1.16731537528298\n",
       "18. 6.087655035655\n",
       "19. 2.66986591927555\n",
       "20. 1.96484217134868\n",
       "21. 1.16858336079655\n",
       "22. 3.0049045055992\n",
       "23. 0.560423285739574\n",
       "24. 2.16043583418463\n",
       "25. 1.73744714716607\n",
       "26. 3.47505083822036\n",
       "27. 1.07128556874171\n",
       "28. 0.766685920113803\n",
       "29. 1.95675406629604\n",
       "30. -1118.83213969039\n",
       "31. 0.0429100319118866\n",
       "32. 0.056691946824706\n",
       "33. 0.193898581283108\n",
       "34. 0.039176196133683\n",
       "35. 0.258662656024238\n",
       "36. 0.274694849078646\n",
       "37. 0.128579200151269\n",
       "38. 0.189770140805481\n",
       "39. 0.155362032134861\n",
       "40. 0.198587190896922\n",
       "41. 0.176938316480743\n",
       "42. 0.194292567537637\n",
       "43. 0.187004059242447\n",
       "44. 0.174823871052197\n",
       "45. 7.82805221804023\n",
       "46. 0.353901480465183\n",
       "47. 1.63313796172055\n",
       "48. 9.5631304972916\n",
       "49. 6.10155595655595\n",
       "50. 3.32231159754805\n",
       "51. 1.51115617060613\n",
       "52. 5.20776477346091\n",
       "53. 0.299102363834808\n",
       "54. 3.78458226547003\n",
       "55. 3.06835937858406\n",
       "56. 7.66990647836947\n",
       "57. 1.59942176120986\n",
       "58. 0.761589156099643\n",
       "59. 0.864457337568553\n",
       "60. 4.74259882398873\n",
       "61. -0.132227662347033\n",
       "62. -0.746538181853998\n",
       "63. -0.748266805957527\n",
       "64. -0.0770411969728227\n",
       "65. -0.895335812945788\n",
       "66. -0.121453337637903\n",
       "67. -0.525696404024812\n",
       "68. -0.150763263606098\n",
       "69. 0.659822577819631\n",
       "70. -0.0516943354685087\n",
       "71. -0.0112106505406531\n",
       "72. -0.0378242900312203\n",
       "73. -0.754337381665234\n",
       "74. -0.882706947551232\n",
       "75. 0.495984687955521\n",
       "76. 0.170697333478263\n",
       "77. 0.224555294407025\n",
       "78. 0.587266556409132\n",
       "79. 0.288365515990046\n",
       "80. 0.214568847996172\n",
       "81. 0.250858849603193\n",
       "82. 0.289683390003871\n",
       "83. 0.142670907440632\n",
       "84. 0.261098859950042\n",
       "85. 0.282578228603574\n",
       "86. 0.33832430221966\n",
       "87. 0.221415820127978\n",
       "88. 0.179926915142386\n",
       "89. 0.848431125232583\n",
       "90. -1128.88341691717\n",
       "91. -0.0549517321682864\n",
       "92. -0.674553134078328\n",
       "93. -0.495591694344821\n",
       "94. -0.0100839217539283\n",
       "95. -0.421417282634214\n",
       "96. 0.02319895499725\n",
       "97. -0.362409869402139\n",
       "98. -0.000316278910285166\n",
       "99. 0.853730417272579\n",
       "100. 0.0277730873095742\n",
       "101. 0.111446185872285\n",
       "102. 0.00230966208670573\n",
       "103. -0.51450590788876\n",
       "104. -0.663995561270275\n",
       "105. 1.4482945882001\n",
       "106. 0.414539527065704\n",
       "107. 0.548239061584681\n",
       "108. 1.71225181843502\n",
       "109. 0.72742359560637\n",
       "110. 0.586400305472763\n",
       "111. 0.614598121778972\n",
       "112. 0.812795768693692\n",
       "113. 0.350475060735714\n",
       "114. 0.697268023066793\n",
       "115. 0.693811227696841\n",
       "116. 0.870144601383153\n",
       "117. 0.547473956011982\n",
       "118. 0.447015750931265\n",
       "119. 1.36636364894061\n",
       "120. -1121.89633305854\n",
       "121. -0.0166054766324719\n",
       "122. -0.635420562910928\n",
       "123. -0.366602860212099\n",
       "124. 0.000414805097139391\n",
       "125. -0.169729733641947\n",
       "126. 0.28570164263792\n",
       "127. -0.276318992006488\n",
       "128. 0.0674717109137878\n",
       "129. 0.952243295467863\n",
       "130. 0.20180643861088\n",
       "131. 0.255848227113439\n",
       "132. 0.0973376960426777\n",
       "133. -0.393874602833316\n",
       "134. -0.544802945179028\n",
       "135. 2.56027451930951\n",
       "136. 0.604809418144499\n",
       "137. 0.833455037713717\n",
       "138. 3.08753041318931\n",
       "139. 1.1806747909559\n",
       "140. 0.961220803020915\n",
       "141. 0.920396989013679\n",
       "142. 1.41206584831345\n",
       "143. 0.507193119380204\n",
       "144. 1.11453323169464\n",
       "145. 1.03696594330666\n",
       "146. 1.42753149050325\n",
       "147. 0.803590313122038\n",
       "148. 0.660382749359748\n",
       "149. 1.7739890272916\n",
       "150. -1118.5832557654\n",
       "151. 0.000123502120199228\n",
       "152. -0.597183072003159\n",
       "153. -0.233913141978789\n",
       "154. 0.0185114466450376\n",
       "155. -0.0203742844148034\n",
       "156. 0.526961313290978\n",
       "157. -0.188688515831792\n",
       "158. 0.263777608346042\n",
       "159. 1.05679548013467\n",
       "160. 0.368428658207595\n",
       "161. 0.381349072602622\n",
       "162. 0.28439672226601\n",
       "163. -0.26765702501294\n",
       "164. -0.429364679941569\n",
       "165. 5.03099814105272\n",
       "166. 0.8521998764164\n",
       "167. 1.26016229319966\n",
       "168. 6.15925417627702\n",
       "169. 2.16720980283022\n",
       "170. 1.84537427263171\n",
       "171. 1.33020560003078\n",
       "172. 2.84272064805923\n",
       "173. 0.711772728953431\n",
       "174. 1.98269744347355\n",
       "175. 1.56353468999275\n",
       "176. 2.70754092359416\n",
       "177. 1.16819107605873\n",
       "178. 0.941136611091737\n",
       "179. 2.34013844332924\n",
       "180. -1115.58536808183\n",
       "181. 0.0324191185996086\n",
       "182. -0.525416160408657\n",
       "183. -0.00128946008496132\n",
       "184. 0.0996846504228675\n",
       "185. 0.0272917454346577\n",
       "186. 0.788829155802429\n",
       "187. -0.00966060078370781\n",
       "188. 0.560582867059875\n",
       "189. 1.27654411343479\n",
       "190. 0.627526107811194\n",
       "191. 0.610796330549892\n",
       "192. 0.679711514784461\n",
       "193. -0.00164144148936598\n",
       "194. -0.2032064990352\n",
       "195. 26.9526292452832\n",
       "196. 1.54277495938759\n",
       "197. 4.17590060917506\n",
       "198. 33.624130087572\n",
       "199. 15.7143145324283\n",
       "200. 11.3800616392643\n",
       "201. 3.22471902483229\n",
       "202. 17.5297669313471\n",
       "203. 1.26906679509638\n",
       "204. 12.1173379112498\n",
       "205. 9.12399751600919\n",
       "206. 21.5393392392219\n",
       "207. 3.2913228775794\n",
       "208. 1.77274954002139\n",
       "209. 4.12792199397632\n",
       "210. -1110.06191268984\n",
       "\n",
       "\n",
       "\n",
       "\n",
       "\n"
      ],
      "text/plain": [
       "$summary\n",
       "                    mean      se_mean         sd          2.5%           25%\n",
       "beta[1]    -2.952317e-02 0.0006583539 0.04291003 -1.322277e-01 -5.495173e-02\n",
       "beta[2]    -6.359086e-01 0.0007993636 0.05669195 -7.465382e-01 -6.745531e-01\n",
       "beta[3]    -3.651036e-01 0.0050900363 0.19389858 -7.482668e-01 -4.955917e-01\n",
       "beta[4]     4.875714e-03 0.0006943291 0.03917620 -7.704120e-02 -1.008392e-02\n",
       "beta[5]    -2.489171e-01 0.0639174773 0.25866266 -8.953358e-01 -4.214173e-01\n",
       "beta[6]     2.947697e-01 0.0109904894 0.27469485 -1.214533e-01  2.319895e-02\n",
       "beta[7]    -2.745893e-01 0.0061183621 0.12857920 -5.256964e-01 -3.624099e-01\n",
       "beta[8]     1.339920e-01 0.0082988115 0.18977014 -1.507633e-01 -3.162789e-04\n",
       "beta[9]     9.567002e-01 0.0205860944 0.15536203  6.598226e-01  8.537304e-01\n",
       "beta[10]    2.199432e-01 0.0080542312 0.19858719 -5.169434e-02  2.777309e-02\n",
       "beta[11]    2.552833e-01 0.0284488534 0.17693832 -1.121065e-02  1.114462e-01\n",
       "beta[12]    1.666751e-01 0.0503036267 0.19429257 -3.782429e-02  2.309662e-03\n",
       "beta[13]   -3.890303e-01 0.0225719289 0.18700406 -7.543374e-01 -5.145059e-01\n",
       "beta[14]   -5.454860e-01 0.0160845809 0.17482387 -8.827069e-01 -6.639956e-01\n",
       "lambda[1]   4.961566e+00 0.2112273893 7.82805222  4.959847e-01  1.448295e+00\n",
       "lambda[2]   6.687123e-01 0.0169998761 0.35390148  1.706973e-01  4.145395e-01\n",
       "lambda[3]   1.167315e+00 0.0607336491 1.63313796  2.245553e-01  5.482391e-01\n",
       "lambda[4]   6.087655e+00 0.2310112373 9.56313050  5.872666e-01  1.712252e+00\n",
       "lambda[5]   2.669866e+00 0.3415778275 6.10155596  2.883655e-01  7.274236e-01\n",
       "lambda[6]   1.964842e+00 0.1114712497 3.32231160  2.145688e-01  5.864003e-01\n",
       "lambda[7]   1.168583e+00 0.0464050893 1.51115617  2.508588e-01  6.145981e-01\n",
       "lambda[8]   3.004905e+00 0.1859716217 5.20776477  2.896834e-01  8.127958e-01\n",
       "lambda[9]   5.604233e-01 0.0091243405 0.29910236  1.426709e-01  3.504751e-01\n",
       "lambda[10]  2.160436e+00 0.1154998583 3.78458227  2.610989e-01  6.972680e-01\n",
       "lambda[11]  1.737447e+00 0.1119761242 3.06835938  2.825782e-01  6.938112e-01\n",
       "lambda[12]  3.475051e+00 0.4034956229 7.66990648  3.383243e-01  8.701446e-01\n",
       "lambda[13]  1.071286e+00 0.0361892560 1.59942176  2.214158e-01  5.474740e-01\n",
       "lambda[14]  7.666859e-01 0.0276321124 0.76158916  1.799269e-01  4.470158e-01\n",
       "tau         1.956754e+00 0.0683618050 0.86445734  8.484311e-01  1.366364e+00\n",
       "lp__       -1.118832e+03 0.2015622107 4.74259882 -1.128883e+03 -1.121896e+03\n",
       "                     50%           75%         97.5%      n_eff      Rhat\n",
       "beta[1]    -1.660548e-02  1.235021e-04  3.241912e-02 4248.14054 0.9999998\n",
       "beta[2]    -6.354206e-01 -5.971831e-01 -5.254162e-01 5029.83867 0.9999098\n",
       "beta[3]    -3.666029e-01 -2.339131e-01 -1.289460e-03 1451.13393 1.0000624\n",
       "beta[4]     4.148051e-04  1.851145e-02  9.968465e-02 3183.56555 0.9999246\n",
       "beta[5]    -1.697297e-01 -2.037428e-02  2.729175e-02   16.37677 1.0116384\n",
       "beta[6]     2.857016e-01  5.269613e-01  7.888292e-01  624.69347 1.0088803\n",
       "beta[7]    -2.763190e-01 -1.886885e-01 -9.660601e-03  441.64274 1.0108917\n",
       "beta[8]     6.747171e-02  2.637776e-01  5.605829e-01  522.90640 1.0213997\n",
       "beta[9]     9.522433e-01  1.056795e+00  1.276544e+00   56.95631 0.9999164\n",
       "beta[10]    2.018064e-01  3.684287e-01  6.275261e-01  607.93099 0.9999378\n",
       "beta[11]    2.558482e-01  3.813491e-01  6.107963e-01   38.68247 1.0169575\n",
       "beta[12]    9.733770e-02  2.843967e-01  6.797115e-01   14.91811 1.0145878\n",
       "beta[13]   -3.938746e-01 -2.676570e-01 -1.641441e-03   68.63802 1.0018588\n",
       "beta[14]   -5.448029e-01 -4.293647e-01 -2.032065e-01  118.13592 1.0032048\n",
       "lambda[1]   2.560275e+00  5.030998e+00  2.695263e+01 1373.43138 1.0001629\n",
       "lambda[2]   6.048094e-01  8.521999e-01  1.542775e+00  433.38437 0.9998965\n",
       "lambda[3]   8.334550e-01  1.260162e+00  4.175901e+00  723.08108 0.9999149\n",
       "lambda[4]   3.087530e+00  6.159254e+00  3.362413e+01 1713.69667 1.0011750\n",
       "lambda[5]   1.180675e+00  2.167210e+00  1.571431e+01  319.08167 0.9998970\n",
       "lambda[6]   9.612208e-01  1.845374e+00  1.138006e+01  888.29043 1.0011833\n",
       "lambda[7]   9.203970e-01  1.330206e+00  3.224719e+00 1060.44335 1.0050836\n",
       "lambda[8]   1.412066e+00  2.842721e+00  1.752977e+01  784.16845 1.0004623\n",
       "lambda[9]   5.071931e-01  7.117727e-01  1.269067e+00 1074.57497 1.0000066\n",
       "lambda[10]  1.114533e+00  1.982697e+00  1.211734e+01 1073.67539 1.0002016\n",
       "lambda[11]  1.036966e+00  1.563535e+00  9.123998e+00  750.86453 1.0029159\n",
       "lambda[12]  1.427531e+00  2.707541e+00  2.153934e+01  361.32872 1.0005659\n",
       "lambda[13]  8.035903e-01  1.168191e+00  3.291323e+00 1953.28984 1.0017702\n",
       "lambda[14]  6.603827e-01  9.411366e-01  1.772750e+00  759.64963 1.0016708\n",
       "tau         1.773989e+00  2.340138e+00  4.127922e+00  159.90428 1.0007104\n",
       "lp__       -1.118583e+03 -1.115585e+03 -1.110062e+03  553.62355 1.0011172\n",
       "\n",
       "$c_summary\n",
       ", , chains = chain:1\n",
       "\n",
       "            stats\n",
       "parameter             mean         sd          2.5%           25%           50%\n",
       "  beta[1]    -2.952317e-02 0.04291003 -1.322277e-01 -5.495173e-02 -1.660548e-02\n",
       "  beta[2]    -6.359086e-01 0.05669195 -7.465382e-01 -6.745531e-01 -6.354206e-01\n",
       "  beta[3]    -3.651036e-01 0.19389858 -7.482668e-01 -4.955917e-01 -3.666029e-01\n",
       "  beta[4]     4.875714e-03 0.03917620 -7.704120e-02 -1.008392e-02  4.148051e-04\n",
       "  beta[5]    -2.489171e-01 0.25866266 -8.953358e-01 -4.214173e-01 -1.697297e-01\n",
       "  beta[6]     2.947697e-01 0.27469485 -1.214533e-01  2.319895e-02  2.857016e-01\n",
       "  beta[7]    -2.745893e-01 0.12857920 -5.256964e-01 -3.624099e-01 -2.763190e-01\n",
       "  beta[8]     1.339920e-01 0.18977014 -1.507633e-01 -3.162789e-04  6.747171e-02\n",
       "  beta[9]     9.567002e-01 0.15536203  6.598226e-01  8.537304e-01  9.522433e-01\n",
       "  beta[10]    2.199432e-01 0.19858719 -5.169434e-02  2.777309e-02  2.018064e-01\n",
       "  beta[11]    2.552833e-01 0.17693832 -1.121065e-02  1.114462e-01  2.558482e-01\n",
       "  beta[12]    1.666751e-01 0.19429257 -3.782429e-02  2.309662e-03  9.733770e-02\n",
       "  beta[13]   -3.890303e-01 0.18700406 -7.543374e-01 -5.145059e-01 -3.938746e-01\n",
       "  beta[14]   -5.454860e-01 0.17482387 -8.827069e-01 -6.639956e-01 -5.448029e-01\n",
       "  lambda[1]   4.961566e+00 7.82805222  4.959847e-01  1.448295e+00  2.560275e+00\n",
       "  lambda[2]   6.687123e-01 0.35390148  1.706973e-01  4.145395e-01  6.048094e-01\n",
       "  lambda[3]   1.167315e+00 1.63313796  2.245553e-01  5.482391e-01  8.334550e-01\n",
       "  lambda[4]   6.087655e+00 9.56313050  5.872666e-01  1.712252e+00  3.087530e+00\n",
       "  lambda[5]   2.669866e+00 6.10155596  2.883655e-01  7.274236e-01  1.180675e+00\n",
       "  lambda[6]   1.964842e+00 3.32231160  2.145688e-01  5.864003e-01  9.612208e-01\n",
       "  lambda[7]   1.168583e+00 1.51115617  2.508588e-01  6.145981e-01  9.203970e-01\n",
       "  lambda[8]   3.004905e+00 5.20776477  2.896834e-01  8.127958e-01  1.412066e+00\n",
       "  lambda[9]   5.604233e-01 0.29910236  1.426709e-01  3.504751e-01  5.071931e-01\n",
       "  lambda[10]  2.160436e+00 3.78458227  2.610989e-01  6.972680e-01  1.114533e+00\n",
       "  lambda[11]  1.737447e+00 3.06835938  2.825782e-01  6.938112e-01  1.036966e+00\n",
       "  lambda[12]  3.475051e+00 7.66990648  3.383243e-01  8.701446e-01  1.427531e+00\n",
       "  lambda[13]  1.071286e+00 1.59942176  2.214158e-01  5.474740e-01  8.035903e-01\n",
       "  lambda[14]  7.666859e-01 0.76158916  1.799269e-01  4.470158e-01  6.603827e-01\n",
       "  tau         1.956754e+00 0.86445734  8.484311e-01  1.366364e+00  1.773989e+00\n",
       "  lp__       -1.118832e+03 4.74259882 -1.128883e+03 -1.121896e+03 -1.118583e+03\n",
       "            stats\n",
       "parameter              75%         97.5%\n",
       "  beta[1]     1.235021e-04  3.241912e-02\n",
       "  beta[2]    -5.971831e-01 -5.254162e-01\n",
       "  beta[3]    -2.339131e-01 -1.289460e-03\n",
       "  beta[4]     1.851145e-02  9.968465e-02\n",
       "  beta[5]    -2.037428e-02  2.729175e-02\n",
       "  beta[6]     5.269613e-01  7.888292e-01\n",
       "  beta[7]    -1.886885e-01 -9.660601e-03\n",
       "  beta[8]     2.637776e-01  5.605829e-01\n",
       "  beta[9]     1.056795e+00  1.276544e+00\n",
       "  beta[10]    3.684287e-01  6.275261e-01\n",
       "  beta[11]    3.813491e-01  6.107963e-01\n",
       "  beta[12]    2.843967e-01  6.797115e-01\n",
       "  beta[13]   -2.676570e-01 -1.641441e-03\n",
       "  beta[14]   -4.293647e-01 -2.032065e-01\n",
       "  lambda[1]   5.030998e+00  2.695263e+01\n",
       "  lambda[2]   8.521999e-01  1.542775e+00\n",
       "  lambda[3]   1.260162e+00  4.175901e+00\n",
       "  lambda[4]   6.159254e+00  3.362413e+01\n",
       "  lambda[5]   2.167210e+00  1.571431e+01\n",
       "  lambda[6]   1.845374e+00  1.138006e+01\n",
       "  lambda[7]   1.330206e+00  3.224719e+00\n",
       "  lambda[8]   2.842721e+00  1.752977e+01\n",
       "  lambda[9]   7.117727e-01  1.269067e+00\n",
       "  lambda[10]  1.982697e+00  1.211734e+01\n",
       "  lambda[11]  1.563535e+00  9.123998e+00\n",
       "  lambda[12]  2.707541e+00  2.153934e+01\n",
       "  lambda[13]  1.168191e+00  3.291323e+00\n",
       "  lambda[14]  9.411366e-01  1.772750e+00\n",
       "  tau         2.340138e+00  4.127922e+00\n",
       "  lp__       -1.115585e+03 -1.110062e+03\n",
       "\n"
      ]
     },
     "metadata": {},
     "output_type": "display_data"
    }
   ],
   "source": [
    "summary(sample.01)"
   ]
  },
  {
   "cell_type": "code",
   "execution_count": 32,
   "metadata": {},
   "outputs": [
    {
     "name": "stderr",
     "output_type": "stream",
     "text": [
      "'pars' not specified. Showing first 10 parameters by default.\n",
      "\n",
      "ci_level: 0.8 (80% intervals)\n",
      "\n",
      "outer_level: 0.95 (95% intervals)\n",
      "\n"
     ]
    },
    {
     "data": {
      "image/png": "[encoded data removed]",
      "text/plain": [
       "plot without title"
      ]
     },
     "metadata": {
      "image/png": {
       "height": 480,
       "width": 480
      }
     },
     "output_type": "display_data"
    }
   ],
   "source": [
    "plot(sample.01)"
   ]
  },
  {
   "cell_type": "markdown",
   "metadata": {},
   "source": [
    "Again, the traceplots of the logistic parameters look noisy enough, but that is not the case for all their sigmas: unfortunately, we could not improve this in a reasonable computation time. Some of the $\\beta$ posteriors look sharper than for the vanilla implementation, but the effect is far from ubiquitous and there are even some that look flatter (somewhat disappointingly, considering the supposed interest of the horseshoe for shrinking).\n",
    "\n",
    "To check for consistency among initial subsamples, we look at the mean posterior values of the logistic parameters ($\\beta_0$ and $\\beta$) for each of them. We use the function defined for the vanilla version:"
   ]
  },
  {
   "cell_type": "code",
   "execution_count": 31,
   "metadata": {},
   "outputs": [
    {
     "ename": "ERROR",
     "evalue": "Error in logistic.params(sample.01): could not find function \"logistic.params\"\n",
     "output_type": "error",
     "traceback": [
      "Error in logistic.params(sample.01): could not find function \"logistic.params\"\nTraceback:\n"
     ]
    }
   ],
   "source": [
    "logistic.params(sample.01)\n",
    "# logistic.params(sample.02)\n",
    "# logistic.params(sample.03)"
   ]
  },
  {
   "cell_type": "code",
   "execution_count": 27,
   "metadata": {},
   "outputs": [
    {
     "data": {
      "text/html": [
       "<style>\n",
       ".list-inline {list-style: none; margin:0; padding: 0}\n",
       ".list-inline>li {display: inline-block}\n",
       ".list-inline>li:not(:last-child)::after {content: \"\\00b7\"; padding: 0 .5ex}\n",
       "</style>\n",
       "<ol class=list-inline><li>'B_OWNPV_CHI2'</li><li>'B_IPCHI2_OWNPV'</li><li>'B_FDCHI2_OWNPV'</li><li>'B_DIRA_OWNPV'</li><li>'B_PT'</li><li>'Kst_892_0_IP_OWNPV'</li><li>'Kst_892_0_cosThetaH'</li><li>'Kplus_IP_OWNPV'</li><li>'Kplus_P'</li><li>'piminus_IP_OWNPV'</li><li>'piminus_P'</li><li>'gamma_PT'</li><li>'piminus_ETA'</li><li>'Kplus_ETA'</li></ol>\n"
      ],
      "text/latex": [
       "\\begin{enumerate*}\n",
       "\\item 'B\\_OWNPV\\_CHI2'\n",
       "\\item 'B\\_IPCHI2\\_OWNPV'\n",
       "\\item 'B\\_FDCHI2\\_OWNPV'\n",
       "\\item 'B\\_DIRA\\_OWNPV'\n",
       "\\item 'B\\_PT'\n",
       "\\item 'Kst\\_892\\_0\\_IP\\_OWNPV'\n",
       "\\item 'Kst\\_892\\_0\\_cosThetaH'\n",
       "\\item 'Kplus\\_IP\\_OWNPV'\n",
       "\\item 'Kplus\\_P'\n",
       "\\item 'piminus\\_IP\\_OWNPV'\n",
       "\\item 'piminus\\_P'\n",
       "\\item 'gamma\\_PT'\n",
       "\\item 'piminus\\_ETA'\n",
       "\\item 'Kplus\\_ETA'\n",
       "\\end{enumerate*}\n"
      ],
      "text/markdown": [
       "1. 'B_OWNPV_CHI2'\n",
       "2. 'B_IPCHI2_OWNPV'\n",
       "3. 'B_FDCHI2_OWNPV'\n",
       "4. 'B_DIRA_OWNPV'\n",
       "5. 'B_PT'\n",
       "6. 'Kst_892_0_IP_OWNPV'\n",
       "7. 'Kst_892_0_cosThetaH'\n",
       "8. 'Kplus_IP_OWNPV'\n",
       "9. 'Kplus_P'\n",
       "10. 'piminus_IP_OWNPV'\n",
       "11. 'piminus_P'\n",
       "12. 'gamma_PT'\n",
       "13. 'piminus_ETA'\n",
       "14. 'Kplus_ETA'\n",
       "\n",
       "\n"
      ],
      "text/plain": [
       " [1] \"B_OWNPV_CHI2\"        \"B_IPCHI2_OWNPV\"      \"B_FDCHI2_OWNPV\"     \n",
       " [4] \"B_DIRA_OWNPV\"        \"B_PT\"                \"Kst_892_0_IP_OWNPV\" \n",
       " [7] \"Kst_892_0_cosThetaH\" \"Kplus_IP_OWNPV\"      \"Kplus_P\"            \n",
       "[10] \"piminus_IP_OWNPV\"    \"piminus_P\"           \"gamma_PT\"           \n",
       "[13] \"piminus_ETA\"         \"Kplus_ETA\"          "
      ]
     },
     "metadata": {},
     "output_type": "display_data"
    }
   ],
   "source": [
    "colnames(x0.01)"
   ]
  },
  {
   "cell_type": "markdown",
   "metadata": {},
   "source": [
    "Again, although there is some variability (perhaps more than in the vanilla case), the posterior means present overall consistence. Note that $\\beta_4$ (**B_DIRA_OWNPV**) is more suppressed than in the vanilla case, while the intercept is similarly supressed. Regarding predictors specifically supressed by the horseshoe, it seems we have both $\\beta_1$ (**B_OWNPV_CHI2**) and $\\beta_{11}$ (**piminus_P**). It is however somewhat puzzling that the predictors filtered out by the horseshoe are not among the ones showing colinearity at preprocessing."
   ]
  },
  {
   "cell_type": "markdown",
   "metadata": {},
   "source": [
    "### 3.2. Evaluation"
   ]
  },
  {
   "cell_type": "markdown",
   "metadata": {},
   "source": [
    "We use the evaluation function defined for the vanilla logistic regression to get train and test deviation, AIC, BIC, AUC and recall:"
   ]
  },
  {
   "cell_type": "code",
   "execution_count": 29,
   "metadata": {},
   "outputs": [],
   "source": [
    "evaluate<-function(sample, x, y, phase, threshold=NULL){\n",
    "    n<-dim(x)[1]    \n",
    "    n.pars<-dim(x)[2]\n",
    "    b<-colMeans(as.matrix(sample))[1:14]\n",
    "    #probabilities\n",
    "    eta.bar<-as.numeric(as.matrix(x) %*% b)\n",
    "    p.bar<-1/(1+exp(-eta.bar))\n",
    "    #log-likelihood\n",
    "    logL.hat<-sum(y * log(p.bar) + (1 - y) * log(1 - p.bar))\n",
    "    #AUC\n",
    "    roc_obj <- roc(y, p.bar)\n",
    "    AUC.hat<-auc(roc_obj)\n",
    "    cat(\"\\n\", phase,\"AUC:\", round(AUC.hat,4)) \n",
    "    #deviance\n",
    "    D.hat<- -2*logL.hat\n",
    "    cat(\"\\n\", phase,\"Deviance:\", round(D.hat,4))  \n",
    "    #AIC\n",
    "    AIC.hat<-D.hat+2*n.pars\n",
    "    cat(\"\\n\", phase,\"AIC:\", round(AIC.hat,4))  \n",
    "    #BIC\n",
    "    BIC.hat<-D.hat+log(n)*n.pars\n",
    "    cat(\"\\n\", phase,\"BIC:\", round(BIC.hat,4))  \n",
    "    #if training phase, print JAGS quantities as well for comparison\n",
    "    if (phase==\"train\"){ \n",
    "        #compute threshold and recall/sensitivity for best operating point\n",
    "        #in ROC curve\n",
    "        rc <- ROC(test=p.bar, stat = as.logical(y), plot=\"ROC\", main=\"Train ROC curve\") \n",
    "        # optimal combination\n",
    "        opt <- which.max(rowSums(rc$res[, c(\"sens\", \"spec\")]))\n",
    "        # optimal cut-off point and corresponding recall\n",
    "        threshold = as.numeric(names(opt))\n",
    "        recall<-rc$res$sens[opt]\n",
    "        cat(\"\\n\", phase, \"recall/sensitivity\", round(recall, 4))\n",
    "        return(threshold)\n",
    "        } else{\n",
    "        check<-y+p.bar\n",
    "        true.p<-0\n",
    "        total.p<-sum(y)\n",
    "        for (num in check){\n",
    "            if (num >= (1+threshold)){\n",
    "            true.p<-true.p+1    \n",
    "            }\n",
    "        }\n",
    "        recall<-true.p/total.p\n",
    "        cat(\"\\n\", phase, \"recall/sensitivity\", round(recall, 4))\n",
    "            \n",
    "        }\n",
    "    \n",
    "    }"
   ]
  },
  {
   "cell_type": "code",
   "execution_count": 30,
   "metadata": {},
   "outputs": [
    {
     "name": "stderr",
     "output_type": "stream",
     "text": [
      "Setting levels: control = 0, case = 1\n",
      "\n",
      "Setting direction: controls < cases\n",
      "\n"
     ]
    },
    {
     "name": "stdout",
     "output_type": "stream",
     "text": [
      "\n",
      " train AUC: 0.7901\n",
      " train Deviance: 2217.955\n",
      " train AIC: 2245.955\n",
      " train BIC: 2324.368\n",
      " train recall/sensitivity 0.716"
     ]
    },
    {
     "name": "stderr",
     "output_type": "stream",
     "text": [
      "Setting levels: control = 0, case = 1\n",
      "\n",
      "Setting direction: controls < cases\n",
      "\n"
     ]
    },
    {
     "name": "stdout",
     "output_type": "stream",
     "text": [
      "\n",
      " test AUC: 0.7896\n",
      " test Deviance: 248331.4\n",
      " test AIC: 248359.4\n",
      " test BIC: 248503\n",
      " test recall/sensitivity 0.7698"
     ]
    },
    {
     "data": {
      "image/png": "[encoded data removed]",
      "text/plain": [
       "Plot with title “Train ROC curve”"
      ]
     },
     "metadata": {
      "image/png": {
       "height": 480,
       "width": 480
      }
     },
     "output_type": "display_data"
    }
   ],
   "source": [
    "thr<-evaluate(sample.01, x0.01, y.01, phase=\"train\")\n",
    "\n",
    "xt<-model.matrix(Response~.,test.01)[,-1] #[,-1] to remove intercept intrduced by model.matrix\n",
    "xt<-standardise(xt)\n",
    "yt<-test.01$Response\n",
    "evaluate(sample.01, xt, yt, phase=\"test\", threshold = thr)"
   ]
  }
 ],
 "metadata": {
  "kernelspec": {
   "display_name": "R",
   "language": "R",
   "name": "ir"
  },
  "language_info": {
   "codemirror_mode": "r",
   "file_extension": ".r",
   "mimetype": "text/x-r-source",
   "name": "R",
   "pygments_lexer": "r",
   "version": "4.0.4"
  }
 },
 "nbformat": 4,
 "nbformat_minor": 4
}
