{
 "cells": [
  {
   "cell_type": "markdown",
   "metadata": {
    "tags": []
   },
   "source": [
    " ### Bayesian Statistics, Course Project \n",
    "# Kaggle challenge on particle physics\n",
    "# Logistic regression with Spike and Slab\n",
    "### Vanilla and Horseshoe implementations\n"
   ]
  },
  {
   "cell_type": "markdown",
   "metadata": {},
   "source": [
    "### Adrián Fernández Cid, Aitor Lucas Castellano, Marcos Moreno Blanco & Noel Rabella Gras\n",
    "### 28-06-2021"
   ]
  },
  {
   "cell_type": "markdown",
   "metadata": {},
   "source": [
    "***\n",
    "###### LaTeX macros\n",
    "$\\def\\prob{P}$\n",
    "$\\def\\argmax{\\operatorname{arg\\,max}}$\n",
    "$\\def\\argmin{\\operatorname{arg\\,min}}$\n",
    "$\\def\\borel{\\operatorname{Borel}}$\n",
    "$\\def\\cE{\\cal E}$\n",
    "$\\def\\cP{\\cal P}$\n",
    "$\\def\\R{\\mathbb{R}}$ \n",
    "$\\def\\N{\\mathbb{N}}$\n",
    "$\\def\\Z{\\mathbb{Z}}$\n",
    "$\\def\\Ee{\\operatorname{E}}$\n",
    "$\\def\\va{\\text{v.a.}}$\n",
    "$\\def\\var{\\operatorname{var}}$\n",
    "$\\def\\Var{\\operatorname{Var}}$\n",
    "$\\def\\cov{\\operatorname{cov}}$\n",
    "$\\def\\cor{\\operatorname{cor}}$\n",
    "$\\def\\binomdist{\\operatorname{Binom}}$\n",
    "$\\def\\berndist{\\operatorname{Ber}}$\n",
    "$\\def\\betabinomdist{\\operatorname{Beta-Binom}}$\n",
    "$\\def\\betadist{\\operatorname{Beta}}$\n",
    "$\\def\\cauchydist{\\operatorname{Cauchy}}$\n",
    "$\\def\\dexpdist{\\operatorname{DExp}}$\n",
    "$\\def\\expdist{\\operatorname{Exp}}$\n",
    "$\\def\\fdist{\\operatorname{F}}$\n",
    "$\\def\\gammadist{\\operatorname{Gamma}}$\n",
    "$\\def\\geomdist{\\operatorname{Geom}}$\n",
    "$\\def\\halfcauchydist{\\operatorname{Cauchy}^{+}}$\n",
    "$\\def\\hyperdist{\\operatorname{Hypergeom}}$\n",
    "$\\def\\hypergeomdist{\\operatorname{Hypergeom}}$\n",
    "$\\DeclareMathOperator{\\invgammadist}{IG}$\n",
    "$\\def\\laplacedist{\\operatorname{Laplace}}$\n",
    "$\\DeclareMathOperator{\\multinomialdist}{Multinomial}$\n",
    "$\\DeclareMathOperator{\\multinomdist}{Multinom}$\n",
    "$\\def\\normaldist{\\operatorname{N}}$\n",
    "$\\def\\poissondist{\\operatorname{Poisson}}$\n",
    "$\\def\\tdist{\\operatorname{t}}$\n",
    "$\\def\\unifdist{\\operatorname{Unif}}$\n",
    "$\\def\\xbar{\\kern1.3pt\\overline{\\kern-1.3pt x}}$\n",
    "$\\def\\Xbar{\\kern1.3pt\\overline{\\kern-1.3pt X}}$\n",
    "$\\def\\yhat{\\kern1.3pt\\hat{\\kern-1.3pt y}}$\n",
    "$\\def\\betahat{\\kern1.3pt\\hat{\\kern-1.3pt \\beta}}$\n",
    "$\\DeclareMathOperator{\\indica}{\\mathbb{1}}$\n",
    "$\\def\\CondTo{\\mathbin{|\\mskip0.5mu}}$\n",
    "$\\def\\eqdef{\\stackrel{\\text{def}}{\\mskip3mu=\\mskip3mu}}$\n",
    "***"
   ]
  },
  {
   "cell_type": "markdown",
   "metadata": {},
   "source": [
    "## Outline\n",
    "### 1. Data exploration and preprocessing   \n",
    "### 2. Vanilla logistic regression with Spike and Slab\n",
    "#### 2.1. Modelling\n",
    "#### 2.2. Evaluation "
   ]
  },
  {
   "cell_type": "markdown",
   "metadata": {},
   "source": [
    "## 1. Data exploration and preprocessing\n",
    "\n",
    "We have a tabular dataset with information on particle collisions recorded at the LHCb experiment at CERN, and the objective is to identify the presence of a specific process: **the decomposition of $B_0$ into $K^0$**. We therefore have a binary classification problem, in which the focus is placed on the pòsitive signal. This last point suggests we keep an eye on recall (also known as sensitivity) to maximise true postives.\n",
    "\n",
    "Since the meaning of the predictors is not obvious, we include their description here:\n",
    "\n",
    "**B_FDCHI2_OWNPV**: Flight distance of the B meson with respect to the primary vertex (point of proton-proton collision).\n",
    "\n",
    "**B_IPCHI2_OWNPV**: Impact parameter. Shortest distance between the B meson trajectory and the primary vertex.\n",
    "\n",
    "**B_PT**: B meson transverse momentum\n",
    "\n",
    "**PIMINUS** & **KPLUS PSEUDORAPIDITY**: Angle of the piminus and Kplus particles with respect to the beam axis.\n",
    "\n",
    "**KPLUS** & **PIMINUS P**: Kplus and piminus momentum.\n",
    "\n",
    "**KST_892_0_COSTHETAH**: K* helicity angle. Angle formed bewteen one of the particle products of K* (piminus or Kplus) and the B meson in the reference frame of the K* (rest frame)\n",
    "GAMMA_PT: photon transverse momentum.\n",
    "\n",
    "**KST_892_0_IP_OWNPV**: Impact parameter of K*, which corresponds to the shortest distance between the K* trajectory and the primary vertex.\n",
    "\n",
    "**B_OWNPV_CHI2**: Chi2 test of the primary vertex distribution.\n",
    "\n",
    "**KPLUS** & **PIMINUS IP_OWNPV**: Shortest distance between the Kplus or the piminus trajectory and the primary vertex.\n",
    "\n",
    "**B_DIRA_OWNPV**: Corresponds to the cosine of the angle formed by the momentum of the B meson and the vector formed between the initial (primary vertex) and final position (decay vertex) of the B meson.\n",
    "\n",
    "The data, published code and other details of the challenge are available at:\n",
    "https://www.kaggle.com/c/cernsignal/overview.\n",
    "\n"
   ]
  },
  {
   "cell_type": "code",
   "execution_count": 3,
   "metadata": {},
   "outputs": [
    {
     "name": "stderr",
     "output_type": "stream",
     "text": [
      "Loading required package: mcsm\n",
      "\n",
      "Loading required package: MASS\n",
      "\n",
      "Loading required package: coda\n",
      "\n",
      "Loading required package: bayesplot\n",
      "\n",
      "This is bayesplot version 1.8.0\n",
      "\n",
      "- Online documentation and vignettes at mc-stan.org/bayesplot\n",
      "\n",
      "- bayesplot theme set to bayesplot::theme_default()\n",
      "\n",
      "   * Does _not_ affect other ggplot2 plots\n",
      "\n",
      "   * See ?bayesplot_theme_set for details on theme setting\n",
      "\n",
      "Loading required package: dplyr\n",
      "\n",
      "\n",
      "Attaching package: ‘dplyr’\n",
      "\n",
      "\n",
      "The following object is masked from ‘package:MASS’:\n",
      "\n",
      "    select\n",
      "\n",
      "\n",
      "The following objects are masked from ‘package:stats’:\n",
      "\n",
      "    filter, lag\n",
      "\n",
      "\n",
      "The following objects are masked from ‘package:base’:\n",
      "\n",
      "    intersect, setdiff, setequal, union\n",
      "\n",
      "\n",
      "Loading required package: Epi\n",
      "\n",
      "Loading required package: corrplot\n",
      "\n",
      "corrplot 0.88 loaded\n",
      "\n",
      "Loading required package: rstan\n",
      "\n",
      "Loading required package: StanHeaders\n",
      "\n",
      "Loading required package: ggplot2\n",
      "\n",
      "rstan (Version 2.21.2, GitRev: 2e1f913d3ca3)\n",
      "\n",
      "For execution on a local, multicore CPU with excess RAM we recommend calling\n",
      "options(mc.cores = parallel::detectCores()).\n",
      "To avoid recompilation of unchanged Stan programs, we recommend calling\n",
      "rstan_options(auto_write = TRUE)\n",
      "\n",
      "\n",
      "Attaching package: ‘rstan’\n",
      "\n",
      "\n",
      "The following object is masked from ‘package:coda’:\n",
      "\n",
      "    traceplot\n",
      "\n",
      "\n",
      "Loading required package: pROC\n",
      "\n",
      "Type 'citation(\"pROC\")' for a citation.\n",
      "\n",
      "\n",
      "Attaching package: ‘pROC’\n",
      "\n",
      "\n",
      "The following objects are masked from ‘package:stats’:\n",
      "\n",
      "    cov, smooth, var\n",
      "\n",
      "\n",
      "Loading required package: unbalanced\n",
      "\n",
      "Loading required package: mlr\n",
      "\n",
      "Loading required package: ParamHelpers\n",
      "\n",
      "Warning message: 'mlr' is in 'maintenance-only' mode since July 2019.\n",
      "Future development will only happen in 'mlr3'\n",
      "(<https://mlr3.mlr-org.com>). Due to the focus on 'mlr3' there might be\n",
      "uncaught bugs meanwhile in {mlr} - please consider switching.\n",
      "\n",
      "Loading required package: foreach\n",
      "\n",
      "Loading required package: doParallel\n",
      "\n",
      "Loading required package: iterators\n",
      "\n",
      "Loading required package: parallel\n",
      "\n",
      "Loading required package: tree\n",
      "\n",
      "Registered S3 method overwritten by 'tree':\n",
      "  method     from\n",
      "  print.tree cli \n",
      "\n",
      "Loading required package: caret\n",
      "\n",
      "Loading required package: lattice\n",
      "\n",
      "\n",
      "Attaching package: ‘caret’\n",
      "\n",
      "\n",
      "The following object is masked from ‘package:mlr’:\n",
      "\n",
      "    train\n",
      "\n",
      "\n",
      "Loading required package: BoomSpikeSlab\n",
      "\n",
      "Loading required package: Boom\n",
      "\n",
      "\n",
      "Attaching package: ‘Boom’\n",
      "\n",
      "\n",
      "The following object is masked from ‘package:coda’:\n",
      "\n",
      "    thin\n",
      "\n",
      "\n",
      "The following object is masked from ‘package:stats’:\n",
      "\n",
      "    rWishart\n",
      "\n",
      "\n",
      "\n",
      "Attaching package: ‘BoomSpikeSlab’\n",
      "\n",
      "\n",
      "The following object is masked from ‘package:stats’:\n",
      "\n",
      "    knots\n",
      "\n",
      "\n"
     ]
    }
   ],
   "source": [
    "# load required packages for the whole notebook\n",
    "require(mcsm)\n",
    "require(bayesplot)\n",
    "require(dplyr)\n",
    "#install.packages(\"Epi\",dependencies=TRUE,repos=\"https://cloud.r-project.org\")\n",
    "require(Epi)\n",
    "#install.packages(\"corrplot\",dependencies=TRUE,repos=\"https://cloud.r-project.org\")\n",
    "require(corrplot)\n",
    "#install.packages(\"R2jags\",dependencies=TRUE,repos=\"https://cloud.r-project.org\")\n",
    "require(rstan)\n",
    "#install.packages(\"pROC\",dependencies=TRUE,repos=\"https://cloud.r-project.org\")\n",
    "require(pROC)\n",
    "#install.packages(\"unbalanced\",dependencies=TRUE,repos=\"https://cloud.r-project.org\")\n",
    "require(unbalanced)\n",
    "# install.packages(\"tree\")\n",
    "require(tree)\n",
    "require(caret)\n",
    "# install.packages(\"BoomSpikeSlab\")\n",
    "require(BoomSpikeSlab)"
   ]
  },
  {
   "cell_type": "markdown",
   "metadata": {},
   "source": [
    "Load labelled dataset (we will only use this):"
   ]
  },
  {
   "cell_type": "code",
   "execution_count": 4,
   "metadata": {},
   "outputs": [
    {
     "data": {
      "text/html": [
       "<style>\n",
       ".list-inline {list-style: none; margin:0; padding: 0}\n",
       ".list-inline>li {display: inline-block}\n",
       ".list-inline>li:not(:last-child)::after {content: \"\\00b7\"; padding: 0 .5ex}\n",
       "</style>\n",
       "<ol class=list-inline><li>'Id'</li><li>'B_OWNPV_CHI2'</li><li>'B_IPCHI2_OWNPV'</li><li>'B_FDCHI2_OWNPV'</li><li>'B_DIRA_OWNPV'</li><li>'B_PT'</li><li>'Kst_892_0_IP_OWNPV'</li><li>'Kst_892_0_cosThetaH'</li><li>'Kplus_IP_OWNPV'</li><li>'Kplus_P'</li><li>'piminus_IP_OWNPV'</li><li>'piminus_P'</li><li>'gamma_PT'</li><li>'piminus_ETA'</li><li>'Kplus_ETA'</li><li>'BUTTER'</li><li>'signal'</li></ol>\n"
      ],
      "text/latex": [
       "\\begin{enumerate*}\n",
       "\\item 'Id'\n",
       "\\item 'B\\_OWNPV\\_CHI2'\n",
       "\\item 'B\\_IPCHI2\\_OWNPV'\n",
       "\\item 'B\\_FDCHI2\\_OWNPV'\n",
       "\\item 'B\\_DIRA\\_OWNPV'\n",
       "\\item 'B\\_PT'\n",
       "\\item 'Kst\\_892\\_0\\_IP\\_OWNPV'\n",
       "\\item 'Kst\\_892\\_0\\_cosThetaH'\n",
       "\\item 'Kplus\\_IP\\_OWNPV'\n",
       "\\item 'Kplus\\_P'\n",
       "\\item 'piminus\\_IP\\_OWNPV'\n",
       "\\item 'piminus\\_P'\n",
       "\\item 'gamma\\_PT'\n",
       "\\item 'piminus\\_ETA'\n",
       "\\item 'Kplus\\_ETA'\n",
       "\\item 'BUTTER'\n",
       "\\item 'signal'\n",
       "\\end{enumerate*}\n"
      ],
      "text/markdown": [
       "1. 'Id'\n",
       "2. 'B_OWNPV_CHI2'\n",
       "3. 'B_IPCHI2_OWNPV'\n",
       "4. 'B_FDCHI2_OWNPV'\n",
       "5. 'B_DIRA_OWNPV'\n",
       "6. 'B_PT'\n",
       "7. 'Kst_892_0_IP_OWNPV'\n",
       "8. 'Kst_892_0_cosThetaH'\n",
       "9. 'Kplus_IP_OWNPV'\n",
       "10. 'Kplus_P'\n",
       "11. 'piminus_IP_OWNPV'\n",
       "12. 'piminus_P'\n",
       "13. 'gamma_PT'\n",
       "14. 'piminus_ETA'\n",
       "15. 'Kplus_ETA'\n",
       "16. 'BUTTER'\n",
       "17. 'signal'\n",
       "\n",
       "\n"
      ],
      "text/plain": [
       " [1] \"Id\"                  \"B_OWNPV_CHI2\"        \"B_IPCHI2_OWNPV\"     \n",
       " [4] \"B_FDCHI2_OWNPV\"      \"B_DIRA_OWNPV\"        \"B_PT\"               \n",
       " [7] \"Kst_892_0_IP_OWNPV\"  \"Kst_892_0_cosThetaH\" \"Kplus_IP_OWNPV\"     \n",
       "[10] \"Kplus_P\"             \"piminus_IP_OWNPV\"    \"piminus_P\"          \n",
       "[13] \"gamma_PT\"            \"piminus_ETA\"         \"Kplus_ETA\"          \n",
       "[16] \"BUTTER\"              \"signal\"             "
      ]
     },
     "metadata": {},
     "output_type": "display_data"
    },
    {
     "name": "stdout",
     "output_type": "stream",
     "text": [
      "'data.frame':\t212662 obs. of  17 variables:\n",
      " $ Id                 : int  0 1 2 3 4 5 6 7 8 9 ...\n",
      " $ B_OWNPV_CHI2       : num  28.9 34.2 36.1 14.3 60.5 ...\n",
      " $ B_IPCHI2_OWNPV     : num  2.6625 0.0927 2.4424 6.3376 7.6328 ...\n",
      " $ B_FDCHI2_OWNPV     : num  2925 347 239 227 107 ...\n",
      " $ B_DIRA_OWNPV       : num  1 1 1 1 1 ...\n",
      " $ B_PT               : num  19086 6631 7741 6740 5556 ...\n",
      " $ Kst_892_0_IP_OWNPV : num  0.569 0.249 0.222 0.347 0.204 ...\n",
      " $ Kst_892_0_cosThetaH: num  -0.576 -0.616 0.249 0.592 0.656 ...\n",
      " $ Kplus_IP_OWNPV     : num  0.582 0.278 0.217 0.307 0.197 ...\n",
      " $ Kplus_P            : num  66851 39274 27757 10593 11801 ...\n",
      " $ piminus_IP_OWNPV   : num  0.638 0.149 0.25 0.401 0.223 ...\n",
      " $ piminus_P          : num  14298 11553 24081 11344 25941 ...\n",
      " $ gamma_PT           : num  7941 3905 4739 3309 4026 ...\n",
      " $ piminus_ETA        : num  2.63 3.29 3.43 2.29 3.29 ...\n",
      " $ Kplus_ETA          : num  2.68 3.09 3.12 2.2 3.28 ...\n",
      " $ BUTTER             : num  0.551 0.543 0.866 -0.443 -0.447 ...\n",
      " $ signal             : num  1 1 1 0 0 0 1 0 0 0 ...\n"
     ]
    }
   ],
   "source": [
    "train <- read.csv(\"data/train.csv\")\n",
    "names(train)\n",
    "str(train)"
   ]
  },
  {
   "cell_type": "markdown",
   "metadata": {},
   "source": [
    "There are no NA (not available) values:"
   ]
  },
  {
   "cell_type": "code",
   "execution_count": 5,
   "metadata": {},
   "outputs": [
    {
     "data": {
      "text/html": [
       "<style>\n",
       ".list-inline {list-style: none; margin:0; padding: 0}\n",
       ".list-inline>li {display: inline-block}\n",
       ".list-inline>li:not(:last-child)::after {content: \"\\00b7\"; padding: 0 .5ex}\n",
       "</style>\n",
       "<ol class=list-inline><li>212662</li><li>17</li></ol>\n"
      ],
      "text/latex": [
       "\\begin{enumerate*}\n",
       "\\item 212662\n",
       "\\item 17\n",
       "\\end{enumerate*}\n"
      ],
      "text/markdown": [
       "1. 212662\n",
       "2. 17\n",
       "\n",
       "\n"
      ],
      "text/plain": [
       "[1] 212662     17"
      ]
     },
     "metadata": {},
     "output_type": "display_data"
    },
    {
     "data": {
      "text/html": [
       "0"
      ],
      "text/latex": [
       "0"
      ],
      "text/markdown": [
       "0"
      ],
      "text/plain": [
       "[1] 0"
      ]
     },
     "metadata": {},
     "output_type": "display_data"
    },
    {
     "data": {
      "text/html": [
       "<style>\n",
       ".list-inline {list-style: none; margin:0; padding: 0}\n",
       ".list-inline>li {display: inline-block}\n",
       ".list-inline>li:not(:last-child)::after {content: \"\\00b7\"; padding: 0 .5ex}\n",
       "</style>\n",
       "<ol class=list-inline><li>212662</li><li>17</li></ol>\n"
      ],
      "text/latex": [
       "\\begin{enumerate*}\n",
       "\\item 212662\n",
       "\\item 17\n",
       "\\end{enumerate*}\n"
      ],
      "text/markdown": [
       "1. 212662\n",
       "2. 17\n",
       "\n",
       "\n"
      ],
      "text/plain": [
       "[1] 212662     17"
      ]
     },
     "metadata": {},
     "output_type": "display_data"
    },
    {
     "data": {
      "text/html": [
       "0"
      ],
      "text/latex": [
       "0"
      ],
      "text/markdown": [
       "0"
      ],
      "text/plain": [
       "[1] 0"
      ]
     },
     "metadata": {},
     "output_type": "display_data"
    }
   ],
   "source": [
    "dim(train)\n",
    "sum(is.na(train))\n",
    "train=na.omit(train)\n",
    "dim(train)\n",
    "sum(is.na(train))"
   ]
  },
  {
   "cell_type": "markdown",
   "metadata": {},
   "source": [
    "Remove **Id** (just an index) and **BUTTER** (an irrelevant column with butter consumption in Switzerland, purposely placed as a test). All other columns are numeric, so no need to factor any of them nor for a subsequent one-hot encoding."
   ]
  },
  {
   "cell_type": "code",
   "execution_count": 6,
   "metadata": {},
   "outputs": [
    {
     "name": "stdout",
     "output_type": "stream",
     "text": [
      "'data.frame':\t212662 obs. of  15 variables:\n",
      " $ B_OWNPV_CHI2       : num  28.9 34.2 36.1 14.3 60.5 ...\n",
      " $ B_IPCHI2_OWNPV     : num  2.6625 0.0927 2.4424 6.3376 7.6328 ...\n",
      " $ B_FDCHI2_OWNPV     : num  2925 347 239 227 107 ...\n",
      " $ B_DIRA_OWNPV       : num  1 1 1 1 1 ...\n",
      " $ B_PT               : num  19086 6631 7741 6740 5556 ...\n",
      " $ Kst_892_0_IP_OWNPV : num  0.569 0.249 0.222 0.347 0.204 ...\n",
      " $ Kst_892_0_cosThetaH: num  -0.576 -0.616 0.249 0.592 0.656 ...\n",
      " $ Kplus_IP_OWNPV     : num  0.582 0.278 0.217 0.307 0.197 ...\n",
      " $ Kplus_P            : num  66851 39274 27757 10593 11801 ...\n",
      " $ piminus_IP_OWNPV   : num  0.638 0.149 0.25 0.401 0.223 ...\n",
      " $ piminus_P          : num  14298 11553 24081 11344 25941 ...\n",
      " $ gamma_PT           : num  7941 3905 4739 3309 4026 ...\n",
      " $ piminus_ETA        : num  2.63 3.29 3.43 2.29 3.29 ...\n",
      " $ Kplus_ETA          : num  2.68 3.09 3.12 2.2 3.28 ...\n",
      " $ Response           : num  1 1 1 0 0 0 1 0 0 0 ...\n"
     ]
    }
   ],
   "source": [
    "data <- select(train, -Id\n",
    "               , -BUTTER\n",
    "              )\n",
    "# rename \"signal\" column to fit the rest of the code\n",
    "names(data)[names(data) == 'signal'] <- 'Response'\n",
    "str(data)"
   ]
  },
  {
   "cell_type": "markdown",
   "metadata": {},
   "source": [
    "The variable **B_DIRA_OWNPV** seems to have little variability and therefore contain little information. We won't remove it just yet, but this is something to keep in mind:"
   ]
  },
  {
   "cell_type": "code",
   "execution_count": 7,
   "metadata": {},
   "outputs": [
    {
     "data": {
      "text/plain": [
       "   Min. 1st Qu.  Median    Mean 3rd Qu.    Max. \n",
       " 0.9995  1.0000  1.0000  1.0000  1.0000  1.0000 "
      ]
     },
     "metadata": {},
     "output_type": "display_data"
    }
   ],
   "source": [
    "summary(data$B_DIRA_OWNPV)"
   ]
  },
  {
   "cell_type": "markdown",
   "metadata": {},
   "source": [
    "Note the signal (presence of the process of interest $\\equiv$ 1) is sparse:"
   ]
  },
  {
   "cell_type": "code",
   "execution_count": 8,
   "metadata": {},
   "outputs": [
    {
     "data": {
      "text/html": [
       "212662"
      ],
      "text/latex": [
       "212662"
      ],
      "text/markdown": [
       "212662"
      ],
      "text/plain": [
       "[1] 212662"
      ]
     },
     "metadata": {},
     "output_type": "display_data"
    },
    {
     "data": {
      "text/html": [
       "71030"
      ],
      "text/latex": [
       "71030"
      ],
      "text/markdown": [
       "71030"
      ],
      "text/plain": [
       "[1] 71030"
      ]
     },
     "metadata": {},
     "output_type": "display_data"
    },
    {
     "data": {
      "text/html": [
       "0.334"
      ],
      "text/latex": [
       "0.334"
      ],
      "text/markdown": [
       "0.334"
      ],
      "text/plain": [
       "[1] 0.334"
      ]
     },
     "metadata": {},
     "output_type": "display_data"
    }
   ],
   "source": [
    "n<-length(data$Response)\n",
    "n\n",
    "n1<-sum(data$Response)\n",
    "n1\n",
    "f<-n1/n\n",
    "round(f,3)"
   ]
  },
  {
   "cell_type": "code",
   "execution_count": 9,
   "metadata": {},
   "outputs": [
    {
     "data": {
      "text/html": [
       "<style>\n",
       ".list-inline {list-style: none; margin:0; padding: 0}\n",
       ".list-inline>li {display: inline-block}\n",
       ".list-inline>li:not(:last-child)::after {content: \"\\00b7\"; padding: 0 .5ex}\n",
       "</style>\n",
       "<ol class=list-inline><li>212662</li><li>15</li></ol>\n"
      ],
      "text/latex": [
       "\\begin{enumerate*}\n",
       "\\item 212662\n",
       "\\item 15\n",
       "\\end{enumerate*}\n"
      ],
      "text/markdown": [
       "1. 212662\n",
       "2. 15\n",
       "\n",
       "\n"
      ],
      "text/plain": [
       "[1] 212662     15"
      ]
     },
     "metadata": {},
     "output_type": "display_data"
    },
    {
     "data": {
      "text/html": [
       "<style>\n",
       ".list-inline {list-style: none; margin:0; padding: 0}\n",
       ".list-inline>li {display: inline-block}\n",
       ".list-inline>li:not(:last-child)::after {content: \"\\00b7\"; padding: 0 .5ex}\n",
       "</style>\n",
       "<ol class=list-inline><li>71030</li><li>15</li></ol>\n"
      ],
      "text/latex": [
       "\\begin{enumerate*}\n",
       "\\item 71030\n",
       "\\item 15\n",
       "\\end{enumerate*}\n"
      ],
      "text/markdown": [
       "1. 71030\n",
       "2. 15\n",
       "\n",
       "\n"
      ],
      "text/plain": [
       "[1] 71030    15"
      ]
     },
     "metadata": {},
     "output_type": "display_data"
    },
    {
     "data": {
      "text/html": [
       "<style>\n",
       ".list-inline {list-style: none; margin:0; padding: 0}\n",
       ".list-inline>li {display: inline-block}\n",
       ".list-inline>li:not(:last-child)::after {content: \"\\00b7\"; padding: 0 .5ex}\n",
       "</style>\n",
       "<ol class=list-inline><li>141632</li><li>15</li></ol>\n"
      ],
      "text/latex": [
       "\\begin{enumerate*}\n",
       "\\item 141632\n",
       "\\item 15\n",
       "\\end{enumerate*}\n"
      ],
      "text/markdown": [
       "1. 141632\n",
       "2. 15\n",
       "\n",
       "\n"
      ],
      "text/plain": [
       "[1] 141632     15"
      ]
     },
     "metadata": {},
     "output_type": "display_data"
    }
   ],
   "source": [
    "positives=subset(data, data$Response==1)\n",
    "negatives=subset(data, data$Response==0)\n",
    "\n",
    "dim(data)\n",
    "dim(positives)\n",
    "dim(negatives)\n",
    "#str(positives)"
   ]
  },
  {
   "cell_type": "code",
   "execution_count": 10,
   "metadata": {},
   "outputs": [],
   "source": [
    "subsample.balanced<-function(positives, negatives, nh, seed){\n",
    "    sample.hsize<-nh\n",
    "    set.seed(seed)   # for reproducibility\n",
    "    # positive subsamples\n",
    "    train.ind <- sample(seq_len(nrow(positives)),size = sample.hsize)  # Randomly (uniform dist) identifies the rows equal to sample size from  all the rows of data and stores the row number in train_ind\n",
    "    pos.sample.train <- positives[train.ind,] #creates the training dataset with row numbers stored in train.ind\n",
    "    pos.sample.test <- positives[-train.ind,]  # creates the test dataset excluding the row numbers mentioned in train.ind\n",
    "    #negative subsamples\n",
    "    train.ind <- sample(seq_len(nrow(negatives)),size = sample.hsize) \n",
    "    neg.sample.train <- negatives[train.ind,]\n",
    "    neg.sample.test <- negatives[-train.ind,]  \n",
    "    #final train and test subsets\n",
    "    train.subsample<-bind_rows(pos.sample.train, neg.sample.train)\n",
    "    test.subsample<-bind_rows(pos.sample.test, neg.sample.test)\n",
    "    return(list(\"train\"=train.subsample, \"test\"=test.subsample))\n",
    "    }"
   ]
  },
  {
   "cell_type": "markdown",
   "metadata": {},
   "source": [
    "Since the spike and slab prior with logistic regression function does work really fast, we in this case decided to take a larger amount of samples and just do the evaluation on one subsample."
   ]
  },
  {
   "cell_type": "code",
   "execution_count": 11,
   "metadata": {},
   "outputs": [],
   "source": [
    "nh<-70000\n",
    "subsample.01 <- subsample.balanced(positives, negatives, nh=nh, seed=4)\n",
    "train.01<-subsample.01$train\n",
    "test.01<-subsample.01$test"
   ]
  },
  {
   "cell_type": "markdown",
   "metadata": {},
   "source": [
    "We apply some formatting:"
   ]
  },
  {
   "cell_type": "code",
   "execution_count": 12,
   "metadata": {},
   "outputs": [],
   "source": [
    "# Convert factors to one-hot indicators\n",
    "x.01<-model.matrix(Response~.,train.01)[,-1] #[,-1] to remove intercept intrduced by model.matrix\n",
    "y.01<-train.01$Response"
   ]
  },
  {
   "cell_type": "code",
   "execution_count": 13,
   "metadata": {},
   "outputs": [
    {
     "data": {
      "text/html": [
       "140000"
      ],
      "text/latex": [
       "140000"
      ],
      "text/markdown": [
       "140000"
      ],
      "text/plain": [
       "[1] 140000"
      ]
     },
     "metadata": {},
     "output_type": "display_data"
    },
    {
     "data": {
      "text/plain": [
       "y.01\n",
       "    0     1 \n",
       "70000 70000 "
      ]
     },
     "metadata": {},
     "output_type": "display_data"
    },
    {
     "data": {
      "text/html": [
       "0.5"
      ],
      "text/latex": [
       "0.5"
      ],
      "text/markdown": [
       "0.5"
      ],
      "text/plain": [
       "[1] 0.5"
      ]
     },
     "metadata": {},
     "output_type": "display_data"
    }
   ],
   "source": [
    "n<-length(y.01)\n",
    "n\n",
    "table(y.01)\n",
    "#summary(x).01\n",
    "n1<-sum(y.01)\n",
    "f<-n1/n\n",
    "round(f,3)"
   ]
  },
  {
   "cell_type": "markdown",
   "metadata": {},
   "source": [
    "As we have seen in class, non-standardised data yields instability, so let us standardise x. Again, for agility, we define a function to do it:"
   ]
  },
  {
   "cell_type": "code",
   "execution_count": 14,
   "metadata": {},
   "outputs": [],
   "source": [
    "standardise<-function(x){\n",
    "    #compute means of every column (2 for columns, 1 for rows)) of X\n",
    "    xm<-apply(x,2,mean)\n",
    "    # center each column by substracting its mean\n",
    "    xc<-sweep(x,2,xm,\"-\")\n",
    "    # get standard dev of columns of xc\n",
    "    xs<-apply(xc,2,sd)\n",
    "    # standardise xc by dividing each column by its sd\n",
    "    x0<-sweep(xc,2,xs,\"/\")\n",
    "    return(x0)}"
   ]
  },
  {
   "cell_type": "code",
   "execution_count": 15,
   "metadata": {},
   "outputs": [
    {
     "data": {
      "text/html": [
       "0"
      ],
      "text/latex": [
       "0"
      ],
      "text/markdown": [
       "0"
      ],
      "text/plain": [
       "[1] 0"
      ]
     },
     "metadata": {},
     "output_type": "display_data"
    },
    {
     "data": {
      "text/html": [
       "<style>\n",
       ".dl-inline {width: auto; margin:0; padding: 0}\n",
       ".dl-inline>dt, .dl-inline>dd {float: none; width: auto; display: inline-block}\n",
       ".dl-inline>dt::after {content: \":\\0020\"; padding-right: .5ex}\n",
       ".dl-inline>dt:not(:first-of-type) {padding-left: .5ex}\n",
       "</style><dl class=dl-inline><dt>B_OWNPV_CHI2</dt><dd>1</dd><dt>B_IPCHI2_OWNPV</dt><dd>1</dd><dt>B_FDCHI2_OWNPV</dt><dd>1</dd><dt>B_DIRA_OWNPV</dt><dd>1</dd><dt>B_PT</dt><dd>1</dd><dt>Kst_892_0_IP_OWNPV</dt><dd>1</dd><dt>Kst_892_0_cosThetaH</dt><dd>1</dd><dt>Kplus_IP_OWNPV</dt><dd>1</dd><dt>Kplus_P</dt><dd>1</dd><dt>piminus_IP_OWNPV</dt><dd>1</dd><dt>piminus_P</dt><dd>1</dd><dt>gamma_PT</dt><dd>1</dd><dt>piminus_ETA</dt><dd>1</dd><dt>Kplus_ETA</dt><dd>1</dd></dl>\n"
      ],
      "text/latex": [
       "\\begin{description*}\n",
       "\\item[B\\textbackslash{}\\_OWNPV\\textbackslash{}\\_CHI2] 1\n",
       "\\item[B\\textbackslash{}\\_IPCHI2\\textbackslash{}\\_OWNPV] 1\n",
       "\\item[B\\textbackslash{}\\_FDCHI2\\textbackslash{}\\_OWNPV] 1\n",
       "\\item[B\\textbackslash{}\\_DIRA\\textbackslash{}\\_OWNPV] 1\n",
       "\\item[B\\textbackslash{}\\_PT] 1\n",
       "\\item[Kst\\textbackslash{}\\_892\\textbackslash{}\\_0\\textbackslash{}\\_IP\\textbackslash{}\\_OWNPV] 1\n",
       "\\item[Kst\\textbackslash{}\\_892\\textbackslash{}\\_0\\textbackslash{}\\_cosThetaH] 1\n",
       "\\item[Kplus\\textbackslash{}\\_IP\\textbackslash{}\\_OWNPV] 1\n",
       "\\item[Kplus\\textbackslash{}\\_P] 1\n",
       "\\item[piminus\\textbackslash{}\\_IP\\textbackslash{}\\_OWNPV] 1\n",
       "\\item[piminus\\textbackslash{}\\_P] 1\n",
       "\\item[gamma\\textbackslash{}\\_PT] 1\n",
       "\\item[piminus\\textbackslash{}\\_ETA] 1\n",
       "\\item[Kplus\\textbackslash{}\\_ETA] 1\n",
       "\\end{description*}\n"
      ],
      "text/markdown": [
       "B_OWNPV_CHI2\n",
       ":   1B_IPCHI2_OWNPV\n",
       ":   1B_FDCHI2_OWNPV\n",
       ":   1B_DIRA_OWNPV\n",
       ":   1B_PT\n",
       ":   1Kst_892_0_IP_OWNPV\n",
       ":   1Kst_892_0_cosThetaH\n",
       ":   1Kplus_IP_OWNPV\n",
       ":   1Kplus_P\n",
       ":   1piminus_IP_OWNPV\n",
       ":   1piminus_P\n",
       ":   1gamma_PT\n",
       ":   1piminus_ETA\n",
       ":   1Kplus_ETA\n",
       ":   1\n",
       "\n"
      ],
      "text/plain": [
       "       B_OWNPV_CHI2      B_IPCHI2_OWNPV      B_FDCHI2_OWNPV        B_DIRA_OWNPV \n",
       "                  1                   1                   1                   1 \n",
       "               B_PT  Kst_892_0_IP_OWNPV Kst_892_0_cosThetaH      Kplus_IP_OWNPV \n",
       "                  1                   1                   1                   1 \n",
       "            Kplus_P    piminus_IP_OWNPV           piminus_P            gamma_PT \n",
       "                  1                   1                   1                   1 \n",
       "        piminus_ETA           Kplus_ETA \n",
       "                  1                   1 "
      ]
     },
     "metadata": {},
     "output_type": "display_data"
    }
   ],
   "source": [
    "x0.01<-standardise(x.01)\n",
    "#head(x0.01)\n",
    "# check that all vertical means of x0.01 are indeed 0\n",
    "round(max(abs(apply(x0.01,2,mean))),6) \n",
    "# check that indeed sd's of columns of x0.01 are 1\n",
    "round(apply(x0.01,2,sd), 5)"
   ]
  },
  {
   "cell_type": "markdown",
   "metadata": {},
   "source": [
    "The condition number $\\kappa$ is indeed much smaller after standardisation, meaning a more stable regression:"
   ]
  },
  {
   "cell_type": "code",
   "execution_count": 16,
   "metadata": {},
   "outputs": [
    {
     "data": {
      "text/html": [
       "1243659226.4"
      ],
      "text/latex": [
       "1243659226.4"
      ],
      "text/markdown": [
       "1243659226.4"
      ],
      "text/plain": [
       "[1] 1243659226"
      ]
     },
     "metadata": {},
     "output_type": "display_data"
    },
    {
     "data": {
      "text/html": [
       "13.4"
      ],
      "text/latex": [
       "13.4"
      ],
      "text/markdown": [
       "13.4"
      ],
      "text/plain": [
       "[1] 13.4"
      ]
     },
     "metadata": {},
     "output_type": "display_data"
    }
   ],
   "source": [
    "#have to take the intercept into account as well for the condition number\n",
    "x1.01<-cbind(rep(1,n),x.01)\n",
    "x01.01<-cbind(rep(1,n),x0.01)\n",
    "round(kappa(x1.01),1)\n",
    "round(kappa(x01.01),1)"
   ]
  },
  {
   "cell_type": "markdown",
   "metadata": {},
   "source": [
    "Another thing we should do is check the correlation between predictors (i.e. colinearity, which is invariant under centering and scaling). One should do it for all the available data, so we obtain a suitable dataframe:"
   ]
  },
  {
   "cell_type": "code",
   "execution_count": 17,
   "metadata": {},
   "outputs": [
    {
     "data": {
      "text/html": [
       "'Response'"
      ],
      "text/latex": [
       "'Response'"
      ],
      "text/markdown": [
       "'Response'"
      ],
      "text/plain": [
       "[1] \"Response\""
      ]
     },
     "metadata": {},
     "output_type": "display_data"
    }
   ],
   "source": [
    "colnames(data)[15]"
   ]
  },
  {
   "cell_type": "code",
   "execution_count": 18,
   "metadata": {},
   "outputs": [
    {
     "name": "stdout",
     "output_type": "stream",
     "text": [
      " num [1:212662, 1:15] 28.9 34.2 36.1 14.3 60.5 ...\n",
      " - attr(*, \"dimnames\")=List of 2\n",
      "  ..$ : chr [1:212662] \"1\" \"2\" \"3\" \"4\" ...\n",
      "  ..$ : chr [1:15] \"B_OWNPV_CHI2\" \"B_IPCHI2_OWNPV\" \"B_FDCHI2_OWNPV\" \"B_DIRA_OWNPV\" ...\n"
     ]
    }
   ],
   "source": [
    "x.corr<-model.matrix(Response~.,data)[,-1]\n",
    "cn<-colnames(x.corr)\n",
    "x.corr<-cbind(x.corr, data[, 15]) # add Response column\n",
    "colnames(x.corr)<-c(cn, \"Response\")\n",
    "str(x.corr)\n",
    "#head(x.corr)"
   ]
  },
  {
   "cell_type": "markdown",
   "metadata": {},
   "source": [
    "Note we have included the response in x.corr. this will give us a first hint of which predictors are most important for the classification. The plot of the correlation matrix is:"
   ]
  },
  {
   "cell_type": "code",
   "execution_count": 258,
   "metadata": {},
   "outputs": [
    {
     "data": {
      "image/png": "[encoded data removed]",
      "text/plain": [
       "Plot with title “”"
      ]
     },
     "metadata": {
      "image/png": {
       "height": 480,
       "width": 480
      }
     },
     "output_type": "display_data"
    }
   ],
   "source": [
    "options(repr.plot.width=8,repr.plot.height=8)\n",
    "corrplot(cor(x.corr), type=\"lower\", order=\"hclust\", tl.col=\"black\", tl.srt=45)"
   ]
  },
  {
   "cell_type": "markdown",
   "metadata": {},
   "source": [
    "Looks like we have remarkable positive correlation in the pairs **piminus_ETA/Kplus_ETA**, **B_PT/gamma_PT** and the triplet **piminus_IP_OWNPV/Kst_892_0_IP_OWNPV/Kplus_IP_OWNPV**, and negative correlation in the pairs **Kplus_P/Kst_892_0_cosThetaH**, **Kplus_IP_OWNPV/Kst_892_0_cosThetaH**, **B_DIRA_OWNPV/Kst_892_0_cosThetaH**, **B_DIRA_OWNPV/B_IPCHI2_OWNPV**, **B_PT/piminus_ETA** and **B_PT/Kplus_ETA**.\n",
    "\n",
    "Regarding the response, is has strong negative correlation with **Kst_892_0_cosThetaH** and with **B_IPCHI2_OWNPV**.\n",
    "\n",
    "The correlations between predictors that do not come from their contribution to determining the signal should in principle be picked out by the shrinkage prior, whose purpose is to cancel them by giving them vanishing coefficients."
   ]
  },
  {
   "cell_type": "markdown",
   "metadata": {},
   "source": [
    "## 2. Logistic Regression with Spike and Slab prior"
   ]
  },
  {
   "cell_type": "markdown",
   "metadata": {},
   "source": [
    "### 2.1. Modelling"
   ]
  },
  {
   "cell_type": "markdown",
   "metadata": {},
   "source": [
    "Below we define the model we are using in this case. This function from the library *BoomSpikeSlab* performs a spike and slab prior and then adjusts a logistic regression the dataset. A spike and slab prior for a random variable X is a generative model—i.e., a prior—in which\n",
    "X either attains some fixed value v, called the spike, or is drawn some other prior $p_{slab}(x)$,\n",
    "called the slab. In the case that v = 0, X is either zero, or drawn from some other prior; in\n",
    "this case, the spike and slab prior is sparsity inducing. \n",
    "\n",
    "The spike component, which concentrates its mass at\n",
    "values close to zero, allows shrinkage of small effects to zero, whereas the slab component\n",
    "has its mass spread over a wide range of plausible values for the regression coefficients. To specify spike and slab priors we introduce indicator variables $\\delta = (\\delta_1, . . . , \\delta_d)$ where $\\delta_j$\n",
    "takes the value 1, if $\\alpha_j$\n",
    "is allocated to the slab component and we denote by $\\alpha_\\delta$ the vector\n",
    "comprising those elements of $\\alpha$ where $\\delta_j = 1$. We consider priors, where regression\n",
    "effects allocated to the spike component are independent of each other and independent\n",
    "of $\\alpha_\\delta$ a priori, whereas elements of $\\alpha_\\delta$ may be dependent. These spike and slab priors\n",
    "can be written as:\n",
    "\n",
    "$$\n",
    "p(\\alpha|\\delta) = p_{slab} (\\alpha_\\delta) = \\prod_{j:\\delta_j = 0} p_{spike} (\\alpha_j)\n",
    "$$\n",
    "\n",
    "where $p_{spike}$ and $p_{slab}$ denote the univariate spike and the multivariate slab distribution\n",
    "respectively. "
   ]
  },
  {
   "cell_type": "code",
   "execution_count": 28,
   "metadata": {},
   "outputs": [
    {
     "name": "stdout",
     "output_type": "stream",
     "text": [
      "=-=-=-=-= Iteration 0 Mon Jun 28 17:54:34 2021 =-=-=-=-=\n",
      "=-=-=-=-= Iteration 50 Mon Jun 28 17:54:50 2021 =-=-=-=-=\n",
      "=-=-=-=-= Iteration 100 Mon Jun 28 17:55:09 2021 =-=-=-=-=\n",
      "=-=-=-=-= Iteration 150 Mon Jun 28 17:55:26 2021 =-=-=-=-=\n",
      "=-=-=-=-= Iteration 200 Mon Jun 28 17:55:41 2021 =-=-=-=-=\n",
      "=-=-=-=-= Iteration 250 Mon Jun 28 17:55:56 2021 =-=-=-=-=\n",
      "=-=-=-=-= Iteration 300 Mon Jun 28 17:56:16 2021 =-=-=-=-=\n",
      "=-=-=-=-= Iteration 350 Mon Jun 28 17:56:32 2021 =-=-=-=-=\n",
      "=-=-=-=-= Iteration 400 Mon Jun 28 17:56:52 2021 =-=-=-=-=\n",
      "=-=-=-=-= Iteration 450 Mon Jun 28 17:57:12 2021 =-=-=-=-=\n"
     ]
    }
   ],
   "source": [
    "sample.01 <- logit.spike(y.01~., as.data.frame(x0.01), niter = 500)"
   ]
  },
  {
   "cell_type": "markdown",
   "metadata": {},
   "source": [
    "Visualise output:"
   ]
  },
  {
   "cell_type": "code",
   "execution_count": 20,
   "metadata": {},
   "outputs": [
    {
     "data": {
      "text/plain": [
       "null log likelihood:            -97040.61 \n",
       "posterior mean log likelihood:  -77371.07 \n",
       "posterior max log likelihood:   -77261.12 \n",
       "mean deviance R-sq:             0.2026939 \n",
       "\n",
       "predicted vs observed success rates, by decile:\n",
       "               predicted   observed\n",
       "(0.002,0.154] 0.09813927 0.06507608\n",
       "(0.154,0.248] 0.20189130 0.17714286\n",
       "(0.248,0.338] 0.29363427 0.28714286\n",
       "(0.338,0.422] 0.38032283 0.39157143\n",
       "(0.422,0.504] 0.46277788 0.48964286\n",
       "(0.504,0.585] 0.54497742 0.56928571\n",
       "(0.585,0.667] 0.62585633 0.64728571\n",
       "(0.667,0.749] 0.70764305 0.72914286\n",
       "(0.749,0.842] 0.79429247 0.78914286\n",
       "(0.842,0.996] 0.90065880 0.85457143\n",
       "\n",
       "summary of coefficients:\n",
       "                       mean      sd mean.inc  sd.inc inc.prob\n",
       "Kplus_ETA           -0.6430 0.05200  -0.6450 0.03240    0.996\n",
       "piminus_ETA         -0.5180 0.04160  -0.5200 0.02560    0.996\n",
       "gamma_PT             0.3970 0.03700   0.3990 0.02720    0.996\n",
       "piminus_P            0.3110 0.02730   0.3120 0.01890    0.996\n",
       "Kplus_P              1.0800 0.08330   1.0900 0.04720    0.996\n",
       "Kst_892_0_cosThetaH -0.2480 0.02190  -0.2490 0.01530    0.996\n",
       "Kst_892_0_IP_OWNPV   0.3070 0.05700   0.3080 0.05370    0.996\n",
       "B_PT                -0.6300 0.05480  -0.6320 0.03760    0.996\n",
       "B_DIRA_OWNPV         0.0871 0.00945   0.0874 0.00769    0.996\n",
       "B_FDCHI2_OWNPV      -0.3970 0.04560  -0.3980 0.03810    0.996\n",
       "B_IPCHI2_OWNPV      -0.6090 0.04580  -0.6120 0.02470    0.996\n",
       "B_OWNPV_CHI2        -0.0465 0.00636  -0.0467 0.00565    0.996\n",
       "piminus_IP_OWNPV     0.2600 0.03460   0.2620 0.02820    0.994\n",
       "Kplus_IP_OWNPV       0.2160 0.04680   0.2180 0.04380    0.994\n",
       "(Intercept)          0.0000 0.00000   0.0000 0.00000    0.000"
      ]
     },
     "metadata": {},
     "output_type": "display_data"
    }
   ],
   "source": [
    "summary(sample.01)"
   ]
  },
  {
   "cell_type": "markdown",
   "metadata": {},
   "source": [
    "As it can be seen, some of the coefficients are close to zero (B_OWNPV_CHI2, B_DIRA_OWNPV). "
   ]
  },
  {
   "cell_type": "code",
   "execution_count": 24,
   "metadata": {},
   "outputs": [
    {
     "data": {
      "image/png": "[encoded data removed]",
      "text/plain": [
       "plot without title"
      ]
     },
     "metadata": {
      "image/png": {
       "height": 420,
       "width": 420
      }
     },
     "output_type": "display_data"
    }
   ],
   "source": [
    "plot(sample.01)"
   ]
  },
  {
   "cell_type": "markdown",
   "metadata": {},
   "source": [
    "### 2.2. Evaluation"
   ]
  },
  {
   "cell_type": "markdown",
   "metadata": {},
   "source": [
    "To evaluate the model, we consider the train and test deviance, AIC and BIC. Since in this case we are applying Bayesian inference to a classification problem, we also compute the area under de ROC curve, which has the advantage over the latter that it is bounded and has absolute meaning (whereas deviation, AIC and BIC increase indefinitely with the size of the dataset used). Having established at the beginning of the notebook that we are mostly interested in true positives, we also look at recall (a.k.a. sensitivity, the fraction of total positives predicted as such): although we will show the other metrics for completeness, we will concentrate on AUC and recall, the latter computed for the optimal operating point of the ROC curve.\n",
    "\n",
    "Note that for the test we use all samples not included in the corresponding 2000 train subsample, so **we test with about 70 000 samples** each time. We do this to put to use all available information, and we can afford to do so at test because we are just evaluating the logistic function."
   ]
  },
  {
   "cell_type": "code",
   "execution_count": 25,
   "metadata": {},
   "outputs": [],
   "source": [
    "evaluate<-function(sample, x, y, phase, threshold=NULL){\n",
    "    n<-dim(x)[1]    \n",
    "    n.pars<-dim(x)[2]\n",
    "    a <- as.numeric(sub('.*:', '', summary(sample.01$beta)[4,]))[1]\n",
    "    b<-as.numeric(sub('.*:', '', summary(sample.01$beta)[4,]))[2:15]\n",
    "    #probabilities\n",
    "    eta.bar<-a + as.numeric(as.matrix(x) %*% b)\n",
    "    p.bar<-1/(1+exp(-eta.bar))\n",
    "    #log-likelihood\n",
    "    logL.hat<-sum(y * log(p.bar) + (1 - y) * log(1 - p.bar))\n",
    "    #AUC\n",
    "    roc_obj <- roc(y, p.bar)\n",
    "    AUC.hat<-auc(roc_obj)\n",
    "    cat(\"\\n\", phase,\"AUC:\", round(AUC.hat,4)) \n",
    "    #deviance\n",
    "    D.hat<- -2*logL.hat\n",
    "    cat(\"\\n\", phase,\"Deviance:\", round(D.hat,4))  \n",
    "    #AIC\n",
    "    AIC.hat<-D.hat+2*n.pars\n",
    "    cat(\"\\n\", phase,\"AIC:\", round(AIC.hat,4))  \n",
    "    #BIC\n",
    "    BIC.hat<-D.hat+log(n)*n.pars\n",
    "    cat(\"\\n\", phase,\"BIC:\", round(BIC.hat,4))  \n",
    "    #if training phase, print JAGS quantities as well for comparison\n",
    "    if (phase==\"train\"){ \n",
    "        #compute threshold and recall/sensitivity for best operating point\n",
    "        #in ROC curve\n",
    "        rc <- ROC(test=p.bar, stat = as.logical(y), plot=\"ROC\", main=\"Train ROC curve\") \n",
    "        # optimal combination\n",
    "        opt <- which.max(rowSums(rc$res[, c(\"sens\", \"spec\")]))\n",
    "        # optimal cut-off point and corresponding recall\n",
    "        threshold = as.numeric(names(opt))\n",
    "        recall<-rc$res$sens[opt]\n",
    "        cat(\"\\n\", phase, \"recall/sensitivity\", round(recall, 4))\n",
    "        return(threshold)\n",
    "        } else{\n",
    "        check<-y+p.bar\n",
    "        true.p<-0\n",
    "        total.p<-sum(y)\n",
    "        for (num in check){\n",
    "            if (num >= (1+threshold)){\n",
    "            true.p<-true.p+1    \n",
    "            }\n",
    "        }\n",
    "        recall<-true.p/total.p\n",
    "        cat(\"\\n\", phase, \"recall/sensitivity\", round(recall, 4))\n",
    "            \n",
    "        }\n",
    "    \n",
    "    }"
   ]
  },
  {
   "cell_type": "markdown",
   "metadata": {},
   "source": [
    "Having our function, we call it for the result obtained for each original subsample:"
   ]
  },
  {
   "cell_type": "code",
   "execution_count": 26,
   "metadata": {},
   "outputs": [
    {
     "name": "stderr",
     "output_type": "stream",
     "text": [
      "Setting levels: control = 0, case = 1\n",
      "\n",
      "Setting direction: controls < cases\n",
      "\n"
     ]
    },
    {
     "name": "stdout",
     "output_type": "stream",
     "text": [
      "\n",
      " train AUC: 0.7921\n",
      " train Deviance: 154520.2\n",
      " train AIC: 154548.2\n",
      " train BIC: 154686.1\n",
      " train recall/sensitivity 0.7425"
     ]
    },
    {
     "name": "stderr",
     "output_type": "stream",
     "text": [
      "Setting levels: control = 0, case = 1\n",
      "\n",
      "Setting direction: controls < cases\n",
      "\n"
     ]
    },
    {
     "name": "stdout",
     "output_type": "stream",
     "text": [
      "\n",
      " test AUC: 0.7787\n",
      " test Deviance: 122744.1\n",
      " test AIC: 122772.1\n",
      " test BIC: 122900.9\n",
      " test recall/sensitivity 0.8796"
     ]
    },
    {
     "data": {
      "image/png": "[encoded data removed]",
      "text/plain": [
       "Plot with title “Train ROC curve”"
      ]
     },
     "metadata": {
      "image/png": {
       "height": 420,
       "width": 420
      }
     },
     "output_type": "display_data"
    }
   ],
   "source": [
    "#evaluate train\n",
    "thr<-evaluate(sample.01, x0.01, y.01, phase=\"train\")\n",
    "# evaluate test\n",
    "xt<-model.matrix(Response~.,test.01)[,-1] #[,-1] to remove intercept intrduced by model.matrix\n",
    "xt<-standardise(xt)\n",
    "yt<-test.01$Response\n",
    "evaluate(sample.01, xt, yt, phase=\"test\", threshold = thr)"
   ]
  },
  {
   "cell_type": "markdown",
   "metadata": {},
   "source": [
    "We get similar a test AUC of 0.7787, while test recall is 0.8796. Not bad,  although the AUC obtained by the winners of the competition was 0.94 and our own best result was as high as 0.90, both with a neural network. This difference may thus come from the dataset's not being linearly separable, added to the fact that the better results used many more samples for training/learning and many less for testing/\"critisising\" the model. "
   ]
  },
  {
   "cell_type": "code",
   "execution_count": null,
   "metadata": {},
   "outputs": [],
   "source": []
  }
 ],
 "metadata": {
  "kernelspec": {
   "display_name": "R",
   "language": "R",
   "name": "ir"
  },
  "language_info": {
   "codemirror_mode": "r",
   "file_extension": ".r",
   "mimetype": "text/x-r-source",
   "name": "R",
   "pygments_lexer": "r",
   "version": "4.0.4"
  }
 },
 "nbformat": 4,
 "nbformat_minor": 4
}
